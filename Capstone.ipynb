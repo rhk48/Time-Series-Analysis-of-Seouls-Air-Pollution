{
 "cells": [
  {
   "cell_type": "markdown",
   "metadata": {},
   "source": [
    "## Open Data and Imports "
   ]
  },
  {
   "cell_type": "code",
   "execution_count": 1,
   "metadata": {},
   "outputs": [],
   "source": [
    "import pandas as pd \n",
    "import numpy as np\n",
    "import matplotlib.pyplot as plt\n",
    "import seaborn as sns\n",
    "import geopandas as gpd\n",
    "import descartes \n",
    "from shapely.geometry import Point, Polygon\n",
    "\n",
    "\n",
    "%matplotlib inline "
   ]
  },
  {
   "cell_type": "code",
   "execution_count": 2,
   "metadata": {},
   "outputs": [],
   "source": [
    "df = pd.read_csv('Seoul.csv')\n",
    "df_measurements = pd.read_csv('Measurement_info.csv')\n",
    "df_station = pd.read_csv('Measurement_station_info.csv')"
   ]
  },
  {
   "cell_type": "code",
   "execution_count": 3,
   "metadata": {},
   "outputs": [
    {
     "data": {
      "text/html": [
       "<div>\n",
       "<style scoped>\n",
       "    .dataframe tbody tr th:only-of-type {\n",
       "        vertical-align: middle;\n",
       "    }\n",
       "\n",
       "    .dataframe tbody tr th {\n",
       "        vertical-align: top;\n",
       "    }\n",
       "\n",
       "    .dataframe thead th {\n",
       "        text-align: right;\n",
       "    }\n",
       "</style>\n",
       "<table border=\"1\" class=\"dataframe\">\n",
       "  <thead>\n",
       "    <tr style=\"text-align: right;\">\n",
       "      <th></th>\n",
       "      <th>Measurement date</th>\n",
       "      <th>Station code</th>\n",
       "      <th>Address</th>\n",
       "      <th>Latitude</th>\n",
       "      <th>Longitude</th>\n",
       "      <th>SO2</th>\n",
       "      <th>NO2</th>\n",
       "      <th>O3</th>\n",
       "      <th>CO</th>\n",
       "      <th>PM10</th>\n",
       "      <th>PM2.5</th>\n",
       "    </tr>\n",
       "  </thead>\n",
       "  <tbody>\n",
       "    <tr>\n",
       "      <th>0</th>\n",
       "      <td>2017-01-01 00:00</td>\n",
       "      <td>101</td>\n",
       "      <td>19, Jong-ro 35ga-gil, Jongno-gu, Seoul, Republ...</td>\n",
       "      <td>37.572016</td>\n",
       "      <td>127.005007</td>\n",
       "      <td>0.004</td>\n",
       "      <td>0.059</td>\n",
       "      <td>0.002</td>\n",
       "      <td>1.2</td>\n",
       "      <td>73.0</td>\n",
       "      <td>57.0</td>\n",
       "    </tr>\n",
       "    <tr>\n",
       "      <th>1</th>\n",
       "      <td>2017-01-01 01:00</td>\n",
       "      <td>101</td>\n",
       "      <td>19, Jong-ro 35ga-gil, Jongno-gu, Seoul, Republ...</td>\n",
       "      <td>37.572016</td>\n",
       "      <td>127.005007</td>\n",
       "      <td>0.004</td>\n",
       "      <td>0.058</td>\n",
       "      <td>0.002</td>\n",
       "      <td>1.2</td>\n",
       "      <td>71.0</td>\n",
       "      <td>59.0</td>\n",
       "    </tr>\n",
       "    <tr>\n",
       "      <th>2</th>\n",
       "      <td>2017-01-01 02:00</td>\n",
       "      <td>101</td>\n",
       "      <td>19, Jong-ro 35ga-gil, Jongno-gu, Seoul, Republ...</td>\n",
       "      <td>37.572016</td>\n",
       "      <td>127.005007</td>\n",
       "      <td>0.004</td>\n",
       "      <td>0.056</td>\n",
       "      <td>0.002</td>\n",
       "      <td>1.2</td>\n",
       "      <td>70.0</td>\n",
       "      <td>59.0</td>\n",
       "    </tr>\n",
       "    <tr>\n",
       "      <th>3</th>\n",
       "      <td>2017-01-01 03:00</td>\n",
       "      <td>101</td>\n",
       "      <td>19, Jong-ro 35ga-gil, Jongno-gu, Seoul, Republ...</td>\n",
       "      <td>37.572016</td>\n",
       "      <td>127.005007</td>\n",
       "      <td>0.004</td>\n",
       "      <td>0.056</td>\n",
       "      <td>0.002</td>\n",
       "      <td>1.2</td>\n",
       "      <td>70.0</td>\n",
       "      <td>58.0</td>\n",
       "    </tr>\n",
       "    <tr>\n",
       "      <th>4</th>\n",
       "      <td>2017-01-01 04:00</td>\n",
       "      <td>101</td>\n",
       "      <td>19, Jong-ro 35ga-gil, Jongno-gu, Seoul, Republ...</td>\n",
       "      <td>37.572016</td>\n",
       "      <td>127.005007</td>\n",
       "      <td>0.003</td>\n",
       "      <td>0.051</td>\n",
       "      <td>0.002</td>\n",
       "      <td>1.2</td>\n",
       "      <td>69.0</td>\n",
       "      <td>61.0</td>\n",
       "    </tr>\n",
       "    <tr>\n",
       "      <th>...</th>\n",
       "      <td>...</td>\n",
       "      <td>...</td>\n",
       "      <td>...</td>\n",
       "      <td>...</td>\n",
       "      <td>...</td>\n",
       "      <td>...</td>\n",
       "      <td>...</td>\n",
       "      <td>...</td>\n",
       "      <td>...</td>\n",
       "      <td>...</td>\n",
       "      <td>...</td>\n",
       "    </tr>\n",
       "    <tr>\n",
       "      <th>647506</th>\n",
       "      <td>2019-12-31 19:00</td>\n",
       "      <td>125</td>\n",
       "      <td>59, Gucheonmyeon-ro 42-gil, Gangdong-gu, Seoul...</td>\n",
       "      <td>37.544962</td>\n",
       "      <td>127.136792</td>\n",
       "      <td>0.003</td>\n",
       "      <td>0.028</td>\n",
       "      <td>0.013</td>\n",
       "      <td>0.5</td>\n",
       "      <td>23.0</td>\n",
       "      <td>17.0</td>\n",
       "    </tr>\n",
       "    <tr>\n",
       "      <th>647507</th>\n",
       "      <td>2019-12-31 20:00</td>\n",
       "      <td>125</td>\n",
       "      <td>59, Gucheonmyeon-ro 42-gil, Gangdong-gu, Seoul...</td>\n",
       "      <td>37.544962</td>\n",
       "      <td>127.136792</td>\n",
       "      <td>0.003</td>\n",
       "      <td>0.025</td>\n",
       "      <td>0.015</td>\n",
       "      <td>0.4</td>\n",
       "      <td>25.0</td>\n",
       "      <td>19.0</td>\n",
       "    </tr>\n",
       "    <tr>\n",
       "      <th>647508</th>\n",
       "      <td>2019-12-31 21:00</td>\n",
       "      <td>125</td>\n",
       "      <td>59, Gucheonmyeon-ro 42-gil, Gangdong-gu, Seoul...</td>\n",
       "      <td>37.544962</td>\n",
       "      <td>127.136792</td>\n",
       "      <td>0.003</td>\n",
       "      <td>0.023</td>\n",
       "      <td>0.015</td>\n",
       "      <td>0.4</td>\n",
       "      <td>24.0</td>\n",
       "      <td>17.0</td>\n",
       "    </tr>\n",
       "    <tr>\n",
       "      <th>647509</th>\n",
       "      <td>2019-12-31 22:00</td>\n",
       "      <td>125</td>\n",
       "      <td>59, Gucheonmyeon-ro 42-gil, Gangdong-gu, Seoul...</td>\n",
       "      <td>37.544962</td>\n",
       "      <td>127.136792</td>\n",
       "      <td>0.003</td>\n",
       "      <td>0.040</td>\n",
       "      <td>0.004</td>\n",
       "      <td>0.5</td>\n",
       "      <td>25.0</td>\n",
       "      <td>18.0</td>\n",
       "    </tr>\n",
       "    <tr>\n",
       "      <th>647510</th>\n",
       "      <td>2019-12-31 23:00</td>\n",
       "      <td>125</td>\n",
       "      <td>59, Gucheonmyeon-ro 42-gil, Gangdong-gu, Seoul...</td>\n",
       "      <td>37.544962</td>\n",
       "      <td>127.136792</td>\n",
       "      <td>0.003</td>\n",
       "      <td>0.037</td>\n",
       "      <td>0.005</td>\n",
       "      <td>0.5</td>\n",
       "      <td>27.0</td>\n",
       "      <td>18.0</td>\n",
       "    </tr>\n",
       "  </tbody>\n",
       "</table>\n",
       "<p>647511 rows × 11 columns</p>\n",
       "</div>"
      ],
      "text/plain": [
       "        Measurement date  Station code  \\\n",
       "0       2017-01-01 00:00           101   \n",
       "1       2017-01-01 01:00           101   \n",
       "2       2017-01-01 02:00           101   \n",
       "3       2017-01-01 03:00           101   \n",
       "4       2017-01-01 04:00           101   \n",
       "...                  ...           ...   \n",
       "647506  2019-12-31 19:00           125   \n",
       "647507  2019-12-31 20:00           125   \n",
       "647508  2019-12-31 21:00           125   \n",
       "647509  2019-12-31 22:00           125   \n",
       "647510  2019-12-31 23:00           125   \n",
       "\n",
       "                                                  Address   Latitude  \\\n",
       "0       19, Jong-ro 35ga-gil, Jongno-gu, Seoul, Republ...  37.572016   \n",
       "1       19, Jong-ro 35ga-gil, Jongno-gu, Seoul, Republ...  37.572016   \n",
       "2       19, Jong-ro 35ga-gil, Jongno-gu, Seoul, Republ...  37.572016   \n",
       "3       19, Jong-ro 35ga-gil, Jongno-gu, Seoul, Republ...  37.572016   \n",
       "4       19, Jong-ro 35ga-gil, Jongno-gu, Seoul, Republ...  37.572016   \n",
       "...                                                   ...        ...   \n",
       "647506  59, Gucheonmyeon-ro 42-gil, Gangdong-gu, Seoul...  37.544962   \n",
       "647507  59, Gucheonmyeon-ro 42-gil, Gangdong-gu, Seoul...  37.544962   \n",
       "647508  59, Gucheonmyeon-ro 42-gil, Gangdong-gu, Seoul...  37.544962   \n",
       "647509  59, Gucheonmyeon-ro 42-gil, Gangdong-gu, Seoul...  37.544962   \n",
       "647510  59, Gucheonmyeon-ro 42-gil, Gangdong-gu, Seoul...  37.544962   \n",
       "\n",
       "         Longitude    SO2    NO2     O3   CO  PM10  PM2.5  \n",
       "0       127.005007  0.004  0.059  0.002  1.2  73.0   57.0  \n",
       "1       127.005007  0.004  0.058  0.002  1.2  71.0   59.0  \n",
       "2       127.005007  0.004  0.056  0.002  1.2  70.0   59.0  \n",
       "3       127.005007  0.004  0.056  0.002  1.2  70.0   58.0  \n",
       "4       127.005007  0.003  0.051  0.002  1.2  69.0   61.0  \n",
       "...            ...    ...    ...    ...  ...   ...    ...  \n",
       "647506  127.136792  0.003  0.028  0.013  0.5  23.0   17.0  \n",
       "647507  127.136792  0.003  0.025  0.015  0.4  25.0   19.0  \n",
       "647508  127.136792  0.003  0.023  0.015  0.4  24.0   17.0  \n",
       "647509  127.136792  0.003  0.040  0.004  0.5  25.0   18.0  \n",
       "647510  127.136792  0.003  0.037  0.005  0.5  27.0   18.0  \n",
       "\n",
       "[647511 rows x 11 columns]"
      ]
     },
     "execution_count": 3,
     "metadata": {},
     "output_type": "execute_result"
    }
   ],
   "source": [
    "df"
   ]
  },
  {
   "cell_type": "markdown",
   "metadata": {},
   "source": [
    "Create some new columns for date and month"
   ]
  },
  {
   "cell_type": "code",
   "execution_count": 4,
   "metadata": {},
   "outputs": [],
   "source": [
    "df['Time'] = df['Measurement date'].str[11:13]\n",
    "df['Month'] = df['Measurement date'].str[5:7]"
   ]
  },
  {
   "cell_type": "code",
   "execution_count": 5,
   "metadata": {},
   "outputs": [
    {
     "data": {
      "text/html": [
       "<div>\n",
       "<style scoped>\n",
       "    .dataframe tbody tr th:only-of-type {\n",
       "        vertical-align: middle;\n",
       "    }\n",
       "\n",
       "    .dataframe tbody tr th {\n",
       "        vertical-align: top;\n",
       "    }\n",
       "\n",
       "    .dataframe thead th {\n",
       "        text-align: right;\n",
       "    }\n",
       "</style>\n",
       "<table border=\"1\" class=\"dataframe\">\n",
       "  <thead>\n",
       "    <tr style=\"text-align: right;\">\n",
       "      <th></th>\n",
       "      <th>Measurement date</th>\n",
       "      <th>Station code</th>\n",
       "      <th>Address</th>\n",
       "      <th>Latitude</th>\n",
       "      <th>Longitude</th>\n",
       "      <th>SO2</th>\n",
       "      <th>NO2</th>\n",
       "      <th>O3</th>\n",
       "      <th>CO</th>\n",
       "      <th>PM10</th>\n",
       "      <th>PM2.5</th>\n",
       "      <th>Time</th>\n",
       "      <th>Month</th>\n",
       "    </tr>\n",
       "  </thead>\n",
       "  <tbody>\n",
       "    <tr>\n",
       "      <th>0</th>\n",
       "      <td>2017-01-01 00:00</td>\n",
       "      <td>101</td>\n",
       "      <td>19, Jong-ro 35ga-gil, Jongno-gu, Seoul, Republ...</td>\n",
       "      <td>37.572016</td>\n",
       "      <td>127.005007</td>\n",
       "      <td>0.004</td>\n",
       "      <td>0.059</td>\n",
       "      <td>0.002</td>\n",
       "      <td>1.2</td>\n",
       "      <td>73.0</td>\n",
       "      <td>57.0</td>\n",
       "      <td>00</td>\n",
       "      <td>01</td>\n",
       "    </tr>\n",
       "    <tr>\n",
       "      <th>1</th>\n",
       "      <td>2017-01-01 01:00</td>\n",
       "      <td>101</td>\n",
       "      <td>19, Jong-ro 35ga-gil, Jongno-gu, Seoul, Republ...</td>\n",
       "      <td>37.572016</td>\n",
       "      <td>127.005007</td>\n",
       "      <td>0.004</td>\n",
       "      <td>0.058</td>\n",
       "      <td>0.002</td>\n",
       "      <td>1.2</td>\n",
       "      <td>71.0</td>\n",
       "      <td>59.0</td>\n",
       "      <td>01</td>\n",
       "      <td>01</td>\n",
       "    </tr>\n",
       "    <tr>\n",
       "      <th>2</th>\n",
       "      <td>2017-01-01 02:00</td>\n",
       "      <td>101</td>\n",
       "      <td>19, Jong-ro 35ga-gil, Jongno-gu, Seoul, Republ...</td>\n",
       "      <td>37.572016</td>\n",
       "      <td>127.005007</td>\n",
       "      <td>0.004</td>\n",
       "      <td>0.056</td>\n",
       "      <td>0.002</td>\n",
       "      <td>1.2</td>\n",
       "      <td>70.0</td>\n",
       "      <td>59.0</td>\n",
       "      <td>02</td>\n",
       "      <td>01</td>\n",
       "    </tr>\n",
       "    <tr>\n",
       "      <th>3</th>\n",
       "      <td>2017-01-01 03:00</td>\n",
       "      <td>101</td>\n",
       "      <td>19, Jong-ro 35ga-gil, Jongno-gu, Seoul, Republ...</td>\n",
       "      <td>37.572016</td>\n",
       "      <td>127.005007</td>\n",
       "      <td>0.004</td>\n",
       "      <td>0.056</td>\n",
       "      <td>0.002</td>\n",
       "      <td>1.2</td>\n",
       "      <td>70.0</td>\n",
       "      <td>58.0</td>\n",
       "      <td>03</td>\n",
       "      <td>01</td>\n",
       "    </tr>\n",
       "    <tr>\n",
       "      <th>4</th>\n",
       "      <td>2017-01-01 04:00</td>\n",
       "      <td>101</td>\n",
       "      <td>19, Jong-ro 35ga-gil, Jongno-gu, Seoul, Republ...</td>\n",
       "      <td>37.572016</td>\n",
       "      <td>127.005007</td>\n",
       "      <td>0.003</td>\n",
       "      <td>0.051</td>\n",
       "      <td>0.002</td>\n",
       "      <td>1.2</td>\n",
       "      <td>69.0</td>\n",
       "      <td>61.0</td>\n",
       "      <td>04</td>\n",
       "      <td>01</td>\n",
       "    </tr>\n",
       "    <tr>\n",
       "      <th>...</th>\n",
       "      <td>...</td>\n",
       "      <td>...</td>\n",
       "      <td>...</td>\n",
       "      <td>...</td>\n",
       "      <td>...</td>\n",
       "      <td>...</td>\n",
       "      <td>...</td>\n",
       "      <td>...</td>\n",
       "      <td>...</td>\n",
       "      <td>...</td>\n",
       "      <td>...</td>\n",
       "      <td>...</td>\n",
       "      <td>...</td>\n",
       "    </tr>\n",
       "    <tr>\n",
       "      <th>647506</th>\n",
       "      <td>2019-12-31 19:00</td>\n",
       "      <td>125</td>\n",
       "      <td>59, Gucheonmyeon-ro 42-gil, Gangdong-gu, Seoul...</td>\n",
       "      <td>37.544962</td>\n",
       "      <td>127.136792</td>\n",
       "      <td>0.003</td>\n",
       "      <td>0.028</td>\n",
       "      <td>0.013</td>\n",
       "      <td>0.5</td>\n",
       "      <td>23.0</td>\n",
       "      <td>17.0</td>\n",
       "      <td>19</td>\n",
       "      <td>12</td>\n",
       "    </tr>\n",
       "    <tr>\n",
       "      <th>647507</th>\n",
       "      <td>2019-12-31 20:00</td>\n",
       "      <td>125</td>\n",
       "      <td>59, Gucheonmyeon-ro 42-gil, Gangdong-gu, Seoul...</td>\n",
       "      <td>37.544962</td>\n",
       "      <td>127.136792</td>\n",
       "      <td>0.003</td>\n",
       "      <td>0.025</td>\n",
       "      <td>0.015</td>\n",
       "      <td>0.4</td>\n",
       "      <td>25.0</td>\n",
       "      <td>19.0</td>\n",
       "      <td>20</td>\n",
       "      <td>12</td>\n",
       "    </tr>\n",
       "    <tr>\n",
       "      <th>647508</th>\n",
       "      <td>2019-12-31 21:00</td>\n",
       "      <td>125</td>\n",
       "      <td>59, Gucheonmyeon-ro 42-gil, Gangdong-gu, Seoul...</td>\n",
       "      <td>37.544962</td>\n",
       "      <td>127.136792</td>\n",
       "      <td>0.003</td>\n",
       "      <td>0.023</td>\n",
       "      <td>0.015</td>\n",
       "      <td>0.4</td>\n",
       "      <td>24.0</td>\n",
       "      <td>17.0</td>\n",
       "      <td>21</td>\n",
       "      <td>12</td>\n",
       "    </tr>\n",
       "    <tr>\n",
       "      <th>647509</th>\n",
       "      <td>2019-12-31 22:00</td>\n",
       "      <td>125</td>\n",
       "      <td>59, Gucheonmyeon-ro 42-gil, Gangdong-gu, Seoul...</td>\n",
       "      <td>37.544962</td>\n",
       "      <td>127.136792</td>\n",
       "      <td>0.003</td>\n",
       "      <td>0.040</td>\n",
       "      <td>0.004</td>\n",
       "      <td>0.5</td>\n",
       "      <td>25.0</td>\n",
       "      <td>18.0</td>\n",
       "      <td>22</td>\n",
       "      <td>12</td>\n",
       "    </tr>\n",
       "    <tr>\n",
       "      <th>647510</th>\n",
       "      <td>2019-12-31 23:00</td>\n",
       "      <td>125</td>\n",
       "      <td>59, Gucheonmyeon-ro 42-gil, Gangdong-gu, Seoul...</td>\n",
       "      <td>37.544962</td>\n",
       "      <td>127.136792</td>\n",
       "      <td>0.003</td>\n",
       "      <td>0.037</td>\n",
       "      <td>0.005</td>\n",
       "      <td>0.5</td>\n",
       "      <td>27.0</td>\n",
       "      <td>18.0</td>\n",
       "      <td>23</td>\n",
       "      <td>12</td>\n",
       "    </tr>\n",
       "  </tbody>\n",
       "</table>\n",
       "<p>647511 rows × 13 columns</p>\n",
       "</div>"
      ],
      "text/plain": [
       "        Measurement date  Station code  \\\n",
       "0       2017-01-01 00:00           101   \n",
       "1       2017-01-01 01:00           101   \n",
       "2       2017-01-01 02:00           101   \n",
       "3       2017-01-01 03:00           101   \n",
       "4       2017-01-01 04:00           101   \n",
       "...                  ...           ...   \n",
       "647506  2019-12-31 19:00           125   \n",
       "647507  2019-12-31 20:00           125   \n",
       "647508  2019-12-31 21:00           125   \n",
       "647509  2019-12-31 22:00           125   \n",
       "647510  2019-12-31 23:00           125   \n",
       "\n",
       "                                                  Address   Latitude  \\\n",
       "0       19, Jong-ro 35ga-gil, Jongno-gu, Seoul, Republ...  37.572016   \n",
       "1       19, Jong-ro 35ga-gil, Jongno-gu, Seoul, Republ...  37.572016   \n",
       "2       19, Jong-ro 35ga-gil, Jongno-gu, Seoul, Republ...  37.572016   \n",
       "3       19, Jong-ro 35ga-gil, Jongno-gu, Seoul, Republ...  37.572016   \n",
       "4       19, Jong-ro 35ga-gil, Jongno-gu, Seoul, Republ...  37.572016   \n",
       "...                                                   ...        ...   \n",
       "647506  59, Gucheonmyeon-ro 42-gil, Gangdong-gu, Seoul...  37.544962   \n",
       "647507  59, Gucheonmyeon-ro 42-gil, Gangdong-gu, Seoul...  37.544962   \n",
       "647508  59, Gucheonmyeon-ro 42-gil, Gangdong-gu, Seoul...  37.544962   \n",
       "647509  59, Gucheonmyeon-ro 42-gil, Gangdong-gu, Seoul...  37.544962   \n",
       "647510  59, Gucheonmyeon-ro 42-gil, Gangdong-gu, Seoul...  37.544962   \n",
       "\n",
       "         Longitude    SO2    NO2     O3   CO  PM10  PM2.5 Time Month  \n",
       "0       127.005007  0.004  0.059  0.002  1.2  73.0   57.0   00    01  \n",
       "1       127.005007  0.004  0.058  0.002  1.2  71.0   59.0   01    01  \n",
       "2       127.005007  0.004  0.056  0.002  1.2  70.0   59.0   02    01  \n",
       "3       127.005007  0.004  0.056  0.002  1.2  70.0   58.0   03    01  \n",
       "4       127.005007  0.003  0.051  0.002  1.2  69.0   61.0   04    01  \n",
       "...            ...    ...    ...    ...  ...   ...    ...  ...   ...  \n",
       "647506  127.136792  0.003  0.028  0.013  0.5  23.0   17.0   19    12  \n",
       "647507  127.136792  0.003  0.025  0.015  0.4  25.0   19.0   20    12  \n",
       "647508  127.136792  0.003  0.023  0.015  0.4  24.0   17.0   21    12  \n",
       "647509  127.136792  0.003  0.040  0.004  0.5  25.0   18.0   22    12  \n",
       "647510  127.136792  0.003  0.037  0.005  0.5  27.0   18.0   23    12  \n",
       "\n",
       "[647511 rows x 13 columns]"
      ]
     },
     "execution_count": 5,
     "metadata": {},
     "output_type": "execute_result"
    }
   ],
   "source": [
    "df"
   ]
  },
  {
   "cell_type": "markdown",
   "metadata": {},
   "source": [
    "This is a general indiction of what levels of certain pollutants are the worse."
   ]
  },
  {
   "cell_type": "code",
   "execution_count": 6,
   "metadata": {},
   "outputs": [
    {
     "data": {
      "text/html": [
       "<div>\n",
       "<style scoped>\n",
       "    .dataframe tbody tr th:only-of-type {\n",
       "        vertical-align: middle;\n",
       "    }\n",
       "\n",
       "    .dataframe tbody tr th {\n",
       "        vertical-align: top;\n",
       "    }\n",
       "\n",
       "    .dataframe thead th {\n",
       "        text-align: right;\n",
       "    }\n",
       "</style>\n",
       "<table border=\"1\" class=\"dataframe\">\n",
       "  <thead>\n",
       "    <tr style=\"text-align: right;\">\n",
       "      <th></th>\n",
       "      <th>Item code</th>\n",
       "      <th>Item name</th>\n",
       "      <th>Unit of measurement</th>\n",
       "      <th>Good(Blue)</th>\n",
       "      <th>Normal(Green)</th>\n",
       "      <th>Bad(Yellow)</th>\n",
       "      <th>Very bad(Red)</th>\n",
       "    </tr>\n",
       "  </thead>\n",
       "  <tbody>\n",
       "    <tr>\n",
       "      <th>0</th>\n",
       "      <td>1</td>\n",
       "      <td>SO2</td>\n",
       "      <td>ppm</td>\n",
       "      <td>0.02</td>\n",
       "      <td>0.05</td>\n",
       "      <td>0.15</td>\n",
       "      <td>1.0</td>\n",
       "    </tr>\n",
       "    <tr>\n",
       "      <th>1</th>\n",
       "      <td>3</td>\n",
       "      <td>NO2</td>\n",
       "      <td>ppm</td>\n",
       "      <td>0.03</td>\n",
       "      <td>0.06</td>\n",
       "      <td>0.20</td>\n",
       "      <td>2.0</td>\n",
       "    </tr>\n",
       "    <tr>\n",
       "      <th>2</th>\n",
       "      <td>5</td>\n",
       "      <td>CO</td>\n",
       "      <td>ppm</td>\n",
       "      <td>2.00</td>\n",
       "      <td>9.00</td>\n",
       "      <td>15.00</td>\n",
       "      <td>50.0</td>\n",
       "    </tr>\n",
       "    <tr>\n",
       "      <th>3</th>\n",
       "      <td>6</td>\n",
       "      <td>O3</td>\n",
       "      <td>ppm</td>\n",
       "      <td>0.03</td>\n",
       "      <td>0.09</td>\n",
       "      <td>0.15</td>\n",
       "      <td>0.5</td>\n",
       "    </tr>\n",
       "    <tr>\n",
       "      <th>4</th>\n",
       "      <td>8</td>\n",
       "      <td>PM10</td>\n",
       "      <td>Mircrogram/m3</td>\n",
       "      <td>30.00</td>\n",
       "      <td>80.00</td>\n",
       "      <td>150.00</td>\n",
       "      <td>600.0</td>\n",
       "    </tr>\n",
       "    <tr>\n",
       "      <th>5</th>\n",
       "      <td>9</td>\n",
       "      <td>PM2.5</td>\n",
       "      <td>Mircrogram/m3</td>\n",
       "      <td>15.00</td>\n",
       "      <td>35.00</td>\n",
       "      <td>75.00</td>\n",
       "      <td>500.0</td>\n",
       "    </tr>\n",
       "  </tbody>\n",
       "</table>\n",
       "</div>"
      ],
      "text/plain": [
       "   Item code Item name Unit of measurement  Good(Blue)  Normal(Green)  \\\n",
       "0          1       SO2                 ppm        0.02           0.05   \n",
       "1          3       NO2                 ppm        0.03           0.06   \n",
       "2          5        CO                 ppm        2.00           9.00   \n",
       "3          6        O3                 ppm        0.03           0.09   \n",
       "4          8      PM10       Mircrogram/m3       30.00          80.00   \n",
       "5          9     PM2.5       Mircrogram/m3       15.00          35.00   \n",
       "\n",
       "   Bad(Yellow)  Very bad(Red)  \n",
       "0         0.15            1.0  \n",
       "1         0.20            2.0  \n",
       "2        15.00           50.0  \n",
       "3         0.15            0.5  \n",
       "4       150.00          600.0  \n",
       "5        75.00          500.0  "
      ]
     },
     "execution_count": 6,
     "metadata": {},
     "output_type": "execute_result"
    }
   ],
   "source": [
    "df_measurements"
   ]
  },
  {
   "cell_type": "markdown",
   "metadata": {},
   "source": [
    "Station based on district of Seoul"
   ]
  },
  {
   "cell_type": "code",
   "execution_count": 7,
   "metadata": {},
   "outputs": [
    {
     "data": {
      "text/html": [
       "<div>\n",
       "<style scoped>\n",
       "    .dataframe tbody tr th:only-of-type {\n",
       "        vertical-align: middle;\n",
       "    }\n",
       "\n",
       "    .dataframe tbody tr th {\n",
       "        vertical-align: top;\n",
       "    }\n",
       "\n",
       "    .dataframe thead th {\n",
       "        text-align: right;\n",
       "    }\n",
       "</style>\n",
       "<table border=\"1\" class=\"dataframe\">\n",
       "  <thead>\n",
       "    <tr style=\"text-align: right;\">\n",
       "      <th></th>\n",
       "      <th>Station code</th>\n",
       "      <th>Station name(district)</th>\n",
       "      <th>Address</th>\n",
       "      <th>Latitude</th>\n",
       "      <th>Longitude</th>\n",
       "    </tr>\n",
       "  </thead>\n",
       "  <tbody>\n",
       "    <tr>\n",
       "      <th>0</th>\n",
       "      <td>101</td>\n",
       "      <td>Jongno-gu</td>\n",
       "      <td>19, Jong-ro 35ga-gil, Jongno-gu, Seoul, Republ...</td>\n",
       "      <td>37.572016</td>\n",
       "      <td>127.005008</td>\n",
       "    </tr>\n",
       "    <tr>\n",
       "      <th>1</th>\n",
       "      <td>102</td>\n",
       "      <td>Jung-gu</td>\n",
       "      <td>15, Deoksugung-gil, Jung-gu, Seoul, Republic o...</td>\n",
       "      <td>37.564263</td>\n",
       "      <td>126.974676</td>\n",
       "    </tr>\n",
       "    <tr>\n",
       "      <th>2</th>\n",
       "      <td>103</td>\n",
       "      <td>Yongsan-gu</td>\n",
       "      <td>136, Hannam-daero, Yongsan-gu, Seoul, Republic...</td>\n",
       "      <td>37.540033</td>\n",
       "      <td>127.004850</td>\n",
       "    </tr>\n",
       "    <tr>\n",
       "      <th>3</th>\n",
       "      <td>104</td>\n",
       "      <td>Eunpyeong-gu</td>\n",
       "      <td>215, Jinheung-ro, Eunpyeong-gu, Seoul, Republi...</td>\n",
       "      <td>37.609823</td>\n",
       "      <td>126.934848</td>\n",
       "    </tr>\n",
       "    <tr>\n",
       "      <th>4</th>\n",
       "      <td>105</td>\n",
       "      <td>Seodaemun-gu</td>\n",
       "      <td>32, Segeomjeong-ro 4-gil, Seodaemun-gu, Seoul,...</td>\n",
       "      <td>37.593742</td>\n",
       "      <td>126.949679</td>\n",
       "    </tr>\n",
       "    <tr>\n",
       "      <th>5</th>\n",
       "      <td>106</td>\n",
       "      <td>Mapo-gu</td>\n",
       "      <td>10, Poeun-ro 6-gil, Mapo-gu, Seoul, Republic o...</td>\n",
       "      <td>37.555580</td>\n",
       "      <td>126.905597</td>\n",
       "    </tr>\n",
       "    <tr>\n",
       "      <th>6</th>\n",
       "      <td>107</td>\n",
       "      <td>Seongdong-gu</td>\n",
       "      <td>18, Ttukseom-ro 3-gil, Seongdong-gu, Seoul, Re...</td>\n",
       "      <td>37.541864</td>\n",
       "      <td>127.049659</td>\n",
       "    </tr>\n",
       "    <tr>\n",
       "      <th>7</th>\n",
       "      <td>108</td>\n",
       "      <td>Gwangjin-gu</td>\n",
       "      <td>571, Gwangnaru-ro, Gwangjin-gu, Seoul, Republi...</td>\n",
       "      <td>37.547180</td>\n",
       "      <td>127.092493</td>\n",
       "    </tr>\n",
       "    <tr>\n",
       "      <th>8</th>\n",
       "      <td>109</td>\n",
       "      <td>Dongdaemun-gu</td>\n",
       "      <td>43, Cheonho-daero 13-gil, Dongdaemun-gu, Seoul...</td>\n",
       "      <td>37.575743</td>\n",
       "      <td>127.028885</td>\n",
       "    </tr>\n",
       "    <tr>\n",
       "      <th>9</th>\n",
       "      <td>110</td>\n",
       "      <td>Jungnang-gu</td>\n",
       "      <td>369, Yongmasan-ro, Jungnang-gu, Seoul, Republi...</td>\n",
       "      <td>37.584848</td>\n",
       "      <td>127.094023</td>\n",
       "    </tr>\n",
       "    <tr>\n",
       "      <th>10</th>\n",
       "      <td>111</td>\n",
       "      <td>Seongbuk-gu</td>\n",
       "      <td>70, Samyang-ro 2-gil, Seongbuk-gu, Seoul, Repu...</td>\n",
       "      <td>37.606719</td>\n",
       "      <td>127.027279</td>\n",
       "    </tr>\n",
       "    <tr>\n",
       "      <th>11</th>\n",
       "      <td>112</td>\n",
       "      <td>Gangbuk-gu</td>\n",
       "      <td>49, Samyang-ro 139-gil, Gangbuk-gu, Seoul, Rep...</td>\n",
       "      <td>37.647930</td>\n",
       "      <td>127.011952</td>\n",
       "    </tr>\n",
       "    <tr>\n",
       "      <th>12</th>\n",
       "      <td>113</td>\n",
       "      <td>Dobong-gu</td>\n",
       "      <td>34, Sirubong-ro 2-gil, Dobong-gu, Seoul, Repub...</td>\n",
       "      <td>37.654192</td>\n",
       "      <td>127.029088</td>\n",
       "    </tr>\n",
       "    <tr>\n",
       "      <th>13</th>\n",
       "      <td>114</td>\n",
       "      <td>Nowon-gu</td>\n",
       "      <td>17, Sanggye-ro 23-gil, Nowon-gu, Seoul, Republ...</td>\n",
       "      <td>37.658774</td>\n",
       "      <td>127.068505</td>\n",
       "    </tr>\n",
       "    <tr>\n",
       "      <th>14</th>\n",
       "      <td>115</td>\n",
       "      <td>Yangcheon-gu</td>\n",
       "      <td>56, Jungang-ro 52-gil, Yangcheon-gu, Seoul, Re...</td>\n",
       "      <td>37.525939</td>\n",
       "      <td>126.856603</td>\n",
       "    </tr>\n",
       "    <tr>\n",
       "      <th>15</th>\n",
       "      <td>116</td>\n",
       "      <td>Gangseo-gu</td>\n",
       "      <td>71, Gangseo-ro 45da-gil, Gangseo-gu, Seoul, Re...</td>\n",
       "      <td>37.544640</td>\n",
       "      <td>126.835151</td>\n",
       "    </tr>\n",
       "    <tr>\n",
       "      <th>16</th>\n",
       "      <td>117</td>\n",
       "      <td>Guro-gu</td>\n",
       "      <td>45, Gamasan-ro 27-gil, Guro-gu, Seoul, Republi...</td>\n",
       "      <td>37.498498</td>\n",
       "      <td>126.889692</td>\n",
       "    </tr>\n",
       "    <tr>\n",
       "      <th>17</th>\n",
       "      <td>118</td>\n",
       "      <td>Geumcheon-gu</td>\n",
       "      <td>20, Geumha-ro 21-gil, Geumcheon-gu, Seoul, Rep...</td>\n",
       "      <td>37.452357</td>\n",
       "      <td>126.908296</td>\n",
       "    </tr>\n",
       "    <tr>\n",
       "      <th>18</th>\n",
       "      <td>119</td>\n",
       "      <td>Yeongdeungpo-gu</td>\n",
       "      <td>11, Yangsan-ro 23-gil, Yeongdeungpo-gu, Seoul,...</td>\n",
       "      <td>37.525007</td>\n",
       "      <td>126.897370</td>\n",
       "    </tr>\n",
       "    <tr>\n",
       "      <th>19</th>\n",
       "      <td>120</td>\n",
       "      <td>Dongjak-gu</td>\n",
       "      <td>6, Sadang-ro 16a-gil, Dongjak-gu, Seoul, Repub...</td>\n",
       "      <td>37.480917</td>\n",
       "      <td>126.971481</td>\n",
       "    </tr>\n",
       "    <tr>\n",
       "      <th>20</th>\n",
       "      <td>121</td>\n",
       "      <td>Gwanak-gu</td>\n",
       "      <td>14, Sillimdong-gil, Gwanak-gu, Seoul, Republic...</td>\n",
       "      <td>37.487355</td>\n",
       "      <td>126.927102</td>\n",
       "    </tr>\n",
       "    <tr>\n",
       "      <th>21</th>\n",
       "      <td>122</td>\n",
       "      <td>Seocho-gu</td>\n",
       "      <td>16, Sinbanpo-ro 15-gil, Seocho-gu, Seoul, Repu...</td>\n",
       "      <td>37.504547</td>\n",
       "      <td>126.994458</td>\n",
       "    </tr>\n",
       "    <tr>\n",
       "      <th>22</th>\n",
       "      <td>123</td>\n",
       "      <td>Gangnam-gu</td>\n",
       "      <td>426, Hakdong-ro, Gangnam-gu, Seoul, Republic o...</td>\n",
       "      <td>37.517528</td>\n",
       "      <td>127.047470</td>\n",
       "    </tr>\n",
       "    <tr>\n",
       "      <th>23</th>\n",
       "      <td>124</td>\n",
       "      <td>Songpa-gu</td>\n",
       "      <td>236, Baekjegobun-ro, Songpa-gu, Seoul, Republi...</td>\n",
       "      <td>37.502686</td>\n",
       "      <td>127.092509</td>\n",
       "    </tr>\n",
       "    <tr>\n",
       "      <th>24</th>\n",
       "      <td>125</td>\n",
       "      <td>Gangdong-gu</td>\n",
       "      <td>59, Gucheonmyeon-ro 42-gil, Gangdong-gu, Seoul...</td>\n",
       "      <td>37.544962</td>\n",
       "      <td>127.136792</td>\n",
       "    </tr>\n",
       "  </tbody>\n",
       "</table>\n",
       "</div>"
      ],
      "text/plain": [
       "    Station code Station name(district)  \\\n",
       "0            101              Jongno-gu   \n",
       "1            102                Jung-gu   \n",
       "2            103             Yongsan-gu   \n",
       "3            104           Eunpyeong-gu   \n",
       "4            105           Seodaemun-gu   \n",
       "5            106                Mapo-gu   \n",
       "6            107           Seongdong-gu   \n",
       "7            108            Gwangjin-gu   \n",
       "8            109          Dongdaemun-gu   \n",
       "9            110            Jungnang-gu   \n",
       "10           111            Seongbuk-gu   \n",
       "11           112             Gangbuk-gu   \n",
       "12           113              Dobong-gu   \n",
       "13           114               Nowon-gu   \n",
       "14           115           Yangcheon-gu   \n",
       "15           116             Gangseo-gu   \n",
       "16           117                Guro-gu   \n",
       "17           118           Geumcheon-gu   \n",
       "18           119        Yeongdeungpo-gu   \n",
       "19           120             Dongjak-gu   \n",
       "20           121              Gwanak-gu   \n",
       "21           122              Seocho-gu   \n",
       "22           123             Gangnam-gu   \n",
       "23           124              Songpa-gu   \n",
       "24           125            Gangdong-gu   \n",
       "\n",
       "                                              Address   Latitude   Longitude  \n",
       "0   19, Jong-ro 35ga-gil, Jongno-gu, Seoul, Republ...  37.572016  127.005008  \n",
       "1   15, Deoksugung-gil, Jung-gu, Seoul, Republic o...  37.564263  126.974676  \n",
       "2   136, Hannam-daero, Yongsan-gu, Seoul, Republic...  37.540033  127.004850  \n",
       "3   215, Jinheung-ro, Eunpyeong-gu, Seoul, Republi...  37.609823  126.934848  \n",
       "4   32, Segeomjeong-ro 4-gil, Seodaemun-gu, Seoul,...  37.593742  126.949679  \n",
       "5   10, Poeun-ro 6-gil, Mapo-gu, Seoul, Republic o...  37.555580  126.905597  \n",
       "6   18, Ttukseom-ro 3-gil, Seongdong-gu, Seoul, Re...  37.541864  127.049659  \n",
       "7   571, Gwangnaru-ro, Gwangjin-gu, Seoul, Republi...  37.547180  127.092493  \n",
       "8   43, Cheonho-daero 13-gil, Dongdaemun-gu, Seoul...  37.575743  127.028885  \n",
       "9   369, Yongmasan-ro, Jungnang-gu, Seoul, Republi...  37.584848  127.094023  \n",
       "10  70, Samyang-ro 2-gil, Seongbuk-gu, Seoul, Repu...  37.606719  127.027279  \n",
       "11  49, Samyang-ro 139-gil, Gangbuk-gu, Seoul, Rep...  37.647930  127.011952  \n",
       "12  34, Sirubong-ro 2-gil, Dobong-gu, Seoul, Repub...  37.654192  127.029088  \n",
       "13  17, Sanggye-ro 23-gil, Nowon-gu, Seoul, Republ...  37.658774  127.068505  \n",
       "14  56, Jungang-ro 52-gil, Yangcheon-gu, Seoul, Re...  37.525939  126.856603  \n",
       "15  71, Gangseo-ro 45da-gil, Gangseo-gu, Seoul, Re...  37.544640  126.835151  \n",
       "16  45, Gamasan-ro 27-gil, Guro-gu, Seoul, Republi...  37.498498  126.889692  \n",
       "17  20, Geumha-ro 21-gil, Geumcheon-gu, Seoul, Rep...  37.452357  126.908296  \n",
       "18  11, Yangsan-ro 23-gil, Yeongdeungpo-gu, Seoul,...  37.525007  126.897370  \n",
       "19  6, Sadang-ro 16a-gil, Dongjak-gu, Seoul, Repub...  37.480917  126.971481  \n",
       "20  14, Sillimdong-gil, Gwanak-gu, Seoul, Republic...  37.487355  126.927102  \n",
       "21  16, Sinbanpo-ro 15-gil, Seocho-gu, Seoul, Repu...  37.504547  126.994458  \n",
       "22  426, Hakdong-ro, Gangnam-gu, Seoul, Republic o...  37.517528  127.047470  \n",
       "23  236, Baekjegobun-ro, Songpa-gu, Seoul, Republi...  37.502686  127.092509  \n",
       "24  59, Gucheonmyeon-ro 42-gil, Gangdong-gu, Seoul...  37.544962  127.136792  "
      ]
     },
     "execution_count": 7,
     "metadata": {},
     "output_type": "execute_result"
    }
   ],
   "source": [
    "df_station"
   ]
  },
  {
   "cell_type": "markdown",
   "metadata": {},
   "source": [
    "# Some EDA "
   ]
  },
  {
   "cell_type": "code",
   "execution_count": 8,
   "metadata": {},
   "outputs": [
    {
     "name": "stdout",
     "output_type": "stream",
     "text": [
      "<class 'pandas.core.frame.DataFrame'>\n",
      "RangeIndex: 647511 entries, 0 to 647510\n",
      "Data columns (total 13 columns):\n",
      " #   Column            Non-Null Count   Dtype  \n",
      "---  ------            --------------   -----  \n",
      " 0   Measurement date  647511 non-null  object \n",
      " 1   Station code      647511 non-null  int64  \n",
      " 2   Address           647511 non-null  object \n",
      " 3   Latitude          647511 non-null  float64\n",
      " 4   Longitude         647511 non-null  float64\n",
      " 5   SO2               647511 non-null  float64\n",
      " 6   NO2               647511 non-null  float64\n",
      " 7   O3                647511 non-null  float64\n",
      " 8   CO                647511 non-null  float64\n",
      " 9   PM10              647511 non-null  float64\n",
      " 10  PM2.5             647511 non-null  float64\n",
      " 11  Time              647511 non-null  object \n",
      " 12  Month             647511 non-null  object \n",
      "dtypes: float64(8), int64(1), object(4)\n",
      "memory usage: 64.2+ MB\n"
     ]
    }
   ],
   "source": [
    "df.info()"
   ]
  },
  {
   "cell_type": "code",
   "execution_count": 9,
   "metadata": {},
   "outputs": [
    {
     "data": {
      "text/plain": [
       "2019-06-25 03:00    25\n",
       "2018-05-28 10:00    25\n",
       "2019-05-07 01:00    25\n",
       "2018-03-22 15:00    25\n",
       "2017-08-21 05:00    25\n",
       "                    ..\n",
       "2019-08-21 22:00    17\n",
       "2019-08-22 01:00    17\n",
       "2019-08-22 05:00    17\n",
       "2019-03-11 09:00    12\n",
       "2019-08-21 21:00     6\n",
       "Name: Measurement date, Length: 25906, dtype: int64"
      ]
     },
     "execution_count": 9,
     "metadata": {},
     "output_type": "execute_result"
    }
   ],
   "source": [
    "df['Measurement date'].value_counts()"
   ]
  },
  {
   "cell_type": "code",
   "execution_count": 10,
   "metadata": {},
   "outputs": [
    {
     "data": {
      "text/plain": [
       "110    25906\n",
       "116    25906\n",
       "101    25905\n",
       "124    25905\n",
       "102    25905\n",
       "122    25905\n",
       "121    25905\n",
       "106    25905\n",
       "111    25905\n",
       "114    25905\n",
       "103    25904\n",
       "109    25904\n",
       "125    25904\n",
       "115    25904\n",
       "118    25904\n",
       "123    25904\n",
       "104    25896\n",
       "108    25894\n",
       "119    25894\n",
       "120    25894\n",
       "112    25892\n",
       "117    25892\n",
       "113    25892\n",
       "107    25891\n",
       "105    25890\n",
       "Name: Station code, dtype: int64"
      ]
     },
     "execution_count": 10,
     "metadata": {},
     "output_type": "execute_result"
    }
   ],
   "source": [
    "df['Station code'].value_counts()"
   ]
  },
  {
   "cell_type": "code",
   "execution_count": 11,
   "metadata": {},
   "outputs": [
    {
     "data": {
      "text/plain": [
       "25"
      ]
     },
     "execution_count": 11,
     "metadata": {},
     "output_type": "execute_result"
    }
   ],
   "source": [
    "len(df['Station code'].value_counts())"
   ]
  },
  {
   "cell_type": "code",
   "execution_count": 12,
   "metadata": {},
   "outputs": [
    {
     "data": {
      "text/plain": [
       "71, Gangseo-ro 45da-gil, Gangseo-gu, Seoul, Republic of Korea        25906\n",
       "369, Yongmasan-ro, Jungnang-gu, Seoul, Republic of Korea             25906\n",
       "70, Samyang-ro 2-gil, Seongbuk-gu, Seoul, Republic of Korea          25905\n",
       "15, Deoksugung-gil, Jung-gu, Seoul, Republic of Korea                25905\n",
       "14, Sillimdong-gil, Gwanak-gu, Seoul, Republic of Korea              25905\n",
       "19, Jong-ro 35ga-gil, Jongno-gu, Seoul, Republic of Korea            25905\n",
       "16, Sinbanpo-ro 15-gil, Seocho-gu, Seoul, Republic of Korea          25905\n",
       "236, Baekjegobun-ro, Songpa-gu, Seoul, Republic of Korea             25905\n",
       "17, Sanggye-ro 23-gil, Nowon-gu, Seoul, Republic of Korea            25905\n",
       "10, Poeun-ro 6-gil, Mapo-gu, Seoul, Republic of Korea                25905\n",
       "59, Gucheonmyeon-ro 42-gil, Gangdong-gu, Seoul, Republic of Korea    25904\n",
       "56, Jungang-ro 52-gil, Yangcheon-gu, Seoul, Republic of Korea        25904\n",
       "426, Hakdong-ro, Gangnam-gu, Seoul, Republic of Korea                25904\n",
       "43, Cheonho-daero 13-gil, Dongdaemun-gu, Seoul, Republic of Korea    25904\n",
       "20, Geumha-ro 21-gil, Geumcheon-gu, Seoul, Republic of Korea         25904\n",
       "136, Hannam-daero, Yongsan-gu, Seoul, Republic of Korea              25904\n",
       "215, Jinheung-ro, Eunpyeong-gu, Seoul, Republic of Korea             25896\n",
       "6, Sadang-ro 16a-gil, Dongjak-gu, Seoul, Republic of Korea           25894\n",
       "11, Yangsan-ro 23-gil, Yeongdeungpo-gu, Seoul, Republic of Korea     25894\n",
       "571, Gwangnaru-ro, Gwangjin-gu, Seoul, Republic of Korea             25894\n",
       "49, Samyang-ro 139-gil, Gangbuk-gu, Seoul, Republic of Korea         25892\n",
       "45, Gamasan-ro 27-gil, Guro-gu, Seoul, Republic of Korea             25892\n",
       "34, Sirubong-ro 2-gil, Dobong-gu, Seoul, Republic of Korea           25892\n",
       "18, Ttukseom-ro 3-gil, Seongdong-gu, Seoul, Republic of Korea        25891\n",
       "32, Segeomjeong-ro 4-gil, Seodaemun-gu, Seoul, Republic of Korea     25890\n",
       "Name: Address, dtype: int64"
      ]
     },
     "execution_count": 12,
     "metadata": {},
     "output_type": "execute_result"
    }
   ],
   "source": [
    "df['Address'].value_counts()"
   ]
  },
  {
   "cell_type": "code",
   "execution_count": 13,
   "metadata": {},
   "outputs": [
    {
     "data": {
      "text/plain": [
       "25"
      ]
     },
     "execution_count": 13,
     "metadata": {},
     "output_type": "execute_result"
    }
   ],
   "source": [
    "len(df['Address'].value_counts())"
   ]
  },
  {
   "cell_type": "code",
   "execution_count": 14,
   "metadata": {},
   "outputs": [
    {
     "data": {
      "text/plain": [
       "0.004    164446\n",
       "0.003    160557\n",
       "0.005    120280\n",
       "0.006     66332\n",
       "0.002     61063\n",
       "          ...  \n",
       "0.273         1\n",
       "0.122         1\n",
       "0.350         1\n",
       "0.157         1\n",
       "0.092         1\n",
       "Name: SO2, Length: 186, dtype: int64"
      ]
     },
     "execution_count": 14,
     "metadata": {},
     "output_type": "execute_result"
    }
   ],
   "source": [
    "df['SO2'].value_counts()"
   ]
  },
  {
   "cell_type": "code",
   "execution_count": 15,
   "metadata": {},
   "outputs": [
    {
     "data": {
      "text/plain": [
       "0.017     19345\n",
       "0.018     19250\n",
       "0.015     19073\n",
       "0.014     19031\n",
       "0.016     19021\n",
       "          ...  \n",
       "0.235         1\n",
       "0.135         1\n",
       "37.500        1\n",
       "12.805        1\n",
       "0.144         1\n",
       "Name: NO2, Length: 132, dtype: int64"
      ]
     },
     "execution_count": 15,
     "metadata": {},
     "output_type": "execute_result"
    }
   ],
   "source": [
    "df['NO2'].value_counts()"
   ]
  },
  {
   "cell_type": "code",
   "execution_count": 16,
   "metadata": {},
   "outputs": [
    {
     "data": {
      "text/plain": [
       "0.002    41802\n",
       "0.003    27027\n",
       "0.004    18673\n",
       "0.005    16379\n",
       "0.006    14746\n",
       "         ...  \n",
       "0.271        1\n",
       "0.232        1\n",
       "0.284        1\n",
       "1.346        1\n",
       "0.459        1\n",
       "Name: O3, Length: 253, dtype: int64"
      ]
     },
     "execution_count": 16,
     "metadata": {},
     "output_type": "execute_result"
    }
   ],
   "source": [
    "df['O3'].value_counts()"
   ]
  },
  {
   "cell_type": "code",
   "execution_count": 17,
   "metadata": {},
   "outputs": [
    {
     "data": {
      "text/plain": [
       "0.4     144089\n",
       "0.5     116213\n",
       "0.3     114549\n",
       "0.6      79630\n",
       "0.7      50776\n",
       "         ...  \n",
       "11.1         1\n",
       "19.5         1\n",
       "22.8         1\n",
       "17.2         1\n",
       "26.3         1\n",
       "Name: CO, Length: 172, dtype: int64"
      ]
     },
     "execution_count": 17,
     "metadata": {},
     "output_type": "execute_result"
    }
   ],
   "source": [
    "df['CO'].value_counts()"
   ]
  },
  {
   "cell_type": "code",
   "execution_count": 18,
   "metadata": {},
   "outputs": [
    {
     "data": {
      "text/plain": [
       "27.0      13624\n",
       "28.0      12864\n",
       "26.0      12814\n",
       "29.0      12757\n",
       "30.0      12739\n",
       "          ...  \n",
       "3369.0        1\n",
       "842.0         1\n",
       "3365.0        1\n",
       "3361.0        1\n",
       "3545.0        1\n",
       "Name: PM10, Length: 551, dtype: int64"
      ]
     },
     "execution_count": 18,
     "metadata": {},
     "output_type": "execute_result"
    }
   ],
   "source": [
    "df['PM10'].value_counts()"
   ]
  },
  {
   "cell_type": "code",
   "execution_count": 19,
   "metadata": {},
   "outputs": [
    {
     "data": {
      "text/plain": [
       "17.0     21294\n",
       "16.0     21238\n",
       "14.0     20844\n",
       "12.0     20827\n",
       "15.0     20619\n",
       "         ...  \n",
       "714.0        1\n",
       "372.0        1\n",
       "717.0        1\n",
       "718.0        1\n",
       "282.0        1\n",
       "Name: PM2.5, Length: 333, dtype: int64"
      ]
     },
     "execution_count": 19,
     "metadata": {},
     "output_type": "execute_result"
    }
   ],
   "source": [
    "df['PM2.5'].value_counts()"
   ]
  },
  {
   "cell_type": "code",
   "execution_count": 20,
   "metadata": {},
   "outputs": [
    {
     "name": "stdout",
     "output_type": "stream",
     "text": [
      "<class 'pandas.core.frame.DataFrame'>\n",
      "RangeIndex: 647511 entries, 0 to 647510\n",
      "Data columns (total 13 columns):\n",
      " #   Column            Non-Null Count   Dtype  \n",
      "---  ------            --------------   -----  \n",
      " 0   Measurement date  647511 non-null  object \n",
      " 1   Station code      647511 non-null  int64  \n",
      " 2   Address           647511 non-null  object \n",
      " 3   Latitude          647511 non-null  float64\n",
      " 4   Longitude         647511 non-null  float64\n",
      " 5   SO2               647511 non-null  float64\n",
      " 6   NO2               647511 non-null  float64\n",
      " 7   O3                647511 non-null  float64\n",
      " 8   CO                647511 non-null  float64\n",
      " 9   PM10              647511 non-null  float64\n",
      " 10  PM2.5             647511 non-null  float64\n",
      " 11  Time              647511 non-null  object \n",
      " 12  Month             647511 non-null  object \n",
      "dtypes: float64(8), int64(1), object(4)\n",
      "memory usage: 64.2+ MB\n"
     ]
    }
   ],
   "source": [
    "df.info()"
   ]
  },
  {
   "cell_type": "markdown",
   "metadata": {},
   "source": [
    "Looking to see any correlations between any pollutants "
   ]
  },
  {
   "cell_type": "markdown",
   "metadata": {},
   "source": [
    "Lets make a polutant df"
   ]
  },
  {
   "cell_type": "code",
   "execution_count": 21,
   "metadata": {},
   "outputs": [
    {
     "data": {
      "text/html": [
       "<style  type=\"text/css\" >\n",
       "#T_0121ce4c_2b77_11ec_9520_1e0079140662row0_col0,#T_0121ce4c_2b77_11ec_9520_1e0079140662row1_col1,#T_0121ce4c_2b77_11ec_9520_1e0079140662row2_col2,#T_0121ce4c_2b77_11ec_9520_1e0079140662row3_col3,#T_0121ce4c_2b77_11ec_9520_1e0079140662row4_col4,#T_0121ce4c_2b77_11ec_9520_1e0079140662row5_col5{\n",
       "            background-color:  #b40426;\n",
       "            color:  #f1f1f1;\n",
       "        }#T_0121ce4c_2b77_11ec_9520_1e0079140662row0_col1,#T_0121ce4c_2b77_11ec_9520_1e0079140662row1_col0{\n",
       "            background-color:  #f7ad90;\n",
       "            color:  #000000;\n",
       "        }#T_0121ce4c_2b77_11ec_9520_1e0079140662row0_col2{\n",
       "            background-color:  #ee8468;\n",
       "            color:  #000000;\n",
       "        }#T_0121ce4c_2b77_11ec_9520_1e0079140662row0_col3{\n",
       "            background-color:  #7597f6;\n",
       "            color:  #000000;\n",
       "        }#T_0121ce4c_2b77_11ec_9520_1e0079140662row0_col4{\n",
       "            background-color:  #3d50c3;\n",
       "            color:  #f1f1f1;\n",
       "        }#T_0121ce4c_2b77_11ec_9520_1e0079140662row0_col5{\n",
       "            background-color:  #3e51c5;\n",
       "            color:  #f1f1f1;\n",
       "        }#T_0121ce4c_2b77_11ec_9520_1e0079140662row1_col2{\n",
       "            background-color:  #f18d6f;\n",
       "            color:  #000000;\n",
       "        }#T_0121ce4c_2b77_11ec_9520_1e0079140662row1_col3{\n",
       "            background-color:  #5d7ce6;\n",
       "            color:  #000000;\n",
       "        }#T_0121ce4c_2b77_11ec_9520_1e0079140662row1_col4{\n",
       "            background-color:  #3f53c6;\n",
       "            color:  #f1f1f1;\n",
       "        }#T_0121ce4c_2b77_11ec_9520_1e0079140662row1_col5{\n",
       "            background-color:  #4257c9;\n",
       "            color:  #f1f1f1;\n",
       "        }#T_0121ce4c_2b77_11ec_9520_1e0079140662row2_col0{\n",
       "            background-color:  #ee8669;\n",
       "            color:  #000000;\n",
       "        }#T_0121ce4c_2b77_11ec_9520_1e0079140662row2_col1{\n",
       "            background-color:  #f29072;\n",
       "            color:  #000000;\n",
       "        }#T_0121ce4c_2b77_11ec_9520_1e0079140662row2_col3{\n",
       "            background-color:  #485fd1;\n",
       "            color:  #f1f1f1;\n",
       "        }#T_0121ce4c_2b77_11ec_9520_1e0079140662row2_col4,#T_0121ce4c_2b77_11ec_9520_1e0079140662row2_col5,#T_0121ce4c_2b77_11ec_9520_1e0079140662row4_col0,#T_0121ce4c_2b77_11ec_9520_1e0079140662row4_col1,#T_0121ce4c_2b77_11ec_9520_1e0079140662row4_col3,#T_0121ce4c_2b77_11ec_9520_1e0079140662row5_col0,#T_0121ce4c_2b77_11ec_9520_1e0079140662row5_col1,#T_0121ce4c_2b77_11ec_9520_1e0079140662row5_col2{\n",
       "            background-color:  #3b4cc0;\n",
       "            color:  #f1f1f1;\n",
       "        }#T_0121ce4c_2b77_11ec_9520_1e0079140662row3_col0{\n",
       "            background-color:  #94b6ff;\n",
       "            color:  #000000;\n",
       "        }#T_0121ce4c_2b77_11ec_9520_1e0079140662row3_col1,#T_0121ce4c_2b77_11ec_9520_1e0079140662row4_col5{\n",
       "            background-color:  #7b9ff9;\n",
       "            color:  #000000;\n",
       "        }#T_0121ce4c_2b77_11ec_9520_1e0079140662row3_col2{\n",
       "            background-color:  #6e90f2;\n",
       "            color:  #000000;\n",
       "        }#T_0121ce4c_2b77_11ec_9520_1e0079140662row3_col4{\n",
       "            background-color:  #5e7de7;\n",
       "            color:  #000000;\n",
       "        }#T_0121ce4c_2b77_11ec_9520_1e0079140662row3_col5{\n",
       "            background-color:  #6b8df0;\n",
       "            color:  #000000;\n",
       "        }#T_0121ce4c_2b77_11ec_9520_1e0079140662row4_col2{\n",
       "            background-color:  #3c4ec2;\n",
       "            color:  #f1f1f1;\n",
       "        }#T_0121ce4c_2b77_11ec_9520_1e0079140662row5_col3{\n",
       "            background-color:  #455cce;\n",
       "            color:  #f1f1f1;\n",
       "        }#T_0121ce4c_2b77_11ec_9520_1e0079140662row5_col4{\n",
       "            background-color:  #7a9df8;\n",
       "            color:  #000000;\n",
       "        }</style><table id=\"T_0121ce4c_2b77_11ec_9520_1e0079140662\" ><thead>    <tr>        <th class=\"blank level0\" ></th>        <th class=\"col_heading level0 col0\" >SO2</th>        <th class=\"col_heading level0 col1\" >NO2</th>        <th class=\"col_heading level0 col2\" >O3</th>        <th class=\"col_heading level0 col3\" >CO</th>        <th class=\"col_heading level0 col4\" >PM10</th>        <th class=\"col_heading level0 col5\" >PM2.5</th>    </tr></thead><tbody>\n",
       "                <tr>\n",
       "                        <th id=\"T_0121ce4c_2b77_11ec_9520_1e0079140662level0_row0\" class=\"row_heading level0 row0\" >SO2</th>\n",
       "                        <td id=\"T_0121ce4c_2b77_11ec_9520_1e0079140662row0_col0\" class=\"data row0 col0\" >1.000000</td>\n",
       "                        <td id=\"T_0121ce4c_2b77_11ec_9520_1e0079140662row0_col1\" class=\"data row0 col1\" >0.712422</td>\n",
       "                        <td id=\"T_0121ce4c_2b77_11ec_9520_1e0079140662row0_col2\" class=\"data row0 col2\" >0.805551</td>\n",
       "                        <td id=\"T_0121ce4c_2b77_11ec_9520_1e0079140662row0_col3\" class=\"data row0 col3\" >0.304923</td>\n",
       "                        <td id=\"T_0121ce4c_2b77_11ec_9520_1e0079140662row0_col4\" class=\"data row0 col4\" >0.048573</td>\n",
       "                        <td id=\"T_0121ce4c_2b77_11ec_9520_1e0079140662row0_col5\" class=\"data row0 col5\" >0.047531</td>\n",
       "            </tr>\n",
       "            <tr>\n",
       "                        <th id=\"T_0121ce4c_2b77_11ec_9520_1e0079140662level0_row1\" class=\"row_heading level0 row1\" >NO2</th>\n",
       "                        <td id=\"T_0121ce4c_2b77_11ec_9520_1e0079140662row1_col0\" class=\"data row1 col0\" >0.712422</td>\n",
       "                        <td id=\"T_0121ce4c_2b77_11ec_9520_1e0079140662row1_col1\" class=\"data row1 col1\" >1.000000</td>\n",
       "                        <td id=\"T_0121ce4c_2b77_11ec_9520_1e0079140662row1_col2\" class=\"data row1 col2\" >0.785805</td>\n",
       "                        <td id=\"T_0121ce4c_2b77_11ec_9520_1e0079140662row1_col3\" class=\"data row1 col3\" >0.245746</td>\n",
       "                        <td id=\"T_0121ce4c_2b77_11ec_9520_1e0079140662row1_col4\" class=\"data row1 col4\" >0.055532</td>\n",
       "                        <td id=\"T_0121ce4c_2b77_11ec_9520_1e0079140662row1_col5\" class=\"data row1 col5\" >0.057844</td>\n",
       "            </tr>\n",
       "            <tr>\n",
       "                        <th id=\"T_0121ce4c_2b77_11ec_9520_1e0079140662level0_row2\" class=\"row_heading level0 row2\" >O3</th>\n",
       "                        <td id=\"T_0121ce4c_2b77_11ec_9520_1e0079140662row2_col0\" class=\"data row2 col0\" >0.805551</td>\n",
       "                        <td id=\"T_0121ce4c_2b77_11ec_9520_1e0079140662row2_col1\" class=\"data row2 col1\" >0.785805</td>\n",
       "                        <td id=\"T_0121ce4c_2b77_11ec_9520_1e0079140662row2_col2\" class=\"data row2 col2\" >1.000000</td>\n",
       "                        <td id=\"T_0121ce4c_2b77_11ec_9520_1e0079140662row2_col3\" class=\"data row2 col3\" >0.188998</td>\n",
       "                        <td id=\"T_0121ce4c_2b77_11ec_9520_1e0079140662row2_col4\" class=\"data row2 col4\" >0.038602</td>\n",
       "                        <td id=\"T_0121ce4c_2b77_11ec_9520_1e0079140662row2_col5\" class=\"data row2 col5\" >0.033868</td>\n",
       "            </tr>\n",
       "            <tr>\n",
       "                        <th id=\"T_0121ce4c_2b77_11ec_9520_1e0079140662level0_row3\" class=\"row_heading level0 row3\" >CO</th>\n",
       "                        <td id=\"T_0121ce4c_2b77_11ec_9520_1e0079140662row3_col0\" class=\"data row3 col0\" >0.304923</td>\n",
       "                        <td id=\"T_0121ce4c_2b77_11ec_9520_1e0079140662row3_col1\" class=\"data row3 col1\" >0.245746</td>\n",
       "                        <td id=\"T_0121ce4c_2b77_11ec_9520_1e0079140662row3_col2\" class=\"data row3 col2\" >0.188998</td>\n",
       "                        <td id=\"T_0121ce4c_2b77_11ec_9520_1e0079140662row3_col3\" class=\"data row3 col3\" >1.000000</td>\n",
       "                        <td id=\"T_0121ce4c_2b77_11ec_9520_1e0079140662row3_col4\" class=\"data row3 col4\" >0.151166</td>\n",
       "                        <td id=\"T_0121ce4c_2b77_11ec_9520_1e0079140662row3_col5\" class=\"data row3 col5\" >0.182867</td>\n",
       "            </tr>\n",
       "            <tr>\n",
       "                        <th id=\"T_0121ce4c_2b77_11ec_9520_1e0079140662level0_row4\" class=\"row_heading level0 row4\" >PM10</th>\n",
       "                        <td id=\"T_0121ce4c_2b77_11ec_9520_1e0079140662row4_col0\" class=\"data row4 col0\" >0.048573</td>\n",
       "                        <td id=\"T_0121ce4c_2b77_11ec_9520_1e0079140662row4_col1\" class=\"data row4 col1\" >0.055532</td>\n",
       "                        <td id=\"T_0121ce4c_2b77_11ec_9520_1e0079140662row4_col2\" class=\"data row4 col2\" >0.038602</td>\n",
       "                        <td id=\"T_0121ce4c_2b77_11ec_9520_1e0079140662row4_col3\" class=\"data row4 col3\" >0.151166</td>\n",
       "                        <td id=\"T_0121ce4c_2b77_11ec_9520_1e0079140662row4_col4\" class=\"data row4 col4\" >1.000000</td>\n",
       "                        <td id=\"T_0121ce4c_2b77_11ec_9520_1e0079140662row4_col5\" class=\"data row4 col5\" >0.228984</td>\n",
       "            </tr>\n",
       "            <tr>\n",
       "                        <th id=\"T_0121ce4c_2b77_11ec_9520_1e0079140662level0_row5\" class=\"row_heading level0 row5\" >PM2.5</th>\n",
       "                        <td id=\"T_0121ce4c_2b77_11ec_9520_1e0079140662row5_col0\" class=\"data row5 col0\" >0.047531</td>\n",
       "                        <td id=\"T_0121ce4c_2b77_11ec_9520_1e0079140662row5_col1\" class=\"data row5 col1\" >0.057844</td>\n",
       "                        <td id=\"T_0121ce4c_2b77_11ec_9520_1e0079140662row5_col2\" class=\"data row5 col2\" >0.033868</td>\n",
       "                        <td id=\"T_0121ce4c_2b77_11ec_9520_1e0079140662row5_col3\" class=\"data row5 col3\" >0.182867</td>\n",
       "                        <td id=\"T_0121ce4c_2b77_11ec_9520_1e0079140662row5_col4\" class=\"data row5 col4\" >0.228984</td>\n",
       "                        <td id=\"T_0121ce4c_2b77_11ec_9520_1e0079140662row5_col5\" class=\"data row5 col5\" >1.000000</td>\n",
       "            </tr>\n",
       "    </tbody></table>"
      ],
      "text/plain": [
       "<pandas.io.formats.style.Styler at 0x7fa5da6cb610>"
      ]
     },
     "execution_count": 21,
     "metadata": {},
     "output_type": "execute_result"
    }
   ],
   "source": [
    "df_pollutants = df[df.columns[np.r_[5:11]]]\n",
    "df_pollutants.corr().style.background_gradient(cmap='coolwarm')"
   ]
  },
  {
   "cell_type": "markdown",
   "metadata": {},
   "source": [
    "Looking at Stations and different "
   ]
  },
  {
   "cell_type": "code",
   "execution_count": 22,
   "metadata": {},
   "outputs": [
    {
     "data": {
      "image/png": "[encoded data removed]",
      "text/plain": [
       "<Figure size 1440x432 with 1 Axes>"
      ]
     },
     "metadata": {
      "needs_background": "light"
     },
     "output_type": "display_data"
    }
   ],
   "source": [
    "#Pm2.5 Levels by Stations\n",
    "fig, axes = plt.subplots(1, 1, figsize=(20, 6))\n",
    "sns.boxplot(x='Station code', y='PM2.5', data=df, showfliers=False);"
   ]
  },
  {
   "cell_type": "code",
   "execution_count": 23,
   "metadata": {},
   "outputs": [
    {
     "data": {
      "image/png": "[encoded data removed]",
      "text/plain": [
       "<Figure size 1440x432 with 1 Axes>"
      ]
     },
     "metadata": {
      "needs_background": "light"
     },
     "output_type": "display_data"
    }
   ],
   "source": [
    "#SO2 Levels by Stations\n",
    "fig, axes = plt.subplots(1, 1, figsize=(20, 6))\n",
    "sns.boxplot(x='Station code', y='SO2', data=df, showfliers=False);"
   ]
  },
  {
   "cell_type": "code",
   "execution_count": 24,
   "metadata": {},
   "outputs": [
    {
     "data": {
      "image/png": "[encoded data removed]",
      "text/plain": [
       "<Figure size 1440x432 with 1 Axes>"
      ]
     },
     "metadata": {
      "needs_background": "light"
     },
     "output_type": "display_data"
    }
   ],
   "source": [
    "#NO2 Levels by Stations\n",
    "fig, axes = plt.subplots(1, 1, figsize=(20, 6))\n",
    "sns.boxplot(x='Station code', y='NO2', data=df, showfliers=False);"
   ]
  },
  {
   "cell_type": "code",
   "execution_count": 25,
   "metadata": {},
   "outputs": [
    {
     "data": {
      "image/png": "[encoded data removed]",
      "text/plain": [
       "<Figure size 1440x432 with 1 Axes>"
      ]
     },
     "metadata": {
      "needs_background": "light"
     },
     "output_type": "display_data"
    }
   ],
   "source": [
    "#O3 Levels by Stations\n",
    "fig, axes = plt.subplots(1, 1, figsize=(20, 6))\n",
    "sns.boxplot(x='Station code', y='O3', data=df, showfliers=False);"
   ]
  },
  {
   "cell_type": "code",
   "execution_count": 26,
   "metadata": {},
   "outputs": [
    {
     "data": {
      "image/png": "[encoded data removed]",
      "text/plain": [
       "<Figure size 1440x432 with 1 Axes>"
      ]
     },
     "metadata": {
      "needs_background": "light"
     },
     "output_type": "display_data"
    }
   ],
   "source": [
    "#PM10 Levels by Stations\n",
    "fig, axes = plt.subplots(1, 1, figsize=(20, 6))\n",
    "sns.boxplot(x='Station code', y='PM10', data=df, showfliers=False);"
   ]
  },
  {
   "cell_type": "code",
   "execution_count": null,
   "metadata": {},
   "outputs": [],
   "source": []
  },
  {
   "cell_type": "code",
   "execution_count": null,
   "metadata": {},
   "outputs": [],
   "source": []
  },
  {
   "cell_type": "code",
   "execution_count": null,
   "metadata": {},
   "outputs": [],
   "source": []
  },
  {
   "cell_type": "code",
   "execution_count": null,
   "metadata": {},
   "outputs": [],
   "source": []
  },
  {
   "cell_type": "code",
   "execution_count": 27,
   "metadata": {},
   "outputs": [
    {
     "data": {
      "text/plain": [
       "<AxesSubplot:xlabel='Measurement date'>"
      ]
     },
     "execution_count": 27,
     "metadata": {},
     "output_type": "execute_result"
    },
    {
     "data": {
      "image/png": "[encoded data removed]",
      "text/plain": [
       "<Figure size 432x288 with 1 Axes>"
      ]
     },
     "metadata": {
      "needs_background": "light"
     },
     "output_type": "display_data"
    }
   ],
   "source": [
    "df.plot(x='Measurement date', y= 'NO2' )"
   ]
  },
  {
   "cell_type": "code",
   "execution_count": null,
   "metadata": {},
   "outputs": [],
   "source": []
  }
 ],
 "metadata": {
  "kernelspec": {
   "display_name": "Python (learn-env)",
   "language": "python",
   "name": "learn-env"
  },
  "language_info": {
   "codemirror_mode": {
    "name": "ipython",
    "version": 3
   },
   "file_extension": ".py",
   "mimetype": "text/x-python",
   "name": "python",
   "nbconvert_exporter": "python",
   "pygments_lexer": "ipython3",
   "version": "3.8.5"
  }
 },
 "nbformat": 4,
 "nbformat_minor": 4
}
