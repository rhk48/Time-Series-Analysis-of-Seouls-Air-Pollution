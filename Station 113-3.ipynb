{
 "cells": [
  {
   "cell_type": "markdown",
   "metadata": {},
   "source": [
    "## Open Data and Imports "
   ]
  },
  {
   "cell_type": "code",
   "execution_count": null,
   "metadata": {},
   "outputs": [],
   "source": [
    "import pandas as pd \n",
    "import numpy as np\n",
    "import matplotlib.pyplot as plt\n",
    "import seaborn as sns\n",
    "import geopandas as gpd\n",
    "import descartes \n",
    "from shapely.geometry import Point, Polygon\n",
    "import statsmodels.api as sm\n",
    "import pmdarima as pm\n",
    "from statsmodels.tsa.stattools import adfuller\n",
    "from statsmodels.tsa.statespace.sarimax import SARIMAX\n",
    "from statsmodels.tsa.arima.model import  ARIMA\n",
    "from sklearn.metrics import mean_squared_error\n",
    "%matplotlib inline "
   ]
  },
  {
   "cell_type": "code",
   "execution_count": null,
   "metadata": {},
   "outputs": [],
   "source": [
    "raw_df = pd.read_csv('Seoul.csv')\n",
    "df_measurements = pd.read_csv('Measurement_info.csv')\n",
    "df_station = pd.read_csv('Measurement_station_info.csv')"
   ]
  },
  {
   "cell_type": "code",
   "execution_count": null,
   "metadata": {
    "scrolled": true
   },
   "outputs": [],
   "source": [
    "raw_df.head()"
   ]
  },
  {
   "cell_type": "markdown",
   "metadata": {},
   "source": [
    "##### This is a general indiction of what levels of certain pollutants are the worse."
   ]
  },
  {
   "cell_type": "code",
   "execution_count": null,
   "metadata": {},
   "outputs": [],
   "source": [
    "df_measurements"
   ]
  },
  {
   "cell_type": "markdown",
   "metadata": {},
   "source": [
    "##### Station based on district of Seoul"
   ]
  },
  {
   "cell_type": "code",
   "execution_count": null,
   "metadata": {},
   "outputs": [],
   "source": [
    "df_station"
   ]
  },
  {
   "cell_type": "markdown",
   "metadata": {},
   "source": [
    "##### Cutting down to look at the daily average and creating a df that looks at every station and date seperatley "
   ]
  },
  {
   "cell_type": "code",
   "execution_count": null,
   "metadata": {},
   "outputs": [],
   "source": [
    "raw_df['Measurement date'] = raw_df['Measurement date'].str.slice(0, 11)\n",
    "df = raw_df.groupby(['Station code', 'Measurement date']).aggregate({'SO2': 'mean', 'NO2':'mean', 'O3':'mean', 'CO':'mean', 'PM10':'mean', 'PM2.5':'mean'})"
   ]
  },
  {
   "cell_type": "markdown",
   "metadata": {},
   "source": [
    "# Functions Relevant for Creating New Columns"
   ]
  },
  {
   "cell_type": "markdown",
   "metadata": {},
   "source": [
    "##### SO2 Level"
   ]
  },
  {
   "cell_type": "code",
   "execution_count": null,
   "metadata": {},
   "outputs": [],
   "source": [
    "def SO2Level(x):\n",
    "    if x <= 0.02:\n",
    "        return \"Good\"\n",
    "    elif 0.02 < x <= 0.05:\n",
    "        return  \"Normal\"\n",
    "    elif 0.05 < x <= 0.15:\n",
    "        return \"Bad\"\n",
    "    elif 0.15 < x <= 1.0:\n",
    "        return  \"Very Bad\"\n",
    "df['SO2 Level'] = df.apply(lambda row: SO2Level(row.SO2), axis=1)"
   ]
  },
  {
   "cell_type": "markdown",
   "metadata": {},
   "source": [
    "##### NO2 Level"
   ]
  },
  {
   "cell_type": "code",
   "execution_count": null,
   "metadata": {},
   "outputs": [],
   "source": [
    "def NO2Level(x):\n",
    "    if x <= 0.03:\n",
    "        return \"Good\"\n",
    "    elif 0.03 < x <= 0.06:\n",
    "        return \"Normal\"\n",
    "    elif 0.06 < x <= 0.2:\n",
    "        return \"Bad\"\n",
    "    elif 0.2 < x <= 2.0:\n",
    "        return \"Very Bad\"\n",
    "df['NO2 Level'] = df.apply(lambda row: NO2Level(row.NO2), axis=1) "
   ]
  },
  {
   "cell_type": "markdown",
   "metadata": {},
   "source": [
    "##### CO Level"
   ]
  },
  {
   "cell_type": "code",
   "execution_count": null,
   "metadata": {},
   "outputs": [],
   "source": [
    "def COLevel(x):\n",
    "    if x <= 2:\n",
    "        return \"Good\"\n",
    "    elif 2 < x <= 9:\n",
    "        return \"Normal\"\n",
    "    elif 9 < x <= 15:\n",
    "        return \"Bad\"\n",
    "    elif 15 < x <= 50:\n",
    "        return \"Very Bad\"\n",
    "df['CO Level'] = df.apply(lambda row: COLevel(row.CO), axis=1)"
   ]
  },
  {
   "cell_type": "markdown",
   "metadata": {},
   "source": [
    "##### O3 Level"
   ]
  },
  {
   "cell_type": "code",
   "execution_count": null,
   "metadata": {},
   "outputs": [],
   "source": [
    "def O3Level(x):\n",
    "    if x <= 0.03:\n",
    "        return \"Good\"\n",
    "    elif 0.03 < x <= 0.09:\n",
    "        return \"Normal\"\n",
    "    elif 0.09 < x <= 0.15:\n",
    "        return \"Bad\"\n",
    "    elif 0.15 < x <= 0.5:\n",
    "        return \"Very Bad\"\n",
    "df['O3 Level'] = df.apply(lambda row: O3Level(row.O3), axis=1)"
   ]
  },
  {
   "cell_type": "markdown",
   "metadata": {},
   "source": [
    "##### PM10 Level"
   ]
  },
  {
   "cell_type": "code",
   "execution_count": null,
   "metadata": {},
   "outputs": [],
   "source": [
    "def PM10Level(x):\n",
    "    if x <= 30:\n",
    "        return \"Good\"\n",
    "    elif 30 < x <= 80:\n",
    "        return \"Normal\"\n",
    "    elif 80 < x <= 150:\n",
    "        return \"Bad\"\n",
    "    elif 150 < x <= 600:\n",
    "        return \"Very Bad\"\n",
    "df['PM10 Level'] = df.apply(lambda row: PM10Level(row.PM10), axis=1)"
   ]
  },
  {
   "cell_type": "markdown",
   "metadata": {},
   "source": [
    "##### PM2.5 Level"
   ]
  },
  {
   "cell_type": "code",
   "execution_count": null,
   "metadata": {},
   "outputs": [],
   "source": [
    "def PM25Level(x):\n",
    "    if x <= 15:\n",
    "        return \"Good\"\n",
    "    elif 15 < x <= 35:\n",
    "        return \"Normal\"\n",
    "    elif 35 < x <= 75:\n",
    "        return \"Bad\"\n",
    "    elif 75 < x <= 500:\n",
    "        return \"Very Bad\"\n",
    "df['PM2.5 Level'] = df.apply(lambda row: PM25Level(row['PM2.5']), axis=1)"
   ]
  },
  {
   "cell_type": "code",
   "execution_count": null,
   "metadata": {},
   "outputs": [],
   "source": [
    "df"
   ]
  },
  {
   "cell_type": "markdown",
   "metadata": {},
   "source": [
    "# Some EDA "
   ]
  },
  {
   "cell_type": "code",
   "execution_count": null,
   "metadata": {},
   "outputs": [],
   "source": [
    "df.info()"
   ]
  },
  {
   "cell_type": "markdown",
   "metadata": {},
   "source": [
    "Looking to see any correlations between any pollutants "
   ]
  },
  {
   "cell_type": "code",
   "execution_count": null,
   "metadata": {},
   "outputs": [],
   "source": [
    "df.corr().style.background_gradient(cmap='coolwarm')"
   ]
  },
  {
   "cell_type": "markdown",
   "metadata": {},
   "source": [
    "Looking at Stations and different "
   ]
  },
  {
   "cell_type": "code",
   "execution_count": null,
   "metadata": {},
   "outputs": [],
   "source": [
    "#Pm2.5 Levels by Stations\n",
    "fig, axes = plt.subplots(1, 1, figsize=(4, 6))\n",
    "sns.boxplot(y='PM2.5', data=df, showfliers=False);"
   ]
  },
  {
   "cell_type": "code",
   "execution_count": null,
   "metadata": {},
   "outputs": [],
   "source": [
    "#SO2 Levels by Stations\n",
    "fig, axes = plt.subplots(1, 1, figsize=(4, 6))\n",
    "sns.boxplot(y='SO2', data=df, showfliers=False);"
   ]
  },
  {
   "cell_type": "code",
   "execution_count": null,
   "metadata": {},
   "outputs": [],
   "source": [
    "#NO2 Levels by Stations\n",
    "fig, axes = plt.subplots(1, 1, figsize=(4, 6))\n",
    "sns.boxplot(y='NO2', data=df, showfliers=False);"
   ]
  },
  {
   "cell_type": "code",
   "execution_count": null,
   "metadata": {},
   "outputs": [],
   "source": [
    "#O3 Levels by Stations\n",
    "fig, axes = plt.subplots(1, 1, figsize=(4, 6))\n",
    "sns.boxplot(y='O3', data=df, showfliers=False);"
   ]
  },
  {
   "cell_type": "code",
   "execution_count": null,
   "metadata": {},
   "outputs": [],
   "source": [
    "#PM10 Levels by Stations\n",
    "fig, axes = plt.subplots(1, 1, figsize=(4, 6))\n",
    "sns.boxplot(y='PM10', data=df, showfliers=False);"
   ]
  },
  {
   "cell_type": "code",
   "execution_count": null,
   "metadata": {},
   "outputs": [],
   "source": [
    "df = df.reset_index()"
   ]
  },
  {
   "cell_type": "code",
   "execution_count": null,
   "metadata": {},
   "outputs": [],
   "source": [
    "df['Measurement date'] = pd.to_datetime(df['Measurement date'])\n",
    "df.set_index(df['Measurement date'], inplace=True)\n",
    "df = df.drop('Measurement date', axis=1)\n",
    "df"
   ]
  },
  {
   "cell_type": "code",
   "execution_count": null,
   "metadata": {
    "scrolled": false
   },
   "outputs": [],
   "source": [
    "df_station"
   ]
  },
  {
   "cell_type": "markdown",
   "metadata": {},
   "source": [
    "Testing every station and see what pollutants are relavent to each station before modeling and testing. I will sperate every year and see if it shows the variation"
   ]
  },
  {
   "cell_type": "code",
   "execution_count": null,
   "metadata": {},
   "outputs": [],
   "source": [
    "features = ['SO2', 'NO2', 'O3', 'CO', 'PM10', 'PM2.5']"
   ]
  },
  {
   "cell_type": "markdown",
   "metadata": {},
   "source": [
    "## Relevant functions "
   ]
  },
  {
   "cell_type": "code",
   "execution_count": null,
   "metadata": {},
   "outputs": [],
   "source": [
    "def arima_results(endog, test, order=[0,0,0]):\n",
    "    arima = ARIMA(endog, order=order).fit()\n",
    "    \n",
    "    train_hat = arima.predict()\n",
    "    \n",
    "    rmse_train = mean_squared_error(endog,\n",
    "                                    train_hat,\n",
    "                                    squared=False)\n",
    "    \n",
    "    \n",
    "    rmse_test = mean_squared_error(test,\n",
    "                                   arima.predict(), \n",
    "                                   squared=False)\n",
    "    \n",
    " \n",
    "    print(f\"\"\"Train RMSE: {rmse_train}\"\"\")     \n",
    "    print(f\"\"\"Test RMSE: {rmse_test}\"\"\")    \n",
    "    print(f\"\"\"Summary: {arima.summary()}\"\"\")\n",
    "    \n",
    "    return sm"
   ]
  },
  {
   "cell_type": "code",
   "execution_count": null,
   "metadata": {},
   "outputs": [],
   "source": [
    "def stationarity_check(df):     \n",
    "    df_test = adfuller(df)\n",
    "    print('Results of Dickey-Fuller Test: \\n')\n",
    "\n",
    "    dfoutput = pd.Series(df_test[0:4], index=['Test Statistic', 'p-value', \n",
    "                                             '#Lags Used', 'Number of Observations Used'])\n",
    "    for key,value in df_test[4].items():\n",
    "        dfoutput['Critical Value (%s)'%key] = value\n",
    "    print(dfoutput)\n",
    "    return None"
   ]
  },
  {
   "cell_type": "code",
   "execution_count": null,
   "metadata": {},
   "outputs": [],
   "source": [
    "def arimamodel(timeseries):\n",
    "    automodel = pm.auto_arima(timeseries, \n",
    "                              start_p=1, \n",
    "                              start_q=1,\n",
    "                              test=\"adf\",\n",
    "                              seasonal=False,\n",
    "                              trace=True)\n",
    "    return automodel"
   ]
  },
  {
   "cell_type": "code",
   "execution_count": null,
   "metadata": {},
   "outputs": [],
   "source": [
    "def plotarima(n_periods, timeseries, automodel):\n",
    "    # Forecast\n",
    "    fc, confint = automodel.predict(n_periods=n_periods, \n",
    "                                    return_conf_int=True)\n",
    "    # Weekly index\n",
    "    fc_ind = pd.date_range(timeseries.index[timeseries.shape[0]-1], \n",
    "                           periods=n_periods, \n",
    "                           freq=\"W\")\n",
    "    # Forecast series\n",
    "    fc_series = pd.Series(fc, index=fc_ind)\n",
    "    # Upper and lower confidence bounds\n",
    "    lower_series = pd.Series(confint[:, 0], index=fc_ind)\n",
    "    upper_series = pd.Series(confint[:, 1], index=fc_ind)\n",
    "    # Create plot\n",
    "    plt.figure(figsize=(10, 6))\n",
    "    plt.plot(timeseries)\n",
    "    plt.plot(fc_series, color=\"red\")\n",
    "    plt.xlabel(\"date\")\n",
    "    plt.ylabel(timeseries.name)\n",
    "    plt.fill_between(lower_series.index, \n",
    "                     lower_series, \n",
    "                     upper_series, \n",
    "                     color=\"k\", \n",
    "                     alpha=0.25)\n",
    "    plt.legend((\"past\", \"forecast\", \"95% confidence interval\"),  \n",
    "               loc=\"upper left\")\n",
    "    plt.show()"
   ]
  },
  {
   "cell_type": "markdown",
   "metadata": {},
   "source": [
    "# Station 101"
   ]
  },
  {
   "cell_type": "code",
   "execution_count": null,
   "metadata": {},
   "outputs": [],
   "source": [
    "df_101 = df[df['Station code'] == 101]"
   ]
  },
  {
   "cell_type": "code",
   "execution_count": null,
   "metadata": {},
   "outputs": [],
   "source": [
    "df_101"
   ]
  },
  {
   "cell_type": "code",
   "execution_count": null,
   "metadata": {},
   "outputs": [],
   "source": [
    "for feature in features:\n",
    "    fig, ax = plt.subplots(figsize=(50,10))\n",
    "    fig.suptitle(\"Station 101\", fontsize=20)\n",
    "    sns.lineplot(x='Measurement date', y=feature, data=df_101)"
   ]
  },
  {
   "cell_type": "markdown",
   "metadata": {},
   "source": [
    "#### So as seen above for Station 101\n",
    "- NO2 reaches levels of 'Bad' on 24 occasions and sits close to bad on most of the year. \n",
    "- PM10 reaches levels of 'Bad' on 46 occasions and 'Very Bad' on 4, can gets close to bad on many occasions. \n",
    "- Lastly, PM2.5 reaches levels of 'Bad' on 146 occasions and 'Very Bad' on 14 occasions. \n",
    "- Therefore, i will make a new df that only has those three pollutants since I am trying to test for pollutants that are deadly. "
   ]
  },
  {
   "cell_type": "code",
   "execution_count": null,
   "metadata": {},
   "outputs": [],
   "source": [
    "df_101"
   ]
  },
  {
   "cell_type": "markdown",
   "metadata": {},
   "source": [
    "# Picking the relevant columns "
   ]
  },
  {
   "cell_type": "code",
   "execution_count": null,
   "metadata": {},
   "outputs": [],
   "source": [
    "columns = ['NO2', 'PM10', 'PM2.5']\n",
    "df_101 = df_101[columns]\n",
    "df_101"
   ]
  },
  {
   "cell_type": "markdown",
   "metadata": {},
   "source": [
    "# Train-Test Split"
   ]
  },
  {
   "cell_type": "code",
   "execution_count": null,
   "metadata": {},
   "outputs": [],
   "source": [
    "train = df_101[:-542]\n",
    "test = df_101[542:]"
   ]
  },
  {
   "cell_type": "code",
   "execution_count": null,
   "metadata": {},
   "outputs": [],
   "source": [
    "test['NO2'].plot()"
   ]
  },
  {
   "cell_type": "code",
   "execution_count": null,
   "metadata": {},
   "outputs": [],
   "source": [
    "test['PM10'].plot()"
   ]
  },
  {
   "cell_type": "code",
   "execution_count": null,
   "metadata": {},
   "outputs": [],
   "source": [
    "test['PM2.5'].plot()"
   ]
  },
  {
   "cell_type": "code",
   "execution_count": null,
   "metadata": {},
   "outputs": [],
   "source": [
    "train['NO2'].plot()"
   ]
  },
  {
   "cell_type": "code",
   "execution_count": null,
   "metadata": {},
   "outputs": [],
   "source": [
    "train['PM10'].plot()"
   ]
  },
  {
   "cell_type": "code",
   "execution_count": null,
   "metadata": {},
   "outputs": [],
   "source": [
    "train['PM2.5'].plot()"
   ]
  },
  {
   "cell_type": "code",
   "execution_count": null,
   "metadata": {},
   "outputs": [],
   "source": [
    "print(stationarity_check(df_101['PM2.5']))\n",
    "print(stationarity_check(df_101['PM10']))\n",
    "print(stationarity_check(df_101['NO2']))"
   ]
  },
  {
   "cell_type": "markdown",
   "metadata": {},
   "source": [
    "# Rolling Mean Difference Train"
   ]
  },
  {
   "cell_type": "code",
   "execution_count": null,
   "metadata": {},
   "outputs": [],
   "source": [
    "# Apply a 1st order difference to the time series and plot the rolling mean\n",
    "\n",
    "roll_mean_train = train.rolling(window=12).mean()\n",
    "roll_mean_train.plot();\n",
    "\n",
    "rm_diff_1 = roll_mean_train.diff(periods=1)\n",
    "rm_diff_1.plot(figsize=(12,6))\n",
    "\n",
    "\n",
    "rm_diff_2 = roll_mean_train.diff(periods=1).diff(periods=1)\n",
    "rm_diff_2.plot(figsize=(12,6));"
   ]
  },
  {
   "cell_type": "code",
   "execution_count": null,
   "metadata": {},
   "outputs": [],
   "source": [
    "print(stationarity_check(rm_diff_1['PM2.5'].dropna()))\n",
    "print(stationarity_check(rm_diff_1['PM10'].dropna()))\n",
    "print(stationarity_check(rm_diff_1['NO2'].dropna()))"
   ]
  },
  {
   "cell_type": "code",
   "execution_count": null,
   "metadata": {},
   "outputs": [],
   "source": [
    "print(stationarity_check(rm_diff_2['PM2.5'].dropna()))\n",
    "print(stationarity_check(rm_diff_2['PM10'].dropna()))\n",
    "print(stationarity_check(rm_diff_2['NO2'].dropna()))"
   ]
  },
  {
   "cell_type": "markdown",
   "metadata": {},
   "source": [
    "# Rolling Mean Difference Test"
   ]
  },
  {
   "cell_type": "code",
   "execution_count": null,
   "metadata": {
    "scrolled": true
   },
   "outputs": [],
   "source": [
    "# Apply a 1st order difference to the time series and plot the rolling mean\n",
    "\n",
    "roll_mean_test = test.rolling(window=12).mean()\n",
    "roll_mean_test.plot();\n",
    "\n",
    "rm_diff_1 = roll_mean_test.diff(periods=1)\n",
    "rm_diff_1.plot(figsize=(12,6))\n",
    "\n",
    "\n",
    "rm_diff_2 = roll_mean_test.diff(periods=1).diff(periods=1)\n",
    "rm_diff_2.plot(figsize=(12,6));"
   ]
  },
  {
   "cell_type": "code",
   "execution_count": null,
   "metadata": {
    "scrolled": true
   },
   "outputs": [],
   "source": [
    "print(stationarity_check(rm_diff_1['PM2.5'].dropna()))\n",
    "print(stationarity_check(rm_diff_1['PM10'].dropna()))\n",
    "print(stationarity_check(rm_diff_1['NO2'].dropna()))"
   ]
  },
  {
   "cell_type": "code",
   "execution_count": null,
   "metadata": {},
   "outputs": [],
   "source": [
    "print(stationarity_check(rm_diff_2['PM2.5'].dropna()))\n",
    "print(stationarity_check(rm_diff_2['PM10'].dropna()))\n",
    "print(stationarity_check(rm_diff_2['NO2'].dropna()))"
   ]
  },
  {
   "cell_type": "markdown",
   "metadata": {},
   "source": [
    "# First Simple Model "
   ]
  },
  {
   "cell_type": "markdown",
   "metadata": {},
   "source": [
    "# Station 101 PM2.5"
   ]
  },
  {
   "cell_type": "code",
   "execution_count": null,
   "metadata": {},
   "outputs": [],
   "source": [
    "base_model = sm.tsa.statespace.SARIMAX(df_101['PM2.5'], trend='c', order=[0,0,0])\n",
    "res = base_model.fit(disp=False)\n",
    "print(res.summary())"
   ]
  },
  {
   "cell_type": "code",
   "execution_count": null,
   "metadata": {},
   "outputs": [],
   "source": [
    "timeseries = df_101['PM2.5']\n",
    "automodel = arimamodel(df_101['PM2.5'])\n",
    "plotarima(70, timeseries, automodel)"
   ]
  },
  {
   "cell_type": "code",
   "execution_count": null,
   "metadata": {},
   "outputs": [],
   "source": [
    "best_model = sm.tsa.statespace.SARIMAX(df_101['PM2.5'], trend='c', order=[2,0,2])\n",
    "res = best_model.fit(disp=False)\n",
    "print(res.summary())"
   ]
  },
  {
   "cell_type": "code",
   "execution_count": null,
   "metadata": {},
   "outputs": [],
   "source": [
    "model_train = arima_results(train['PM2.5'],test['PM2.5'], order=[2,0,2])"
   ]
  },
  {
   "cell_type": "markdown",
   "metadata": {},
   "source": [
    "# Station 101 NO2"
   ]
  },
  {
   "cell_type": "code",
   "execution_count": null,
   "metadata": {},
   "outputs": [],
   "source": [
    "base_model = sm.tsa.statespace.SARIMAX(df_101['NO2'], trend='c', order=[0,0,0])\n",
    "res = base_model.fit(disp=False)\n",
    "print(res.summary())"
   ]
  },
  {
   "cell_type": "code",
   "execution_count": null,
   "metadata": {},
   "outputs": [],
   "source": [
    "timeseries = df_101['NO2']\n",
    "automodel = arimamodel(df_101['NO2'])\n",
    "plotarima(70, timeseries, automodel)"
   ]
  },
  {
   "cell_type": "code",
   "execution_count": null,
   "metadata": {},
   "outputs": [],
   "source": [
    "best_model = sm.tsa.statespace.SARIMAX(df_101['NO2'], trend='c', order=[1,0,2])\n",
    "res = best_model.fit(disp=False)\n",
    "print(res.summary())"
   ]
  },
  {
   "cell_type": "code",
   "execution_count": null,
   "metadata": {},
   "outputs": [],
   "source": [
    "model_train = arima_results(train['PM2.5'],test['PM2.5'], order=[1,0,2])"
   ]
  },
  {
   "cell_type": "markdown",
   "metadata": {},
   "source": [
    "# Station 101 PM10"
   ]
  },
  {
   "cell_type": "code",
   "execution_count": null,
   "metadata": {},
   "outputs": [],
   "source": [
    "base_model = sm.tsa.statespace.SARIMAX(df_101['PM10'], trend='c', order=[0,0,0])\n",
    "res = base_model.fit(disp=False)\n",
    "print(res.summary())"
   ]
  },
  {
   "cell_type": "code",
   "execution_count": null,
   "metadata": {},
   "outputs": [],
   "source": [
    "timeseries = df_101['PM10']\n",
    "automodel = arimamodel(df_101['PM10'])\n",
    "plotarima(70, timeseries, automodel)"
   ]
  },
  {
   "cell_type": "code",
   "execution_count": null,
   "metadata": {},
   "outputs": [],
   "source": [
    "best_model = sm.tsa.statespace.SARIMAX(df_101['PM10'], trend='c', order=[2,0,2])\n",
    "res = best_model.fit(disp=False)\n",
    "print(res.summary())"
   ]
  },
  {
   "cell_type": "code",
   "execution_count": null,
   "metadata": {},
   "outputs": [],
   "source": [
    "model_train = arima_results(train['PM10'],test['PM10'], order=[2,0,2])"
   ]
  },
  {
   "cell_type": "markdown",
   "metadata": {},
   "source": [
    "# Station 102"
   ]
  },
  {
   "cell_type": "code",
   "execution_count": null,
   "metadata": {},
   "outputs": [],
   "source": [
    "df_102 = df[df['Station code'] == 102]"
   ]
  },
  {
   "cell_type": "code",
   "execution_count": null,
   "metadata": {},
   "outputs": [],
   "source": [
    "df_102['PM2.5 Level'].value_counts()"
   ]
  },
  {
   "cell_type": "code",
   "execution_count": null,
   "metadata": {},
   "outputs": [],
   "source": [
    "df_102.tail()"
   ]
  },
  {
   "cell_type": "code",
   "execution_count": null,
   "metadata": {},
   "outputs": [],
   "source": [
    "for feature in features:\n",
    "    fig, ax = plt.subplots(figsize=(35,8))\n",
    "    fig.suptitle(\"Station 102\", fontsize=20)\n",
    "    ax.set_xlabel('Year, Day', fontsize=20)\n",
    "    sns.lineplot(x='Measurement date', y=feature, data=df_102)"
   ]
  },
  {
   "cell_type": "markdown",
   "metadata": {},
   "source": [
    "##### So as seen above for Station 102\n",
    "- NO2 reaches levels of 'Bad' on 21 occasions and sits close to bad on most of the year.\n",
    "- PM10 reaches levels of 'Bad' on 48 occasions and 'Very Bad' on 4, can gets close to bad on many occasions.\n",
    "- Lastly, PM2.5 reaches levels of 'Bad' on 147 occasions and 'Very Bad' on 12 occasions.\n",
    "- Therefore, i will make a new df that only has those three pollutants since I am trying to test for pollutants that are deadly."
   ]
  },
  {
   "cell_type": "markdown",
   "metadata": {},
   "source": [
    "# Picking the relevant columns"
   ]
  },
  {
   "cell_type": "code",
   "execution_count": null,
   "metadata": {},
   "outputs": [],
   "source": [
    "columns = ['NO2', 'PM10', 'PM2.5']\n",
    "df_102 = df_102[columns]\n",
    "df_102"
   ]
  },
  {
   "cell_type": "markdown",
   "metadata": {},
   "source": [
    "# Train-Test Split"
   ]
  },
  {
   "cell_type": "code",
   "execution_count": null,
   "metadata": {},
   "outputs": [],
   "source": [
    "train = df_102[:-542]\n",
    "test = df_102[542:]"
   ]
  },
  {
   "cell_type": "code",
   "execution_count": null,
   "metadata": {},
   "outputs": [],
   "source": [
    "test['NO2'].plot()"
   ]
  },
  {
   "cell_type": "code",
   "execution_count": null,
   "metadata": {},
   "outputs": [],
   "source": [
    "test['PM10'].plot()"
   ]
  },
  {
   "cell_type": "code",
   "execution_count": null,
   "metadata": {},
   "outputs": [],
   "source": [
    "test['PM2.5'].plot()"
   ]
  },
  {
   "cell_type": "code",
   "execution_count": null,
   "metadata": {},
   "outputs": [],
   "source": [
    "train['NO2'].plot()"
   ]
  },
  {
   "cell_type": "code",
   "execution_count": null,
   "metadata": {},
   "outputs": [],
   "source": [
    "train['PM10'].plot()"
   ]
  },
  {
   "cell_type": "code",
   "execution_count": null,
   "metadata": {},
   "outputs": [],
   "source": [
    "train['PM2.5'].plot()"
   ]
  },
  {
   "cell_type": "code",
   "execution_count": null,
   "metadata": {},
   "outputs": [],
   "source": [
    "print(stationarity_check(df_102['PM2.5']))\n",
    "print(stationarity_check(df_102['PM10']))\n",
    "print(stationarity_check(df_102['NO2']))"
   ]
  },
  {
   "cell_type": "markdown",
   "metadata": {},
   "source": [
    "# Rolling Mean Difference Train¶"
   ]
  },
  {
   "cell_type": "code",
   "execution_count": null,
   "metadata": {},
   "outputs": [],
   "source": [
    "# Apply a 1st order difference to the time series and plot the rolling mean\n",
    "\n",
    "roll_mean_train = train.rolling(window=12).mean()\n",
    "roll_mean_train.plot();\n",
    "\n",
    "rm_diff_1 = roll_mean_train.diff(periods=1)\n",
    "rm_diff_1.plot(figsize=(12,6))\n",
    "\n",
    "\n",
    "rm_diff_2 = roll_mean_train.diff(periods=1).diff(periods=1)\n",
    "rm_diff_2.plot(figsize=(12,6));"
   ]
  },
  {
   "cell_type": "code",
   "execution_count": null,
   "metadata": {},
   "outputs": [],
   "source": [
    "print(stationarity_check(rm_diff_1['PM2.5'].dropna()))\n",
    "print(stationarity_check(rm_diff_1['PM10'].dropna()))\n",
    "print(stationarity_check(rm_diff_1['NO2'].dropna()))"
   ]
  },
  {
   "cell_type": "code",
   "execution_count": null,
   "metadata": {},
   "outputs": [],
   "source": [
    "print(stationarity_check(rm_diff_2['PM2.5'].dropna()))\n",
    "print(stationarity_check(rm_diff_2['PM10'].dropna()))\n",
    "print(stationarity_check(rm_diff_2['NO2'].dropna()))"
   ]
  },
  {
   "cell_type": "markdown",
   "metadata": {},
   "source": [
    "# Rolling Mean Difference Test¶"
   ]
  },
  {
   "cell_type": "code",
   "execution_count": null,
   "metadata": {},
   "outputs": [],
   "source": [
    "# Apply a 1st order difference to the time series and plot the rolling mean\n",
    "\n",
    "roll_mean_test = test.rolling(window=12).mean()\n",
    "roll_mean_test.plot();\n",
    "\n",
    "rm_diff_1 = roll_mean_test.diff(periods=1)\n",
    "rm_diff_1.plot(figsize=(12,6))\n",
    "\n",
    "\n",
    "rm_diff_2 = roll_mean_test.diff(periods=1).diff(periods=1)\n",
    "rm_diff_2.plot(figsize=(12,6));"
   ]
  },
  {
   "cell_type": "code",
   "execution_count": null,
   "metadata": {},
   "outputs": [],
   "source": [
    "print(stationarity_check(rm_diff_1['PM2.5'].dropna()))\n",
    "print(stationarity_check(rm_diff_1['PM10'].dropna()))\n",
    "print(stationarity_check(rm_diff_1['NO2'].dropna()))"
   ]
  },
  {
   "cell_type": "code",
   "execution_count": null,
   "metadata": {},
   "outputs": [],
   "source": [
    "print(stationarity_check(rm_diff_2['PM2.5'].dropna()))\n",
    "print(stationarity_check(rm_diff_2['PM10'].dropna()))\n",
    "print(stationarity_check(rm_diff_2['NO2'].dropna()))"
   ]
  },
  {
   "cell_type": "markdown",
   "metadata": {},
   "source": [
    "# Station 102 PM10"
   ]
  },
  {
   "cell_type": "code",
   "execution_count": null,
   "metadata": {},
   "outputs": [],
   "source": [
    "base_model = sm.tsa.statespace.SARIMAX(df_102['PM10'], trend='c', order=[0,0,0])\n",
    "res = base_model.fit(disp=False)\n",
    "print(res.summary())"
   ]
  },
  {
   "cell_type": "code",
   "execution_count": null,
   "metadata": {},
   "outputs": [],
   "source": [
    "timeseries = df_102['PM10']\n",
    "automodel = arimamodel(df_102['PM10'])\n",
    "plotarima(70, timeseries, automodel)"
   ]
  },
  {
   "cell_type": "code",
   "execution_count": null,
   "metadata": {},
   "outputs": [],
   "source": [
    "best_model = sm.tsa.statespace.SARIMAX(df_102['PM10'], trend='c', order=[2,0,2])\n",
    "res = best_model.fit(disp=False)\n",
    "print(res.summary())"
   ]
  },
  {
   "cell_type": "code",
   "execution_count": null,
   "metadata": {},
   "outputs": [],
   "source": [
    "model_train = arima_results(train['PM10'],test['PM10'], order=[2,0,2])"
   ]
  },
  {
   "cell_type": "markdown",
   "metadata": {},
   "source": [
    "# Station 102 PM2.5"
   ]
  },
  {
   "cell_type": "code",
   "execution_count": null,
   "metadata": {},
   "outputs": [],
   "source": [
    "base_model = sm.tsa.statespace.SARIMAX(df_102['PM2.5'], trend='c', order=[0,0,0])\n",
    "res = base_model.fit(disp=False)\n",
    "print(res.summary())"
   ]
  },
  {
   "cell_type": "code",
   "execution_count": null,
   "metadata": {},
   "outputs": [],
   "source": [
    "timeseries = df_102['PM2.5']\n",
    "automodel = arimamodel(df_102['PM2.5'])\n",
    "plotarima(70, timeseries, automodel)"
   ]
  },
  {
   "cell_type": "code",
   "execution_count": null,
   "metadata": {},
   "outputs": [],
   "source": [
    "best_model = sm.tsa.statespace.SARIMAX(df_102['PM2.5'], trend='c', order=[2,0,2])\n",
    "res = best_model.fit(disp=False)\n",
    "print(res.summary())"
   ]
  },
  {
   "cell_type": "code",
   "execution_count": null,
   "metadata": {},
   "outputs": [],
   "source": [
    "model_train = arima_results(train['PM2.5'],test['PM2.5'], order=[2,0,2])"
   ]
  },
  {
   "cell_type": "markdown",
   "metadata": {},
   "source": [
    "# Station 102 NO2"
   ]
  },
  {
   "cell_type": "code",
   "execution_count": null,
   "metadata": {},
   "outputs": [],
   "source": [
    "base_model = sm.tsa.statespace.SARIMAX(df_102['NO2'], trend='c', order=[0,0,0])\n",
    "res = base_model.fit(disp=False)\n",
    "print(res.summary())"
   ]
  },
  {
   "cell_type": "code",
   "execution_count": null,
   "metadata": {},
   "outputs": [],
   "source": [
    "timeseries = df_102['NO2']\n",
    "automodel = arimamodel(df_102['NO2'])\n",
    "plotarima(70, timeseries, automodel)"
   ]
  },
  {
   "cell_type": "code",
   "execution_count": null,
   "metadata": {},
   "outputs": [],
   "source": [
    "best_model = sm.tsa.statespace.SARIMAX(df_102['NO2'], trend='c', order=[1,0,2])\n",
    "res = best_model.fit(disp=False)\n",
    "print(res.summary())"
   ]
  },
  {
   "cell_type": "code",
   "execution_count": null,
   "metadata": {},
   "outputs": [],
   "source": [
    "model_train = arima_results(train['NO2'],test['NO2'], order=[1,0,2])"
   ]
  },
  {
   "cell_type": "markdown",
   "metadata": {},
   "source": [
    "# Station 103"
   ]
  },
  {
   "cell_type": "code",
   "execution_count": null,
   "metadata": {},
   "outputs": [],
   "source": [
    "df_103 = df[df['Station code'] == 103]"
   ]
  },
  {
   "cell_type": "code",
   "execution_count": null,
   "metadata": {},
   "outputs": [],
   "source": [
    "df_103['PM2.5 Level'].value_counts()"
   ]
  },
  {
   "cell_type": "code",
   "execution_count": null,
   "metadata": {},
   "outputs": [],
   "source": [
    "df_103.head()"
   ]
  },
  {
   "cell_type": "code",
   "execution_count": null,
   "metadata": {},
   "outputs": [],
   "source": [
    "for feature in features:\n",
    "    fig, ax = plt.subplots(figsize=(35,8))\n",
    "    fig.suptitle(\"Station 103\", fontsize=20)\n",
    "    ax.set_xlabel('Year, Day', fontsize=20)\n",
    "    sns.lineplot(x='Measurement date', y=feature, data=df_103)"
   ]
  },
  {
   "cell_type": "markdown",
   "metadata": {},
   "source": [
    "##### So as seen above for Station 103\n",
    "- NO2 reaches levels of 'Bad' on 12 occasions and sits close to bad on most of the year.\n",
    "- PM10 reaches levels of 'Bad' on 43 occasions and 'Very Bad' on 3, can gets close to bad on many occasions.\n",
    "- Lastly, PM2.5 reaches levels of 'Bad' on 172 occasions and 'Very Bad' on 12 occasions.\n",
    "- Therefore, i will make a new df that only has those three pollutants since I am trying to test for pollutants that are deadly."
   ]
  },
  {
   "cell_type": "markdown",
   "metadata": {},
   "source": [
    "# Picking the relevant columns"
   ]
  },
  {
   "cell_type": "code",
   "execution_count": null,
   "metadata": {},
   "outputs": [],
   "source": [
    "columns = ['NO2', 'PM10', 'PM2.5']\n",
    "df_103 = df_103[columns]\n",
    "df_103"
   ]
  },
  {
   "cell_type": "code",
   "execution_count": null,
   "metadata": {},
   "outputs": [],
   "source": [
    "train = df_103[:-542]\n",
    "test = df_103[542:]"
   ]
  },
  {
   "cell_type": "code",
   "execution_count": null,
   "metadata": {},
   "outputs": [],
   "source": [
    "test['NO2'].plot()"
   ]
  },
  {
   "cell_type": "code",
   "execution_count": null,
   "metadata": {},
   "outputs": [],
   "source": [
    "test['PM10'].plot()"
   ]
  },
  {
   "cell_type": "code",
   "execution_count": null,
   "metadata": {},
   "outputs": [],
   "source": [
    "test['PM2.5'].plot()"
   ]
  },
  {
   "cell_type": "code",
   "execution_count": null,
   "metadata": {},
   "outputs": [],
   "source": [
    "train['NO2'].plot()"
   ]
  },
  {
   "cell_type": "code",
   "execution_count": null,
   "metadata": {},
   "outputs": [],
   "source": [
    "train['PM10'].plot()"
   ]
  },
  {
   "cell_type": "code",
   "execution_count": null,
   "metadata": {},
   "outputs": [],
   "source": [
    "train['PM2.5'].plot()"
   ]
  },
  {
   "cell_type": "code",
   "execution_count": null,
   "metadata": {},
   "outputs": [],
   "source": [
    "print(stationarity_check(df_103['PM2.5']))\n",
    "print(stationarity_check(df_103['PM10']))\n",
    "print(stationarity_check(df_103['NO2']))"
   ]
  },
  {
   "cell_type": "markdown",
   "metadata": {},
   "source": [
    "# Rolling Mean Difference Train"
   ]
  },
  {
   "cell_type": "code",
   "execution_count": null,
   "metadata": {},
   "outputs": [],
   "source": [
    "# Apply a 1st order difference to the time series and plot the rolling mean\n",
    "\n",
    "roll_mean_train = train.rolling(window=12).mean()\n",
    "roll_mean_train.plot();\n",
    "\n",
    "rm_diff_1 = roll_mean_train.diff(periods=1)\n",
    "rm_diff_1.plot(figsize=(12,6))\n",
    "\n",
    "\n",
    "rm_diff_2 = roll_mean_train.diff(periods=1).diff(periods=1)\n",
    "rm_diff_2.plot(figsize=(12,6));"
   ]
  },
  {
   "cell_type": "code",
   "execution_count": null,
   "metadata": {},
   "outputs": [],
   "source": [
    "print(stationarity_check(rm_diff_1['PM2.5'].dropna()))\n",
    "print(stationarity_check(rm_diff_1['PM10'].dropna()))\n",
    "print(stationarity_check(rm_diff_1['NO2'].dropna()))"
   ]
  },
  {
   "cell_type": "code",
   "execution_count": null,
   "metadata": {},
   "outputs": [],
   "source": [
    "print(stationarity_check(rm_diff_2['PM2.5'].dropna()))\n",
    "print(stationarity_check(rm_diff_2['PM10'].dropna()))\n",
    "print(stationarity_check(rm_diff_2['NO2'].dropna()))"
   ]
  },
  {
   "cell_type": "markdown",
   "metadata": {},
   "source": [
    "# Rolling Mean Difference Test"
   ]
  },
  {
   "cell_type": "code",
   "execution_count": null,
   "metadata": {},
   "outputs": [],
   "source": [
    "# Apply a 1st order difference to the time series and plot the rolling mean\n",
    "\n",
    "roll_mean_test = test.rolling(window=12).mean()\n",
    "roll_mean_test.plot();\n",
    "\n",
    "rm_diff_1 = roll_mean_test.diff(periods=1)\n",
    "rm_diff_1.plot(figsize=(12,6))\n",
    "\n",
    "\n",
    "rm_diff_2 = roll_mean_test.diff(periods=1).diff(periods=1)\n",
    "rm_diff_2.plot(figsize=(12,6));"
   ]
  },
  {
   "cell_type": "code",
   "execution_count": null,
   "metadata": {},
   "outputs": [],
   "source": [
    "print(stationarity_check(rm_diff_1['PM2.5'].dropna()))\n",
    "print(stationarity_check(rm_diff_1['PM10'].dropna()))\n",
    "print(stationarity_check(rm_diff_1['NO2'].dropna()))"
   ]
  },
  {
   "cell_type": "code",
   "execution_count": null,
   "metadata": {},
   "outputs": [],
   "source": [
    "print(stationarity_check(rm_diff_2['PM2.5'].dropna()))\n",
    "print(stationarity_check(rm_diff_2['PM10'].dropna()))\n",
    "print(stationarity_check(rm_diff_2['NO2'].dropna()))"
   ]
  },
  {
   "cell_type": "markdown",
   "metadata": {},
   "source": [
    "# Station 103 PM10"
   ]
  },
  {
   "cell_type": "code",
   "execution_count": null,
   "metadata": {},
   "outputs": [],
   "source": [
    "base_model = sm.tsa.statespace.SARIMAX(df_103['PM10'], trend='c', order=[0,0,0])\n",
    "res = base_model.fit(disp=False)\n",
    "print(res.summary())"
   ]
  },
  {
   "cell_type": "code",
   "execution_count": null,
   "metadata": {},
   "outputs": [],
   "source": [
    "timeseries = df_103['PM10']\n",
    "automodel = arimamodel(df_103['PM10'])\n",
    "plotarima(70, timeseries, automodel)"
   ]
  },
  {
   "cell_type": "code",
   "execution_count": null,
   "metadata": {},
   "outputs": [],
   "source": [
    "best_model = sm.tsa.statespace.SARIMAX(df_103['PM10'], trend='c', order=[2,0,2])\n",
    "res = best_model.fit(disp=False)\n",
    "print(res.summary())"
   ]
  },
  {
   "cell_type": "code",
   "execution_count": null,
   "metadata": {},
   "outputs": [],
   "source": [
    "model_train = arima_results(train['PM10'],test['PM10'], order=[2,0,2])"
   ]
  },
  {
   "cell_type": "markdown",
   "metadata": {},
   "source": [
    "# Station 103 PM2.5"
   ]
  },
  {
   "cell_type": "code",
   "execution_count": null,
   "metadata": {},
   "outputs": [],
   "source": [
    "base_model = sm.tsa.statespace.SARIMAX(df_103['PM2.5'], trend='c', order=[0,0,0])\n",
    "res = base_model.fit(disp=False)\n",
    "print(res.summary())"
   ]
  },
  {
   "cell_type": "code",
   "execution_count": null,
   "metadata": {},
   "outputs": [],
   "source": [
    "timeseries = df_103['PM2.5']\n",
    "automodel = arimamodel(df_103['PM2.5'])\n",
    "plotarima(70, timeseries, automodel)"
   ]
  },
  {
   "cell_type": "code",
   "execution_count": null,
   "metadata": {},
   "outputs": [],
   "source": [
    "best_model = sm.tsa.statespace.SARIMAX(df_103['PM2.5'], trend='c', order=[1,0,3])\n",
    "res = best_model.fit(disp=False)\n",
    "print(res.summary())"
   ]
  },
  {
   "cell_type": "code",
   "execution_count": null,
   "metadata": {},
   "outputs": [],
   "source": [
    "model_train = arima_results(train['PM2.5'],test['PM2.5'], order=[2,0,2])\n"
   ]
  },
  {
   "cell_type": "markdown",
   "metadata": {},
   "source": [
    "# Station 103 NO2"
   ]
  },
  {
   "cell_type": "code",
   "execution_count": null,
   "metadata": {},
   "outputs": [],
   "source": [
    "base_model = sm.tsa.statespace.SARIMAX(df_103['NO2'], trend='c', order=[0,0,0])\n",
    "res = base_model.fit(disp=False)\n",
    "print(res.summary())"
   ]
  },
  {
   "cell_type": "code",
   "execution_count": null,
   "metadata": {},
   "outputs": [],
   "source": [
    "timeseries = df_103['NO2']\n",
    "automodel = arimamodel(df_103['NO2'])\n",
    "plotarima(70, timeseries, automodel)"
   ]
  },
  {
   "cell_type": "code",
   "execution_count": null,
   "metadata": {},
   "outputs": [],
   "source": [
    "best_model = sm.tsa.statespace.SARIMAX(df_103['NO2'], trend='c', order=[4,0,2])\n",
    "res = best_model.fit(disp=False)\n",
    "print(res.summary())"
   ]
  },
  {
   "cell_type": "code",
   "execution_count": null,
   "metadata": {},
   "outputs": [],
   "source": [
    "model_train = arima_results(train['NO2'],test['NO2'], order=[4,0,2])"
   ]
  },
  {
   "cell_type": "markdown",
   "metadata": {},
   "source": [
    "# Station 104"
   ]
  },
  {
   "cell_type": "code",
   "execution_count": null,
   "metadata": {},
   "outputs": [],
   "source": [
    "df_104 = df[df['Station code'] == 104]"
   ]
  },
  {
   "cell_type": "code",
   "execution_count": null,
   "metadata": {},
   "outputs": [],
   "source": [
    "df_104['PM2.5 Level'].value_counts()"
   ]
  },
  {
   "cell_type": "code",
   "execution_count": null,
   "metadata": {},
   "outputs": [],
   "source": [
    "df_104.head()"
   ]
  },
  {
   "cell_type": "code",
   "execution_count": null,
   "metadata": {},
   "outputs": [],
   "source": [
    "for feature in features:\n",
    "    fig, ax = plt.subplots(figsize=(35,8))\n",
    "    fig.suptitle(\"Station 104\", fontsize=20)\n",
    "    ax.set_xlabel('Year, Day', fontsize=20)\n",
    "    sns.lineplot(x='Measurement date', y=feature, data=df_104)"
   ]
  },
  {
   "cell_type": "markdown",
   "metadata": {},
   "source": [
    "##### So as seen above for Station 104\n",
    "- NO2 reaches levels of 'Bad' on 11 occasions and sits close to bad on most of the year.\n",
    "- PM10 reaches levels of 'Bad' on 69 occasions and 'Very Bad' on 5, can gets close to bad on many occasions.\n",
    "- Lastly, PM2.5 reaches levels of 'Bad' on 183 occasions and 'Very Bad' on 19 occasions.\n",
    "- Therefore, i will make a new df that only has those three pollutants since I am trying to test for pollutants that are deadly."
   ]
  },
  {
   "cell_type": "markdown",
   "metadata": {},
   "source": [
    "# Picking the relevant columns"
   ]
  },
  {
   "cell_type": "code",
   "execution_count": null,
   "metadata": {},
   "outputs": [],
   "source": [
    "columns = ['NO2', 'PM10', 'PM2.5']\n",
    "df_104 = df_104[columns]\n",
    "df_104"
   ]
  },
  {
   "cell_type": "markdown",
   "metadata": {},
   "source": [
    "# Train-Test Split"
   ]
  },
  {
   "cell_type": "code",
   "execution_count": null,
   "metadata": {},
   "outputs": [],
   "source": [
    "train = df_104[:-542]\n",
    "test = df_104[542:]"
   ]
  },
  {
   "cell_type": "code",
   "execution_count": null,
   "metadata": {},
   "outputs": [],
   "source": [
    "test['NO2'].plot()"
   ]
  },
  {
   "cell_type": "code",
   "execution_count": null,
   "metadata": {},
   "outputs": [],
   "source": [
    "test['PM10'].plot()"
   ]
  },
  {
   "cell_type": "code",
   "execution_count": null,
   "metadata": {},
   "outputs": [],
   "source": [
    "test['PM2.5'].plot()"
   ]
  },
  {
   "cell_type": "code",
   "execution_count": null,
   "metadata": {},
   "outputs": [],
   "source": [
    "train['NO2'].plot()"
   ]
  },
  {
   "cell_type": "code",
   "execution_count": null,
   "metadata": {},
   "outputs": [],
   "source": [
    "train['PM10'].plot()"
   ]
  },
  {
   "cell_type": "code",
   "execution_count": null,
   "metadata": {},
   "outputs": [],
   "source": [
    "train['PM2.5'].plot()"
   ]
  },
  {
   "cell_type": "code",
   "execution_count": null,
   "metadata": {},
   "outputs": [],
   "source": [
    "print(stationarity_check(df_101['PM2.5']))\n",
    "print(stationarity_check(df_101['PM10']))\n",
    "print(stationarity_check(df_101['NO2']))"
   ]
  },
  {
   "cell_type": "markdown",
   "metadata": {},
   "source": [
    "# Rolling Mean Difference Train"
   ]
  },
  {
   "cell_type": "code",
   "execution_count": null,
   "metadata": {},
   "outputs": [],
   "source": [
    "# Apply a 1st order difference to the time series and plot the rolling mean\n",
    "\n",
    "roll_mean_test = train.rolling(window=12).mean()\n",
    "roll_mean_test.plot();\n",
    "\n",
    "rm_diff_1 = roll_mean_test.diff(periods=1)\n",
    "rm_diff_1.plot(figsize=(12,6))\n",
    "\n",
    "\n",
    "rm_diff_2 = roll_mean_test.diff(periods=1).diff(periods=1)\n",
    "rm_diff_2.plot(figsize=(12,6));"
   ]
  },
  {
   "cell_type": "code",
   "execution_count": null,
   "metadata": {},
   "outputs": [],
   "source": [
    "print(stationarity_check(rm_diff_1['PM2.5'].dropna()))\n",
    "print(stationarity_check(rm_diff_1['PM10'].dropna()))\n",
    "print(stationarity_check(rm_diff_1['NO2'].dropna()))"
   ]
  },
  {
   "cell_type": "code",
   "execution_count": null,
   "metadata": {},
   "outputs": [],
   "source": [
    "print(stationarity_check(rm_diff_2['PM2.5'].dropna()))\n",
    "print(stationarity_check(rm_diff_2['PM10'].dropna()))\n",
    "print(stationarity_check(rm_diff_2['NO2'].dropna()))"
   ]
  },
  {
   "cell_type": "markdown",
   "metadata": {},
   "source": [
    "# Rolling Mean Difference Train"
   ]
  },
  {
   "cell_type": "code",
   "execution_count": null,
   "metadata": {},
   "outputs": [],
   "source": [
    "# Apply a 1st order difference to the time series and plot the rolling mean\n",
    "\n",
    "roll_mean_train = test.rolling(window=12).mean()\n",
    "roll_mean_train.plot();\n",
    "\n",
    "rm_diff_1 = roll_mean_train.diff(periods=1)\n",
    "rm_diff_1.plot(figsize=(12,6))\n",
    "\n",
    "\n",
    "rm_diff_2 = roll_mean_train.diff(periods=1).diff(periods=1)\n",
    "rm_diff_2.plot(figsize=(12,6));"
   ]
  },
  {
   "cell_type": "code",
   "execution_count": null,
   "metadata": {},
   "outputs": [],
   "source": [
    "print(stationarity_check(rm_diff_1['PM2.5'].dropna()))\n",
    "print(stationarity_check(rm_diff_1['PM10'].dropna()))\n",
    "print(stationarity_check(rm_diff_1['NO2'].dropna()))"
   ]
  },
  {
   "cell_type": "code",
   "execution_count": null,
   "metadata": {},
   "outputs": [],
   "source": [
    "print(stationarity_check(rm_diff_2['PM2.5'].dropna()))\n",
    "print(stationarity_check(rm_diff_2['PM10'].dropna()))\n",
    "print(stationarity_check(rm_diff_2['NO2'].dropna()))"
   ]
  },
  {
   "cell_type": "markdown",
   "metadata": {},
   "source": [
    "# Station 104 PM10"
   ]
  },
  {
   "cell_type": "code",
   "execution_count": null,
   "metadata": {},
   "outputs": [],
   "source": [
    "base_model = sm.tsa.statespace.SARIMAX(df_104['PM10'], trend='c', order=[0,0,0])\n",
    "res = base_model.fit(disp=False)\n",
    "print(res.summary())"
   ]
  },
  {
   "cell_type": "code",
   "execution_count": null,
   "metadata": {},
   "outputs": [],
   "source": [
    "timeseries = df_104['PM10']\n",
    "automodel = arimamodel(df_104['PM10'])\n",
    "plotarima(70, timeseries, automodel)"
   ]
  },
  {
   "cell_type": "code",
   "execution_count": null,
   "metadata": {},
   "outputs": [],
   "source": [
    "best_model = sm.tsa.statespace.SARIMAX(df_104['PM10'], trend='c', order=[2,0,1])\n",
    "res = best_model.fit(disp=False)\n",
    "print(res.summary())"
   ]
  },
  {
   "cell_type": "code",
   "execution_count": null,
   "metadata": {},
   "outputs": [],
   "source": [
    "model_train = arima_results(train['PM10'],test['PM10'], order=[2,0,1])"
   ]
  },
  {
   "cell_type": "markdown",
   "metadata": {},
   "source": [
    "# Station 104 PM2.5"
   ]
  },
  {
   "cell_type": "code",
   "execution_count": null,
   "metadata": {},
   "outputs": [],
   "source": [
    "base_model = sm.tsa.statespace.SARIMAX(df_104['PM2.5'], trend='c', order=[0,0,0])\n",
    "res = base_model.fit(disp=False)\n",
    "print(res.summary())"
   ]
  },
  {
   "cell_type": "code",
   "execution_count": null,
   "metadata": {},
   "outputs": [],
   "source": [
    "timeseries = df_104['PM2.5']\n",
    "automodel = arimamodel(df_104['PM2.5'])\n",
    "plotarima(70, timeseries, automodel)"
   ]
  },
  {
   "cell_type": "code",
   "execution_count": null,
   "metadata": {},
   "outputs": [],
   "source": [
    "best_model = sm.tsa.statespace.SARIMAX(df_104['PM2.5'], trend='c', order=[2,0,1])\n",
    "res = best_model.fit(disp=False)\n",
    "print(res.summary())"
   ]
  },
  {
   "cell_type": "code",
   "execution_count": null,
   "metadata": {},
   "outputs": [],
   "source": [
    "model_train = arima_results(train['PM2.5'],test['PM2.5'], order=[2,0,2])"
   ]
  },
  {
   "cell_type": "markdown",
   "metadata": {},
   "source": [
    "# Station 104 PM NO2"
   ]
  },
  {
   "cell_type": "code",
   "execution_count": null,
   "metadata": {},
   "outputs": [],
   "source": [
    "base_model = sm.tsa.statespace.SARIMAX(df_104['NO2'], trend='c', order=[0,0,0])\n",
    "res = base_model.fit(disp=False)\n",
    "print(res.summary())"
   ]
  },
  {
   "cell_type": "code",
   "execution_count": null,
   "metadata": {},
   "outputs": [],
   "source": [
    "timeseries = df_104['NO2']\n",
    "automodel = arimamodel(df_104['NO2'])\n",
    "plotarima(70, timeseries, automodel)"
   ]
  },
  {
   "cell_type": "code",
   "execution_count": null,
   "metadata": {},
   "outputs": [],
   "source": [
    "best_model = sm.tsa.statespace.SARIMAX(df_104['NO2'], trend='c', order=[1,0,2])\n",
    "res = best_model.fit(disp=False)\n",
    "print(res.summary())"
   ]
  },
  {
   "cell_type": "code",
   "execution_count": null,
   "metadata": {},
   "outputs": [],
   "source": [
    "model_train = arima_results(train['NO2'],test['NO2'], order=[1,0,2])"
   ]
  },
  {
   "cell_type": "markdown",
   "metadata": {},
   "source": [
    "# Station 105"
   ]
  },
  {
   "cell_type": "code",
   "execution_count": null,
   "metadata": {},
   "outputs": [],
   "source": [
    "df_105 = df[df['Station code'] == 105]"
   ]
  },
  {
   "cell_type": "code",
   "execution_count": null,
   "metadata": {},
   "outputs": [],
   "source": [
    "df_105['PM2.5 Level'].value_counts()"
   ]
  },
  {
   "cell_type": "code",
   "execution_count": null,
   "metadata": {},
   "outputs": [],
   "source": [
    "df_105.head()"
   ]
  },
  {
   "cell_type": "code",
   "execution_count": null,
   "metadata": {
    "scrolled": true
   },
   "outputs": [],
   "source": [
    "for feature in features:\n",
    "    fig, ax = plt.subplots(figsize=(35,8))\n",
    "    fig.suptitle(\"Station 105\", fontsize=20)\n",
    "    ax.set_xlabel('Year, Day', fontsize=20)\n",
    "    sns.lineplot(x='Measurement date', y=feature, data=df_105)"
   ]
  },
  {
   "cell_type": "markdown",
   "metadata": {},
   "source": [
    "##### So as seen above for Station 105\n",
    "- NO2 reaches levels of 'Bad' on 4 occasions and sits close to bad on most of the year.\n",
    "- PM10 reaches levels of 'Bad' on 77 occasions and 'Very Bad' on 7, can gets close to bad on many occasions.\n",
    "- Lastly, PM2.5 reaches levels of 'Bad' on 187 occasions and 'Very Bad' on 14 occasions.\n",
    "- Therefore, i will make a new df that only has those three pollutants since I am trying to test for pollutants that are deadly."
   ]
  },
  {
   "cell_type": "markdown",
   "metadata": {},
   "source": [
    "# Picking the relevant columns"
   ]
  },
  {
   "cell_type": "code",
   "execution_count": null,
   "metadata": {},
   "outputs": [],
   "source": [
    "columns = ['NO2', 'PM10', 'PM2.5']\n",
    "df_105 = df_105[columns]\n",
    "df_105"
   ]
  },
  {
   "cell_type": "markdown",
   "metadata": {},
   "source": [
    "# Train-Test Split"
   ]
  },
  {
   "cell_type": "code",
   "execution_count": null,
   "metadata": {},
   "outputs": [],
   "source": [
    "train = df_105[:-542]\n",
    "test = df_105[542:]"
   ]
  },
  {
   "cell_type": "code",
   "execution_count": null,
   "metadata": {},
   "outputs": [],
   "source": [
    "test['NO2'].plot()"
   ]
  },
  {
   "cell_type": "code",
   "execution_count": null,
   "metadata": {},
   "outputs": [],
   "source": [
    "test['PM10'].plot()"
   ]
  },
  {
   "cell_type": "code",
   "execution_count": null,
   "metadata": {},
   "outputs": [],
   "source": [
    "test['PM2.5'].plot()"
   ]
  },
  {
   "cell_type": "code",
   "execution_count": null,
   "metadata": {},
   "outputs": [],
   "source": [
    "train['NO2'].plot()"
   ]
  },
  {
   "cell_type": "code",
   "execution_count": null,
   "metadata": {},
   "outputs": [],
   "source": [
    "train['PM10'].plot()"
   ]
  },
  {
   "cell_type": "code",
   "execution_count": null,
   "metadata": {},
   "outputs": [],
   "source": [
    "train['PM2.5'].plot()"
   ]
  },
  {
   "cell_type": "code",
   "execution_count": null,
   "metadata": {},
   "outputs": [],
   "source": [
    "print(stationarity_check(df_101['PM2.5']))\n",
    "print(stationarity_check(df_101['PM10']))\n",
    "print(stationarity_check(df_101['NO2']))"
   ]
  },
  {
   "cell_type": "markdown",
   "metadata": {},
   "source": [
    "# Rolling Mean Difference Train"
   ]
  },
  {
   "cell_type": "code",
   "execution_count": null,
   "metadata": {},
   "outputs": [],
   "source": [
    "# Apply a 1st order difference to the time series and plot the rolling mean\n",
    "\n",
    "roll_mean_train = train.rolling(window=12).mean()\n",
    "roll_mean_train.plot();\n",
    "\n",
    "rm_diff_1 = roll_mean_train.diff(periods=1)\n",
    "rm_diff_1.plot(figsize=(12,6))\n",
    "\n",
    "\n",
    "rm_diff_2 = roll_mean_train.diff(periods=1).diff(periods=1)\n",
    "rm_diff_2.plot(figsize=(12,6));"
   ]
  },
  {
   "cell_type": "code",
   "execution_count": null,
   "metadata": {},
   "outputs": [],
   "source": [
    "print(stationarity_check(rm_diff_1['PM2.5'].dropna()))\n",
    "print(stationarity_check(rm_diff_1['PM10'].dropna()))\n",
    "print(stationarity_check(rm_diff_1['NO2'].dropna()))"
   ]
  },
  {
   "cell_type": "code",
   "execution_count": null,
   "metadata": {},
   "outputs": [],
   "source": [
    "print(stationarity_check(rm_diff_2['PM2.5'].dropna()))\n",
    "print(stationarity_check(rm_diff_2['PM10'].dropna()))\n",
    "print(stationarity_check(rm_diff_2['NO2'].dropna()))"
   ]
  },
  {
   "cell_type": "markdown",
   "metadata": {},
   "source": [
    "# Rolling Mean Difference Test"
   ]
  },
  {
   "cell_type": "code",
   "execution_count": null,
   "metadata": {},
   "outputs": [],
   "source": [
    "# Apply a 1st order difference to the time series and plot the rolling mean\n",
    "\n",
    "roll_mean_test = test.rolling(window=12).mean()\n",
    "roll_mean_test.plot();\n",
    "\n",
    "rm_diff_1 = roll_mean_test.diff(periods=1)\n",
    "rm_diff_1.plot(figsize=(12,6))\n",
    "\n",
    "\n",
    "rm_diff_2 = roll_mean_test.diff(periods=1).diff(periods=1)\n",
    "rm_diff_2.plot(figsize=(12,6));"
   ]
  },
  {
   "cell_type": "code",
   "execution_count": null,
   "metadata": {},
   "outputs": [],
   "source": [
    "print(stationarity_check(rm_diff_1['PM2.5'].dropna()))\n",
    "print(stationarity_check(rm_diff_1['PM10'].dropna()))\n",
    "print(stationarity_check(rm_diff_1['NO2'].dropna()))"
   ]
  },
  {
   "cell_type": "code",
   "execution_count": null,
   "metadata": {},
   "outputs": [],
   "source": [
    "print(stationarity_check(rm_diff_2['PM2.5'].dropna()))\n",
    "print(stationarity_check(rm_diff_2['PM10'].dropna()))\n",
    "print(stationarity_check(rm_diff_2['NO2'].dropna()))"
   ]
  },
  {
   "cell_type": "markdown",
   "metadata": {},
   "source": [
    "# Station 105 PM2.5"
   ]
  },
  {
   "cell_type": "code",
   "execution_count": null,
   "metadata": {},
   "outputs": [],
   "source": [
    "base_model = sm.tsa.statespace.SARIMAX(df_105['PM2.5'], trend='c', order=[0,0,0])\n",
    "res = base_model.fit(disp=False)\n",
    "print(res.summary())"
   ]
  },
  {
   "cell_type": "code",
   "execution_count": null,
   "metadata": {},
   "outputs": [],
   "source": [
    "timeseries = df_105['PM2.5']\n",
    "automodel = arimamodel(df_105['PM2.5'])\n",
    "plotarima(70, timeseries, automodel)"
   ]
  },
  {
   "cell_type": "code",
   "execution_count": null,
   "metadata": {},
   "outputs": [],
   "source": [
    "best_model = sm.tsa.statespace.SARIMAX(df_105['PM2.5'], trend='c', order=[2,0,2])\n",
    "res = best_model.fit(disp=False)\n",
    "print(res.summary())"
   ]
  },
  {
   "cell_type": "code",
   "execution_count": null,
   "metadata": {},
   "outputs": [],
   "source": [
    "model_train = arima_results(train['PM2.5'],test['PM2.5'], order=[2,0,2])"
   ]
  },
  {
   "cell_type": "markdown",
   "metadata": {},
   "source": [
    "# Station 105 PM10"
   ]
  },
  {
   "cell_type": "code",
   "execution_count": null,
   "metadata": {},
   "outputs": [],
   "source": [
    "base_model = sm.tsa.statespace.SARIMAX(df_105['PM10'], trend='c', order=[0,0,0])\n",
    "res = base_model.fit(disp=False)\n",
    "print(res.summary())"
   ]
  },
  {
   "cell_type": "code",
   "execution_count": null,
   "metadata": {},
   "outputs": [],
   "source": [
    "timeseries = df_105['PM10']\n",
    "automodel = arimamodel(df_105['PM10'])\n",
    "plotarima(70, timeseries, automodel)"
   ]
  },
  {
   "cell_type": "code",
   "execution_count": null,
   "metadata": {},
   "outputs": [],
   "source": [
    "best_model = sm.tsa.statespace.SARIMAX(df_105['PM10'], trend='c', order=[3,0,2])\n",
    "res = best_model.fit(disp=False)\n",
    "print(res.summary())"
   ]
  },
  {
   "cell_type": "code",
   "execution_count": null,
   "metadata": {},
   "outputs": [],
   "source": [
    "model_train = arima_results(train['PM10'],test['PM10'], order=[3,0,2])"
   ]
  },
  {
   "cell_type": "markdown",
   "metadata": {},
   "source": [
    "# Station 105 NO2 "
   ]
  },
  {
   "cell_type": "code",
   "execution_count": null,
   "metadata": {},
   "outputs": [],
   "source": [
    "base_model = sm.tsa.statespace.SARIMAX(df_105['NO2'], trend='c', order=[0,0,0])\n",
    "res = base_model.fit(disp=False)\n",
    "print(res.summary())"
   ]
  },
  {
   "cell_type": "code",
   "execution_count": null,
   "metadata": {},
   "outputs": [],
   "source": [
    "timeseries = df_105['NO2']\n",
    "automodel = arimamodel(df_105['NO2'])\n",
    "plotarima(70, timeseries, automodel)"
   ]
  },
  {
   "cell_type": "code",
   "execution_count": null,
   "metadata": {},
   "outputs": [],
   "source": [
    "best_model = sm.tsa.statespace.SARIMAX(df_105['NO2'], trend='c', order=[3,0,0])\n",
    "res = best_model.fit(disp=False)\n",
    "print(res.summary())"
   ]
  },
  {
   "cell_type": "code",
   "execution_count": null,
   "metadata": {},
   "outputs": [],
   "source": [
    "model_train = arima_results(train['NO2'],test['NO2'], order=[3,0,0])"
   ]
  },
  {
   "cell_type": "markdown",
   "metadata": {},
   "source": [
    "# Station 106"
   ]
  },
  {
   "cell_type": "code",
   "execution_count": null,
   "metadata": {},
   "outputs": [],
   "source": [
    "df_106 = df[df['Station code'] == 106]"
   ]
  },
  {
   "cell_type": "code",
   "execution_count": null,
   "metadata": {},
   "outputs": [],
   "source": [
    "df_106.head()"
   ]
  },
  {
   "cell_type": "code",
   "execution_count": null,
   "metadata": {},
   "outputs": [],
   "source": [
    "for feature in features:\n",
    "    fig, ax = plt.subplots(figsize=(35,8))\n",
    "    fig.suptitle(\"Station 106\", fontsize=20)\n",
    "    ax.set_xlabel('Year, Day', fontsize=20)\n",
    "    sns.lineplot(x='Measurement date', y=feature, data=df_106)"
   ]
  },
  {
   "cell_type": "code",
   "execution_count": null,
   "metadata": {},
   "outputs": [],
   "source": [
    "df_106['CO Level'].value_counts()"
   ]
  },
  {
   "cell_type": "markdown",
   "metadata": {},
   "source": [
    "#### So as seen above for Station 106\n",
    "- NO2 reaches levels of 'Bad' on 15 occasions and sits close to bad on most of the year.\n",
    "- PM10 reaches levels of 'Bad' on 100 occasions and 'Very Bad' on 12 occasions, and gets close to 'Bad' on many occasions.\n",
    "- PM2.5 reaches levels of 'Bad' on 250 occasions and 'Very Bad' on 60 occasions.\n"
   ]
  },
  {
   "cell_type": "code",
   "execution_count": null,
   "metadata": {},
   "outputs": [],
   "source": [
    "columns = ['NO2', 'PM10', 'PM2.5']\n",
    "df_106 = df_106[columns]\n",
    "df_106"
   ]
  },
  {
   "cell_type": "code",
   "execution_count": null,
   "metadata": {},
   "outputs": [],
   "source": [
    "train = df_106[:-542]\n",
    "test = df_106[542:]"
   ]
  },
  {
   "cell_type": "code",
   "execution_count": null,
   "metadata": {},
   "outputs": [],
   "source": [
    "test['NO2'].plot()"
   ]
  },
  {
   "cell_type": "code",
   "execution_count": null,
   "metadata": {},
   "outputs": [],
   "source": [
    "test['PM10'].plot()"
   ]
  },
  {
   "cell_type": "code",
   "execution_count": null,
   "metadata": {},
   "outputs": [],
   "source": [
    "test['PM2.5'].plot()"
   ]
  },
  {
   "cell_type": "code",
   "execution_count": null,
   "metadata": {},
   "outputs": [],
   "source": [
    "train['NO2'].plot()"
   ]
  },
  {
   "cell_type": "code",
   "execution_count": null,
   "metadata": {},
   "outputs": [],
   "source": [
    "train['PM10'].plot()"
   ]
  },
  {
   "cell_type": "code",
   "execution_count": null,
   "metadata": {},
   "outputs": [],
   "source": [
    "train['PM2.5'].plot()"
   ]
  },
  {
   "cell_type": "code",
   "execution_count": null,
   "metadata": {},
   "outputs": [],
   "source": [
    "print(stationarity_check(df_106['PM2.5']))\n",
    "print(stationarity_check(df_106['PM10']))\n",
    "print(stationarity_check(df_106['NO2']))"
   ]
  },
  {
   "cell_type": "markdown",
   "metadata": {},
   "source": [
    "# Rolling Mean Difference Train"
   ]
  },
  {
   "cell_type": "code",
   "execution_count": null,
   "metadata": {},
   "outputs": [],
   "source": [
    "# Apply a 1st order difference to the time series and plot the rolling mean\n",
    "\n",
    "roll_mean_train = train.rolling(window=12).mean()\n",
    "roll_mean_train.plot();\n",
    "\n",
    "rm_diff_1 = roll_mean_train.diff(periods=1)\n",
    "rm_diff_1.plot(figsize=(12,6))\n",
    "\n",
    "\n",
    "rm_diff_2 = roll_mean_train.diff(periods=1).diff(periods=1)\n",
    "rm_diff_2.plot(figsize=(12,6));"
   ]
  },
  {
   "cell_type": "code",
   "execution_count": null,
   "metadata": {},
   "outputs": [],
   "source": [
    "print(stationarity_check(rm_diff_1['PM2.5'].dropna()))\n",
    "print(stationarity_check(rm_diff_1['PM10'].dropna()))\n",
    "print(stationarity_check(rm_diff_1['NO2'].dropna()))"
   ]
  },
  {
   "cell_type": "code",
   "execution_count": null,
   "metadata": {},
   "outputs": [],
   "source": [
    "print(stationarity_check(rm_diff_2['PM2.5'].dropna()))\n",
    "print(stationarity_check(rm_diff_2['PM10'].dropna()))\n",
    "print(stationarity_check(rm_diff_2['NO2'].dropna()))"
   ]
  },
  {
   "cell_type": "markdown",
   "metadata": {},
   "source": [
    "# Rolling Mean Difference Test"
   ]
  },
  {
   "cell_type": "code",
   "execution_count": null,
   "metadata": {},
   "outputs": [],
   "source": [
    "# Apply a 1st order difference to the time series and plot the rolling mean\n",
    "\n",
    "roll_mean_test = test.rolling(window=12).mean()\n",
    "roll_mean_test.plot();\n",
    "\n",
    "rm_diff_1 = roll_mean_test.diff(periods=1)\n",
    "rm_diff_1.plot(figsize=(12,6))\n",
    "\n",
    "\n",
    "rm_diff_2 = roll_mean_test.diff(periods=1).diff(periods=1)\n",
    "rm_diff_2.plot(figsize=(12,6));"
   ]
  },
  {
   "cell_type": "code",
   "execution_count": null,
   "metadata": {},
   "outputs": [],
   "source": [
    "print(stationarity_check(rm_diff_1['PM2.5'].dropna()))\n",
    "print(stationarity_check(rm_diff_1['PM10'].dropna()))\n",
    "print(stationarity_check(rm_diff_1['NO2'].dropna()))"
   ]
  },
  {
   "cell_type": "code",
   "execution_count": null,
   "metadata": {},
   "outputs": [],
   "source": [
    "print(stationarity_check(rm_diff_2['PM2.5'].dropna()))\n",
    "print(stationarity_check(rm_diff_2['PM10'].dropna()))\n",
    "print(stationarity_check(rm_diff_2['NO2'].dropna()))"
   ]
  },
  {
   "cell_type": "markdown",
   "metadata": {},
   "source": [
    "# Station 106 PM2.5"
   ]
  },
  {
   "cell_type": "code",
   "execution_count": null,
   "metadata": {},
   "outputs": [],
   "source": [
    "base_model = sm.tsa.statespace.SARIMAX(df_106['PM2.5'], trend='c', order=[0,0,0])\n",
    "res = base_model.fit(disp=False)\n",
    "print(res.summary())"
   ]
  },
  {
   "cell_type": "code",
   "execution_count": null,
   "metadata": {},
   "outputs": [],
   "source": [
    "timeseries = df_106['PM2.5']\n",
    "automodel = arimamodel(df_106['PM2.5'])\n",
    "plotarima(70, timeseries, automodel)"
   ]
  },
  {
   "cell_type": "code",
   "execution_count": null,
   "metadata": {},
   "outputs": [],
   "source": [
    "best_model = sm.tsa.statespace.SARIMAX(df_105['PM2.5'], trend='c', order=[2,0,1])\n",
    "res = best_model.fit(disp=False)\n",
    "print(res.summary())"
   ]
  },
  {
   "cell_type": "code",
   "execution_count": null,
   "metadata": {},
   "outputs": [],
   "source": [
    "model_train = arima_results(train['PM2.5'],test['PM2.5'], order=[2,0,1])"
   ]
  },
  {
   "cell_type": "markdown",
   "metadata": {},
   "source": [
    "# Station 106 PM10"
   ]
  },
  {
   "cell_type": "code",
   "execution_count": null,
   "metadata": {},
   "outputs": [],
   "source": [
    "base_model = sm.tsa.statespace.SARIMAX(df_106['PM10'], trend='c', order=[0,0,0])\n",
    "res = base_model.fit(disp=False)\n",
    "print(res.summary())"
   ]
  },
  {
   "cell_type": "code",
   "execution_count": null,
   "metadata": {},
   "outputs": [],
   "source": [
    "timeseries = df_106['PM10']\n",
    "automodel = arimamodel(df_106['PM10'])\n",
    "plotarima(70, timeseries, automodel)"
   ]
  },
  {
   "cell_type": "code",
   "execution_count": null,
   "metadata": {},
   "outputs": [],
   "source": [
    "best_model = sm.tsa.statespace.SARIMAX(df_105['PM10'], trend='c', order=[3,0,1])\n",
    "res = best_model.fit(disp=False)\n",
    "print(res.summary())"
   ]
  },
  {
   "cell_type": "code",
   "execution_count": null,
   "metadata": {},
   "outputs": [],
   "source": [
    "model_train = arima_results(train['PM10'],test['PM10'], order=[3,0,1])"
   ]
  },
  {
   "cell_type": "markdown",
   "metadata": {},
   "source": [
    "# Station 106 NO2"
   ]
  },
  {
   "cell_type": "code",
   "execution_count": null,
   "metadata": {},
   "outputs": [],
   "source": [
    "base_model = sm.tsa.statespace.SARIMAX(df_106['NO2'], trend='c', order=[0,0,0])\n",
    "res = base_model.fit(disp=False)\n",
    "print(res.summary())"
   ]
  },
  {
   "cell_type": "code",
   "execution_count": null,
   "metadata": {},
   "outputs": [],
   "source": [
    "timeseries = df_106['NO2']\n",
    "automodel = arimamodel(df_106['NO2'])\n",
    "plotarima(70, timeseries, automodel)"
   ]
  },
  {
   "cell_type": "code",
   "execution_count": null,
   "metadata": {
    "scrolled": true
   },
   "outputs": [],
   "source": [
    "best_model = sm.tsa.statespace.SARIMAX(df_106['NO2'], trend='c', order=[3,0,0])\n",
    "res = best_model.fit(disp=False)\n",
    "print(res.summary())"
   ]
  },
  {
   "cell_type": "code",
   "execution_count": null,
   "metadata": {},
   "outputs": [],
   "source": [
    "model_train = arima_results(train['NO2'],test['NO2'], order=[3,0,0])"
   ]
  },
  {
   "cell_type": "markdown",
   "metadata": {},
   "source": [
    "# Station 107"
   ]
  },
  {
   "cell_type": "code",
   "execution_count": null,
   "metadata": {},
   "outputs": [],
   "source": [
    "df_107 = df[df['Station code'] == 107]"
   ]
  },
  {
   "cell_type": "code",
   "execution_count": null,
   "metadata": {},
   "outputs": [],
   "source": [
    "df_107.head()"
   ]
  },
  {
   "cell_type": "code",
   "execution_count": null,
   "metadata": {},
   "outputs": [],
   "source": [
    "for feature in features:\n",
    "    fig, ax = plt.subplots(figsize=(35,8))\n",
    "    fig.suptitle(\"Station 107\", fontsize=20)\n",
    "    ax.set_xlabel('Year, Day', fontsize=20)\n",
    "    sns.lineplot(x='Measurement date', y=feature, data=df_107)"
   ]
  },
  {
   "cell_type": "code",
   "execution_count": null,
   "metadata": {},
   "outputs": [],
   "source": [
    "df_107['NO2 Level'].value_counts()"
   ]
  },
  {
   "cell_type": "markdown",
   "metadata": {},
   "source": [
    "###### So as seen above for Station 107\n",
    "- NO2 reaches levels of 'Bad' on 9 occasions and sits close to bad on most of the year.\n",
    "- PM10 reaches levels of 'Bad' on 114 occasions and 'Very Bad' on 12, can gets close to bad on many occasions.\n",
    "- Lastly, PM2.5 reaches levels of 'Bad' on 198 occasions and 'Very Bad' on 24 occasions."
   ]
  },
  {
   "cell_type": "markdown",
   "metadata": {},
   "source": [
    "# Picking the relevant columns"
   ]
  },
  {
   "cell_type": "code",
   "execution_count": null,
   "metadata": {},
   "outputs": [],
   "source": [
    "columns = ['NO2', 'PM10', 'PM2.5']\n",
    "df_107 = df_107[columns]\n",
    "df_107"
   ]
  },
  {
   "cell_type": "code",
   "execution_count": null,
   "metadata": {},
   "outputs": [],
   "source": [
    "train = df_107[:-542]\n",
    "test = df_107[542:]"
   ]
  },
  {
   "cell_type": "code",
   "execution_count": null,
   "metadata": {},
   "outputs": [],
   "source": [
    "test['NO2'].plot()"
   ]
  },
  {
   "cell_type": "code",
   "execution_count": null,
   "metadata": {},
   "outputs": [],
   "source": [
    "test['PM10'].plot()"
   ]
  },
  {
   "cell_type": "code",
   "execution_count": null,
   "metadata": {},
   "outputs": [],
   "source": [
    "test['PM2.5'].plot()"
   ]
  },
  {
   "cell_type": "code",
   "execution_count": null,
   "metadata": {},
   "outputs": [],
   "source": [
    "train['NO2'].plot()"
   ]
  },
  {
   "cell_type": "code",
   "execution_count": null,
   "metadata": {},
   "outputs": [],
   "source": [
    "train['PM10'].plot()"
   ]
  },
  {
   "cell_type": "code",
   "execution_count": null,
   "metadata": {},
   "outputs": [],
   "source": [
    "train['PM2.5'].plot()"
   ]
  },
  {
   "cell_type": "code",
   "execution_count": null,
   "metadata": {},
   "outputs": [],
   "source": [
    "print(stationarity_check(df_107['PM2.5']))\n",
    "print(stationarity_check(df_107['PM10']))\n",
    "print(stationarity_check(df_107['NO2']))"
   ]
  },
  {
   "cell_type": "markdown",
   "metadata": {},
   "source": [
    "# Rolling Mean Difference Train"
   ]
  },
  {
   "cell_type": "code",
   "execution_count": null,
   "metadata": {},
   "outputs": [],
   "source": [
    "# Apply a 1st order difference to the time series and plot the rolling mean\n",
    "\n",
    "roll_mean_train = train.rolling(window=12).mean()\n",
    "roll_mean_train.plot();\n",
    "\n",
    "rm_diff_1 = roll_mean_train.diff(periods=1)\n",
    "rm_diff_1.plot(figsize=(12,6))\n",
    "\n",
    "\n",
    "rm_diff_2 = roll_mean_train.diff(periods=1).diff(periods=1)\n",
    "rm_diff_2.plot(figsize=(12,6));"
   ]
  },
  {
   "cell_type": "code",
   "execution_count": null,
   "metadata": {},
   "outputs": [],
   "source": [
    "print(stationarity_check(rm_diff_1['PM2.5'].dropna()))\n",
    "print(stationarity_check(rm_diff_1['PM10'].dropna()))\n",
    "print(stationarity_check(rm_diff_1['NO2'].dropna()))"
   ]
  },
  {
   "cell_type": "code",
   "execution_count": null,
   "metadata": {},
   "outputs": [],
   "source": [
    "print(stationarity_check(rm_diff_2['PM2.5'].dropna()))\n",
    "print(stationarity_check(rm_diff_2['PM10'].dropna()))\n",
    "print(stationarity_check(rm_diff_2['NO2'].dropna()))"
   ]
  },
  {
   "cell_type": "markdown",
   "metadata": {},
   "source": [
    "# Rolling Mean Difference Test"
   ]
  },
  {
   "cell_type": "code",
   "execution_count": null,
   "metadata": {},
   "outputs": [],
   "source": [
    "# Apply a 1st order difference to the time series and plot the rolling mean\n",
    "\n",
    "roll_mean_test = test.rolling(window=12).mean()\n",
    "roll_mean_test.plot();\n",
    "\n",
    "rm_diff_1 = roll_mean_test.diff(periods=1)\n",
    "rm_diff_1.plot(figsize=(12,6))\n",
    "\n",
    "\n",
    "rm_diff_2 = roll_mean_test.diff(periods=1).diff(periods=1)\n",
    "rm_diff_2.plot(figsize=(12,6));\n"
   ]
  },
  {
   "cell_type": "code",
   "execution_count": null,
   "metadata": {},
   "outputs": [],
   "source": [
    "print(stationarity_check(rm_diff_1['PM2.5'].dropna()))\n",
    "print(stationarity_check(rm_diff_1['PM10'].dropna()))\n",
    "print(stationarity_check(rm_diff_1['NO2'].dropna()))"
   ]
  },
  {
   "cell_type": "code",
   "execution_count": null,
   "metadata": {},
   "outputs": [],
   "source": [
    "print(stationarity_check(rm_diff_2['PM2.5'].dropna()))\n",
    "print(stationarity_check(rm_diff_2['PM10'].dropna()))\n",
    "print(stationarity_check(rm_diff_2['NO2'].dropna()))"
   ]
  },
  {
   "cell_type": "markdown",
   "metadata": {},
   "source": [
    "# Station 107 PM2.5"
   ]
  },
  {
   "cell_type": "code",
   "execution_count": null,
   "metadata": {},
   "outputs": [],
   "source": [
    "base_model = sm.tsa.statespace.SARIMAX(df_107['PM2.5'], trend='c', order=[0,0,0])\n",
    "res = base_model.fit(disp=False)\n",
    "print(res.summary())"
   ]
  },
  {
   "cell_type": "code",
   "execution_count": null,
   "metadata": {},
   "outputs": [],
   "source": [
    "timeseries = df_107['PM2.5']\n",
    "automodel = arimamodel(df_107['PM2.5'])\n",
    "plotarima(70, timeseries, automodel)"
   ]
  },
  {
   "cell_type": "code",
   "execution_count": null,
   "metadata": {},
   "outputs": [],
   "source": [
    "best_model = sm.tsa.statespace.SARIMAX(df_107['PM2.5'], trend='c', order=[1,0,3])\n",
    "res = best_model.fit(disp=False)\n",
    "print(res.summary())"
   ]
  },
  {
   "cell_type": "code",
   "execution_count": null,
   "metadata": {},
   "outputs": [],
   "source": [
    "model_train = arima_results(train['PM2.5'],test['PM2.5'], order=[1,0,3])"
   ]
  },
  {
   "cell_type": "markdown",
   "metadata": {},
   "source": [
    "# Station 107 PM10"
   ]
  },
  {
   "cell_type": "code",
   "execution_count": null,
   "metadata": {},
   "outputs": [],
   "source": [
    "base_model = sm.tsa.statespace.SARIMAX(df_107['PM10'], trend='c', order=[0,0,0])\n",
    "res = base_model.fit(disp=False)\n",
    "print(res.summary())"
   ]
  },
  {
   "cell_type": "code",
   "execution_count": null,
   "metadata": {},
   "outputs": [],
   "source": [
    "timeseries = df_107['PM10']\n",
    "automodel = arimamodel(df_107['PM10'])\n",
    "plotarima(70, timeseries, automodel)"
   ]
  },
  {
   "cell_type": "code",
   "execution_count": null,
   "metadata": {},
   "outputs": [],
   "source": [
    "best_model = sm.tsa.statespace.SARIMAX(df_107['PM10'], trend='c', order=[2,0,2])\n",
    "res = best_model.fit(disp=False)\n",
    "print(res.summary())"
   ]
  },
  {
   "cell_type": "code",
   "execution_count": null,
   "metadata": {},
   "outputs": [],
   "source": [
    "model_train = arima_results(train['PM10'],test['PM10'], order=[2,0,2])"
   ]
  },
  {
   "cell_type": "markdown",
   "metadata": {},
   "source": [
    "# Station 107 NO2"
   ]
  },
  {
   "cell_type": "code",
   "execution_count": null,
   "metadata": {},
   "outputs": [],
   "source": [
    "base_model = sm.tsa.statespace.SARIMAX(df_107['NO2'], trend='c', order=[0,0,0])\n",
    "res = base_model.fit(disp=False)\n",
    "print(res.summary())"
   ]
  },
  {
   "cell_type": "code",
   "execution_count": null,
   "metadata": {},
   "outputs": [],
   "source": [
    "timeseries = df_107['NO2']\n",
    "automodel = arimamodel(df_107['NO2'])\n",
    "plotarima(70, timeseries, automodel)"
   ]
  },
  {
   "cell_type": "code",
   "execution_count": null,
   "metadata": {},
   "outputs": [],
   "source": [
    "best_model = sm.tsa.statespace.SARIMAX(df_107['NO2'], trend='c', order=[2,0,3])\n",
    "res = best_model.fit(disp=False)\n",
    "print(res.summary())"
   ]
  },
  {
   "cell_type": "code",
   "execution_count": null,
   "metadata": {},
   "outputs": [],
   "source": [
    "model_train = arima_results(train['NO2'],test['NO2'], order=[2,0,3])"
   ]
  },
  {
   "cell_type": "markdown",
   "metadata": {},
   "source": [
    "# Station 108"
   ]
  },
  {
   "cell_type": "code",
   "execution_count": null,
   "metadata": {},
   "outputs": [],
   "source": [
    "df_108 = df[df['Station code'] == 108]"
   ]
  },
  {
   "cell_type": "code",
   "execution_count": null,
   "metadata": {},
   "outputs": [],
   "source": [
    "df_108.head()"
   ]
  },
  {
   "cell_type": "code",
   "execution_count": null,
   "metadata": {},
   "outputs": [],
   "source": [
    "for feature in features:\n",
    "    fig, ax = plt.subplots(figsize=(35,8))\n",
    "    fig.suptitle(\"Station 108\", fontsize=20)\n",
    "    ax.set_xlabel('Year, Day', fontsize=20)\n",
    "    sns.lineplot(x='Measurement date', y=feature, data=df_108)"
   ]
  },
  {
   "cell_type": "code",
   "execution_count": null,
   "metadata": {},
   "outputs": [],
   "source": [
    "df_108['PM2.5 Level'].value_counts()"
   ]
  },
  {
   "cell_type": "markdown",
   "metadata": {},
   "source": [
    "#### So as seen above for Station 108:\n",
    "- NO2 reaches levels of 'Bad' on 15 occasions and sits close to bad on most of the year.\n",
    "- PM10 reaches levels of 'Bad' on 93 occasions and 'Very Bad' on 6, can gets close to bad on many occasions.\n",
    "- Lastly, PM2.5 reaches levels of 'Bad' on 255 occasions and 'Very Bad' on 52 occasions."
   ]
  },
  {
   "cell_type": "markdown",
   "metadata": {},
   "source": [
    "# Picking the relevant columns"
   ]
  },
  {
   "cell_type": "code",
   "execution_count": null,
   "metadata": {},
   "outputs": [],
   "source": [
    "columns = ['NO2', 'PM10', 'PM2.5']\n",
    "df_108 = df_108[columns]\n",
    "df_108"
   ]
  },
  {
   "cell_type": "markdown",
   "metadata": {},
   "source": [
    "# Train-Test Split"
   ]
  },
  {
   "cell_type": "code",
   "execution_count": null,
   "metadata": {},
   "outputs": [],
   "source": [
    "train = df_108[:-542]\n",
    "test = df_108[542:]"
   ]
  },
  {
   "cell_type": "code",
   "execution_count": null,
   "metadata": {},
   "outputs": [],
   "source": [
    "test['NO2'].plot()"
   ]
  },
  {
   "cell_type": "code",
   "execution_count": null,
   "metadata": {},
   "outputs": [],
   "source": [
    "test['PM10'].plot()"
   ]
  },
  {
   "cell_type": "code",
   "execution_count": null,
   "metadata": {},
   "outputs": [],
   "source": [
    "test['PM2.5'].plot()"
   ]
  },
  {
   "cell_type": "code",
   "execution_count": null,
   "metadata": {},
   "outputs": [],
   "source": [
    "train['NO2'].plot()"
   ]
  },
  {
   "cell_type": "code",
   "execution_count": null,
   "metadata": {},
   "outputs": [],
   "source": [
    "train['PM10'].plot()"
   ]
  },
  {
   "cell_type": "code",
   "execution_count": null,
   "metadata": {},
   "outputs": [],
   "source": [
    "train['PM2.5'].plot()"
   ]
  },
  {
   "cell_type": "code",
   "execution_count": null,
   "metadata": {},
   "outputs": [],
   "source": [
    "print(stationarity_check(df_108['PM2.5']))\n",
    "print(stationarity_check(df_108['PM10']))\n",
    "print(stationarity_check(df_108['NO2']))"
   ]
  },
  {
   "cell_type": "markdown",
   "metadata": {},
   "source": [
    "# Rolling Mean Difference Train"
   ]
  },
  {
   "cell_type": "code",
   "execution_count": null,
   "metadata": {},
   "outputs": [],
   "source": [
    "# Apply a 1st order difference to the time series and plot the rolling mean\n",
    "\n",
    "roll_mean_train = train.rolling(window=12).mean()\n",
    "roll_mean_train.plot();\n",
    "\n",
    "rm_diff_1 = roll_mean_train.diff(periods=1)\n",
    "rm_diff_1.plot(figsize=(12,6))\n",
    "\n",
    "\n",
    "rm_diff_2 = roll_mean_train.diff(periods=1).diff(periods=1)\n",
    "rm_diff_2.plot(figsize=(12,6));"
   ]
  },
  {
   "cell_type": "code",
   "execution_count": null,
   "metadata": {},
   "outputs": [],
   "source": [
    "print(stationarity_check(rm_diff_1['PM2.5'].dropna()))\n",
    "print(stationarity_check(rm_diff_1['PM10'].dropna()))\n",
    "print(stationarity_check(rm_diff_1['NO2'].dropna()))"
   ]
  },
  {
   "cell_type": "code",
   "execution_count": null,
   "metadata": {},
   "outputs": [],
   "source": [
    "print(stationarity_check(rm_diff_2['PM2.5'].dropna()))\n",
    "print(stationarity_check(rm_diff_2['PM10'].dropna()))\n",
    "print(stationarity_check(rm_diff_2['NO2'].dropna()))"
   ]
  },
  {
   "cell_type": "markdown",
   "metadata": {},
   "source": [
    "# Rolling Mean Difference Test"
   ]
  },
  {
   "cell_type": "code",
   "execution_count": null,
   "metadata": {},
   "outputs": [],
   "source": [
    "# Apply a 1st order difference to the time series and plot the rolling mean\n",
    "\n",
    "roll_mean_test = test.rolling(window=12).mean()\n",
    "roll_mean_test.plot();\n",
    "\n",
    "rm_diff_1 = roll_mean_test.diff(periods=1)\n",
    "rm_diff_1.plot(figsize=(12,6))\n",
    "\n",
    "\n",
    "rm_diff_2 = roll_mean_test.diff(periods=1).diff(periods=1)\n",
    "rm_diff_2.plot(figsize=(12,6));"
   ]
  },
  {
   "cell_type": "code",
   "execution_count": null,
   "metadata": {},
   "outputs": [],
   "source": [
    "print(stationarity_check(rm_diff_1['PM2.5'].dropna()))\n",
    "print(stationarity_check(rm_diff_1['PM10'].dropna()))\n",
    "print(stationarity_check(rm_diff_1['NO2'].dropna()))"
   ]
  },
  {
   "cell_type": "code",
   "execution_count": null,
   "metadata": {},
   "outputs": [],
   "source": [
    "print(stationarity_check(rm_diff_2['PM2.5'].dropna()))\n",
    "print(stationarity_check(rm_diff_2['PM10'].dropna()))\n",
    "print(stationarity_check(rm_diff_2['NO2'].dropna()))"
   ]
  },
  {
   "cell_type": "markdown",
   "metadata": {},
   "source": [
    "# Station 108 PM2.5"
   ]
  },
  {
   "cell_type": "code",
   "execution_count": null,
   "metadata": {},
   "outputs": [],
   "source": [
    "base_model = sm.tsa.statespace.SARIMAX(df_108['PM2.5'], trend='c', order=[0,0,0])\n",
    "res = base_model.fit(disp=False)\n",
    "print(res.summary())"
   ]
  },
  {
   "cell_type": "code",
   "execution_count": null,
   "metadata": {},
   "outputs": [],
   "source": [
    "timeseries = df_108['PM2.5']\n",
    "automodel = arimamodel(df_108['PM2.5'])\n",
    "plotarima(70, timeseries, automodel)"
   ]
  },
  {
   "cell_type": "code",
   "execution_count": null,
   "metadata": {},
   "outputs": [],
   "source": [
    "best_model = sm.tsa.statespace.SARIMAX(df_105['PM2.5'], trend='c', order=[2,0,1])\n",
    "res = best_model.fit(disp=False)\n",
    "print(res.summary())"
   ]
  },
  {
   "cell_type": "code",
   "execution_count": null,
   "metadata": {},
   "outputs": [],
   "source": [
    "model_train = arima_results(train['PM2.5'],test['PM2.5'], order=[2,0,2])"
   ]
  },
  {
   "cell_type": "markdown",
   "metadata": {},
   "source": [
    "# Station 108 PM10"
   ]
  },
  {
   "cell_type": "code",
   "execution_count": null,
   "metadata": {},
   "outputs": [],
   "source": [
    "base_model = sm.tsa.statespace.SARIMAX(df_108['PM10'], trend='c', order=[0,0,0])\n",
    "res = base_model.fit(disp=False)\n",
    "print(res.summary())"
   ]
  },
  {
   "cell_type": "code",
   "execution_count": null,
   "metadata": {},
   "outputs": [],
   "source": [
    "timeseries = df_108['PM10']\n",
    "automodel = arimamodel(df_108['PM10'])\n",
    "plotarima(70, timeseries, automodel)"
   ]
  },
  {
   "cell_type": "code",
   "execution_count": null,
   "metadata": {},
   "outputs": [],
   "source": [
    "best_model = sm.tsa.statespace.SARIMAX(df_108['PM10'], trend='c', order=[2,0,2])\n",
    "res = best_model.fit(disp=False)\n",
    "print(res.summary())"
   ]
  },
  {
   "cell_type": "code",
   "execution_count": null,
   "metadata": {},
   "outputs": [],
   "source": [
    "model_train = arima_results(train['PM10'],test['PM10'], order=[2,0,2])"
   ]
  },
  {
   "cell_type": "markdown",
   "metadata": {},
   "source": [
    "# Station 108 NO2"
   ]
  },
  {
   "cell_type": "code",
   "execution_count": null,
   "metadata": {},
   "outputs": [],
   "source": [
    "base_model = sm.tsa.statespace.SARIMAX(df_108['NO2'], trend='c', order=[0,0,0])\n",
    "res = base_model.fit(disp=False)\n",
    "print(res.summary())"
   ]
  },
  {
   "cell_type": "code",
   "execution_count": null,
   "metadata": {},
   "outputs": [],
   "source": [
    "timeseries = df_108['NO2']\n",
    "automodel = arimamodel(df_108['NO2'])\n",
    "plotarima(70, timeseries, automodel)"
   ]
  },
  {
   "cell_type": "code",
   "execution_count": null,
   "metadata": {},
   "outputs": [],
   "source": [
    "best_model = sm.tsa.statespace.SARIMAX(df_105['NO2'], trend='c', order=[1,0,2])\n",
    "res = best_model.fit(disp=False)\n",
    "print(res.summary())"
   ]
  },
  {
   "cell_type": "code",
   "execution_count": null,
   "metadata": {},
   "outputs": [],
   "source": [
    "model_train = arima_results(train['NO2'],test['NO2'], order=[1,0,2])"
   ]
  },
  {
   "cell_type": "markdown",
   "metadata": {},
   "source": [
    "# Station 109"
   ]
  },
  {
   "cell_type": "code",
   "execution_count": null,
   "metadata": {},
   "outputs": [],
   "source": [
    "df_109 = df[df['Station code'] == 109]"
   ]
  },
  {
   "cell_type": "code",
   "execution_count": null,
   "metadata": {},
   "outputs": [],
   "source": [
    "df_109.head()"
   ]
  },
  {
   "cell_type": "code",
   "execution_count": null,
   "metadata": {},
   "outputs": [],
   "source": [
    "for feature in features:\n",
    "    fig, ax = plt.subplots(figsize=(35,8))\n",
    "    fig.suptitle(\"Station 109\", fontsize=20)\n",
    "    ax.set_xlabel('Year, Day', fontsize=20)\n",
    "    sns.lineplot(x='Measurement date', y=feature, data=df_109)"
   ]
  },
  {
   "cell_type": "code",
   "execution_count": null,
   "metadata": {},
   "outputs": [],
   "source": [
    "df_109['PM2.5 Level'].value_counts()"
   ]
  },
  {
   "cell_type": "markdown",
   "metadata": {},
   "source": [
    "#### So as seen above for Station 109\n",
    "- NO2 reaches levels of 'Bad' on 37 occasions and sits close to bad on most of the year.\n",
    "- PM10 reaches levels of 'Bad' on 60 occasions and 'Very Bad' on 5, can gets close to bad on many occasions.\n",
    "- Lastly, PM2.5 reaches levels of 'Bad' on 154 occasions and 'Very Bad' on 19 occasions.\n"
   ]
  },
  {
   "cell_type": "markdown",
   "metadata": {},
   "source": [
    "# Picking the relevant columns"
   ]
  },
  {
   "cell_type": "code",
   "execution_count": null,
   "metadata": {},
   "outputs": [],
   "source": [
    "columns = ['NO2', 'PM10', 'PM2.5']\n",
    "df_109 = df_109[columns]\n",
    "df_109"
   ]
  },
  {
   "cell_type": "code",
   "execution_count": null,
   "metadata": {},
   "outputs": [],
   "source": [
    "train = df_109[:-542]\n",
    "test = df_109[542:]"
   ]
  },
  {
   "cell_type": "code",
   "execution_count": null,
   "metadata": {},
   "outputs": [],
   "source": [
    "test['NO2'].plot()"
   ]
  },
  {
   "cell_type": "code",
   "execution_count": null,
   "metadata": {},
   "outputs": [],
   "source": [
    "test['PM10'].plot()"
   ]
  },
  {
   "cell_type": "code",
   "execution_count": null,
   "metadata": {},
   "outputs": [],
   "source": [
    "test['PM2.5'].plot()"
   ]
  },
  {
   "cell_type": "code",
   "execution_count": null,
   "metadata": {},
   "outputs": [],
   "source": [
    "train['NO2'].plot()"
   ]
  },
  {
   "cell_type": "code",
   "execution_count": null,
   "metadata": {},
   "outputs": [],
   "source": [
    "train['PM10'].plot()"
   ]
  },
  {
   "cell_type": "code",
   "execution_count": null,
   "metadata": {},
   "outputs": [],
   "source": [
    "train['PM2.5'].plot()"
   ]
  },
  {
   "cell_type": "code",
   "execution_count": null,
   "metadata": {},
   "outputs": [],
   "source": [
    "print(stationarity_check(df_109['PM2.5']))\n",
    "print(stationarity_check(df_109['PM10']))\n",
    "print(stationarity_check(df_109['NO2']))"
   ]
  },
  {
   "cell_type": "markdown",
   "metadata": {},
   "source": [
    "# Rolling Mean Difference Train"
   ]
  },
  {
   "cell_type": "code",
   "execution_count": null,
   "metadata": {},
   "outputs": [],
   "source": [
    "# Apply a 1st order difference to the time series and plot the rolling mean\n",
    "\n",
    "roll_mean_train = train.rolling(window=12).mean()\n",
    "roll_mean_train.plot();\n",
    "\n",
    "rm_diff_1 = roll_mean_train.diff(periods=1)\n",
    "rm_diff_1.plot(figsize=(12,6))\n",
    "\n",
    "\n",
    "rm_diff_2 = roll_mean_train.diff(periods=1).diff(periods=1)\n",
    "rm_diff_2.plot(figsize=(12,6));"
   ]
  },
  {
   "cell_type": "code",
   "execution_count": null,
   "metadata": {},
   "outputs": [],
   "source": [
    "print(stationarity_check(rm_diff_1['PM2.5'].dropna()))\n",
    "print(stationarity_check(rm_diff_1['PM10'].dropna()))\n",
    "print(stationarity_check(rm_diff_1['NO2'].dropna()))"
   ]
  },
  {
   "cell_type": "code",
   "execution_count": null,
   "metadata": {},
   "outputs": [],
   "source": [
    "print(stationarity_check(rm_diff_2['PM2.5'].dropna()))\n",
    "print(stationarity_check(rm_diff_2['PM10'].dropna()))\n",
    "print(stationarity_check(rm_diff_2['NO2'].dropna()))"
   ]
  },
  {
   "cell_type": "markdown",
   "metadata": {},
   "source": [
    "# Rolling Mean Difference Test"
   ]
  },
  {
   "cell_type": "code",
   "execution_count": null,
   "metadata": {},
   "outputs": [],
   "source": [
    "# Apply a 1st order difference to the time series and plot the rolling mean\n",
    "\n",
    "roll_mean_test = test.rolling(window=12).mean()\n",
    "roll_mean_test.plot();\n",
    "\n",
    "rm_diff_1 = roll_mean_test.diff(periods=1)\n",
    "rm_diff_1.plot(figsize=(12,6))\n",
    "\n",
    "\n",
    "rm_diff_2 = roll_mean_test.diff(periods=1).diff(periods=1)\n",
    "rm_diff_2.plot(figsize=(12,6));"
   ]
  },
  {
   "cell_type": "code",
   "execution_count": null,
   "metadata": {},
   "outputs": [],
   "source": [
    "print(stationarity_check(rm_diff_1['PM2.5'].dropna()))\n",
    "print(stationarity_check(rm_diff_1['PM10'].dropna()))\n",
    "print(stationarity_check(rm_diff_1['NO2'].dropna()))"
   ]
  },
  {
   "cell_type": "code",
   "execution_count": null,
   "metadata": {},
   "outputs": [],
   "source": [
    "print(stationarity_check(rm_diff_2['PM2.5'].dropna()))\n",
    "print(stationarity_check(rm_diff_2['PM10'].dropna()))\n",
    "print(stationarity_check(rm_diff_2['NO2'].dropna()))"
   ]
  },
  {
   "cell_type": "markdown",
   "metadata": {},
   "source": [
    "# Station 109 PM2.5"
   ]
  },
  {
   "cell_type": "code",
   "execution_count": null,
   "metadata": {},
   "outputs": [],
   "source": [
    "base_model = sm.tsa.statespace.SARIMAX(df_109['PM2.5'], trend='c', order=[0,0,0])\n",
    "res = base_model.fit(disp=False)\n",
    "print(res.summary())"
   ]
  },
  {
   "cell_type": "code",
   "execution_count": null,
   "metadata": {},
   "outputs": [],
   "source": [
    "timeseries = df_109['PM2.5']\n",
    "automodel = arimamodel(df_109['PM2.5'])\n",
    "plotarima(70, timeseries, automodel)"
   ]
  },
  {
   "cell_type": "code",
   "execution_count": null,
   "metadata": {},
   "outputs": [],
   "source": [
    "best_model = sm.tsa.statespace.SARIMAX(df_105['PM2.5'], trend='c', order=[4,0,1])\n",
    "res = best_model.fit(disp=False)\n",
    "print(res.summary())"
   ]
  },
  {
   "cell_type": "code",
   "execution_count": null,
   "metadata": {},
   "outputs": [],
   "source": [
    "model_train = arima_results(train['PM2.5'],test['PM2.5'], order=[4,0,1])"
   ]
  },
  {
   "cell_type": "markdown",
   "metadata": {},
   "source": [
    "# Station 109 PM10"
   ]
  },
  {
   "cell_type": "code",
   "execution_count": null,
   "metadata": {},
   "outputs": [],
   "source": [
    "base_model = sm.tsa.statespace.SARIMAX(df_109['PM10'], trend='c', order=[0,0,0])\n",
    "res = base_model.fit(disp=False)\n",
    "print(res.summary())"
   ]
  },
  {
   "cell_type": "code",
   "execution_count": null,
   "metadata": {},
   "outputs": [],
   "source": [
    "timeseries = df_109['PM10']\n",
    "automodel = arimamodel(df_109['PM10'])\n",
    "plotarima(70, timeseries, automodel)"
   ]
  },
  {
   "cell_type": "code",
   "execution_count": null,
   "metadata": {},
   "outputs": [],
   "source": [
    "best_model = sm.tsa.statespace.SARIMAX(df_109['PM10'], trend='c', order=[2,0,2])\n",
    "res = best_model.fit(disp=False)\n",
    "print(res.summary())"
   ]
  },
  {
   "cell_type": "code",
   "execution_count": null,
   "metadata": {},
   "outputs": [],
   "source": [
    "model_train = arima_results(train['PM10'],test['PM10'], order=[2,0,2])"
   ]
  },
  {
   "cell_type": "markdown",
   "metadata": {},
   "source": [
    "# Station 109 NO2"
   ]
  },
  {
   "cell_type": "code",
   "execution_count": null,
   "metadata": {},
   "outputs": [],
   "source": [
    "base_model = sm.tsa.statespace.SARIMAX(df_109['NO2'], trend='c', order=[0,0,0])\n",
    "res = base_model.fit(disp=False)\n",
    "print(res.summary())"
   ]
  },
  {
   "cell_type": "code",
   "execution_count": null,
   "metadata": {},
   "outputs": [],
   "source": [
    "timeseries = df_109['NO2']\n",
    "automodel = arimamodel(df_109['NO2'])\n",
    "plotarima(70, timeseries, automodel)"
   ]
  },
  {
   "cell_type": "code",
   "execution_count": null,
   "metadata": {},
   "outputs": [],
   "source": [
    "best_model = sm.tsa.statespace.SARIMAX(df_105['NO2'], trend='c', order=[2,0,1])\n",
    "res = best_model.fit(disp=False)\n",
    "print(res.summary())"
   ]
  },
  {
   "cell_type": "code",
   "execution_count": null,
   "metadata": {},
   "outputs": [],
   "source": [
    "model_train = arima_results(train['NO2'],test['NO2'], order=[2,0,1])"
   ]
  },
  {
   "cell_type": "markdown",
   "metadata": {},
   "source": [
    "# Station 110"
   ]
  },
  {
   "cell_type": "code",
   "execution_count": null,
   "metadata": {},
   "outputs": [],
   "source": [
    "df_110 = df[df['Station code'] == 110]"
   ]
  },
  {
   "cell_type": "code",
   "execution_count": null,
   "metadata": {},
   "outputs": [],
   "source": [
    "df_110.head()"
   ]
  },
  {
   "cell_type": "code",
   "execution_count": null,
   "metadata": {},
   "outputs": [],
   "source": [
    "for feature in features:\n",
    "    fig, ax = plt.subplots(figsize=(35,8))\n",
    "    fig.suptitle(\"Station 110\", fontsize=20)\n",
    "    ax.set_xlabel('Year, Day', fontsize=20)\n",
    "    sns.lineplot(x='Measurement date', y=feature, data=df_110)"
   ]
  },
  {
   "cell_type": "code",
   "execution_count": null,
   "metadata": {},
   "outputs": [],
   "source": [
    "df_110['PM2.5 Level'].value_counts()"
   ]
  },
  {
   "cell_type": "markdown",
   "metadata": {},
   "source": [
    "##### So as seen above for Station 110\n",
    "- NO2 reaches levels of 'Bad' on 7 occasions and sits close to bad on most of the year.\n",
    "- PM10 reaches levels of 'Bad' on 64 occasions and 'Very Bad' on 4, can gets close to bad on many occasions.\n",
    "- Lastly, PM2.5 reaches levels of 'Bad' on 153 occasions and 'Very Bad' on 19 occasions."
   ]
  },
  {
   "cell_type": "markdown",
   "metadata": {},
   "source": [
    "# Picking the relevant columns"
   ]
  },
  {
   "cell_type": "code",
   "execution_count": null,
   "metadata": {},
   "outputs": [],
   "source": [
    "columns = ['NO2', 'PM10', 'PM2.5']\n",
    "df_110 = df_110[columns]\n",
    "df_110"
   ]
  },
  {
   "cell_type": "code",
   "execution_count": null,
   "metadata": {},
   "outputs": [],
   "source": [
    "train = df_110[:-542]\n",
    "test = df_110[542:]"
   ]
  },
  {
   "cell_type": "code",
   "execution_count": null,
   "metadata": {},
   "outputs": [],
   "source": [
    "test['NO2'].plot()"
   ]
  },
  {
   "cell_type": "code",
   "execution_count": null,
   "metadata": {},
   "outputs": [],
   "source": [
    "test['PM10'].plot()"
   ]
  },
  {
   "cell_type": "code",
   "execution_count": null,
   "metadata": {},
   "outputs": [],
   "source": [
    "test['PM2.5'].plot()"
   ]
  },
  {
   "cell_type": "code",
   "execution_count": null,
   "metadata": {},
   "outputs": [],
   "source": [
    "train['NO2'].plot()"
   ]
  },
  {
   "cell_type": "code",
   "execution_count": null,
   "metadata": {},
   "outputs": [],
   "source": [
    "train['PM10'].plot()"
   ]
  },
  {
   "cell_type": "code",
   "execution_count": null,
   "metadata": {},
   "outputs": [],
   "source": [
    "train['PM2.5'].plot()"
   ]
  },
  {
   "cell_type": "code",
   "execution_count": null,
   "metadata": {},
   "outputs": [],
   "source": [
    "print(stationarity_check(df_110['PM2.5']))\n",
    "print(stationarity_check(df_110['PM10']))\n",
    "print(stationarity_check(df_110['NO2']))"
   ]
  },
  {
   "cell_type": "markdown",
   "metadata": {},
   "source": [
    "# Rolling Mean Difference Train"
   ]
  },
  {
   "cell_type": "code",
   "execution_count": null,
   "metadata": {},
   "outputs": [],
   "source": [
    "# Apply a 1st order difference to the time series and plot the rolling mean\n",
    "\n",
    "roll_mean_train = train.rolling(window=12).mean()\n",
    "roll_mean_train.plot();\n",
    "\n",
    "rm_diff_1 = roll_mean_train.diff(periods=1)\n",
    "rm_diff_1.plot(figsize=(12,6))\n",
    "\n",
    "\n",
    "rm_diff_2 = roll_mean_train.diff(periods=1).diff(periods=1)\n",
    "rm_diff_2.plot(figsize=(12,6));"
   ]
  },
  {
   "cell_type": "code",
   "execution_count": null,
   "metadata": {},
   "outputs": [],
   "source": [
    "print(stationarity_check(rm_diff_1['PM2.5'].dropna()))\n",
    "print(stationarity_check(rm_diff_1['PM10'].dropna()))\n",
    "print(stationarity_check(rm_diff_1['NO2'].dropna()))"
   ]
  },
  {
   "cell_type": "code",
   "execution_count": null,
   "metadata": {},
   "outputs": [],
   "source": [
    "print(stationarity_check(rm_diff_2['PM2.5'].dropna()))\n",
    "print(stationarity_check(rm_diff_2['PM10'].dropna()))\n",
    "print(stationarity_check(rm_diff_2['NO2'].dropna()))"
   ]
  },
  {
   "cell_type": "markdown",
   "metadata": {},
   "source": [
    "# Rolling Mean Difference Test"
   ]
  },
  {
   "cell_type": "code",
   "execution_count": null,
   "metadata": {},
   "outputs": [],
   "source": [
    "# Apply a 1st order difference to the time series and plot the rolling mean\n",
    "\n",
    "roll_mean_test = test.rolling(window=12).mean()\n",
    "roll_mean_test.plot();\n",
    "\n",
    "rm_diff_1 = roll_mean_test.diff(periods=1)\n",
    "rm_diff_1.plot(figsize=(12,6))\n",
    "\n",
    "\n",
    "rm_diff_2 = roll_mean_test.diff(periods=1).diff(periods=1)\n",
    "rm_diff_2.plot(figsize=(12,6));"
   ]
  },
  {
   "cell_type": "code",
   "execution_count": null,
   "metadata": {},
   "outputs": [],
   "source": [
    "print(stationarity_check(rm_diff_1['PM2.5'].dropna()))\n",
    "print(stationarity_check(rm_diff_1['PM10'].dropna()))\n",
    "print(stationarity_check(rm_diff_1['NO2'].dropna()))"
   ]
  },
  {
   "cell_type": "code",
   "execution_count": null,
   "metadata": {},
   "outputs": [],
   "source": [
    "print(stationarity_check(rm_diff_2['PM2.5'].dropna()))\n",
    "print(stationarity_check(rm_diff_2['PM10'].dropna()))\n",
    "print(stationarity_check(rm_diff_2['NO2'].dropna()))"
   ]
  },
  {
   "cell_type": "markdown",
   "metadata": {},
   "source": [
    "# Station 110 PM2.5"
   ]
  },
  {
   "cell_type": "code",
   "execution_count": null,
   "metadata": {},
   "outputs": [],
   "source": [
    "base_model = sm.tsa.statespace.SARIMAX(df_110['PM2.5'], trend='c', order=[0,0,0])\n",
    "res = base_model.fit(disp=False)\n",
    "print(res.summary())"
   ]
  },
  {
   "cell_type": "code",
   "execution_count": null,
   "metadata": {},
   "outputs": [],
   "source": [
    "timeseries = df_110['PM2.5']\n",
    "automodel = arimamodel(df_110['PM2.5'])\n",
    "plotarima(70, timeseries, automodel)"
   ]
  },
  {
   "cell_type": "code",
   "execution_count": null,
   "metadata": {},
   "outputs": [],
   "source": [
    "best_model = sm.tsa.statespace.SARIMAX(df_110['PM2.5'], trend='c', order=[2,0,2])\n",
    "res = best_model.fit(disp=False)\n",
    "print(res.summary())"
   ]
  },
  {
   "cell_type": "code",
   "execution_count": null,
   "metadata": {
    "scrolled": true
   },
   "outputs": [],
   "source": [
    "model_train = arima_results(train['PM2.5'],test['PM2.5'], order=[2,0,2])"
   ]
  },
  {
   "cell_type": "markdown",
   "metadata": {},
   "source": [
    "# Station 110 PM10"
   ]
  },
  {
   "cell_type": "code",
   "execution_count": null,
   "metadata": {},
   "outputs": [],
   "source": [
    "base_model = sm.tsa.statespace.SARIMAX(df_110['PM10'], trend='c', order=[0,0,0])\n",
    "res = base_model.fit(disp=False)\n",
    "print(res.summary())"
   ]
  },
  {
   "cell_type": "code",
   "execution_count": null,
   "metadata": {},
   "outputs": [],
   "source": [
    "timeseries = df_110['PM10']\n",
    "automodel = arimamodel(df_110['PM10'])\n",
    "plotarima(70, timeseries, automodel)"
   ]
  },
  {
   "cell_type": "code",
   "execution_count": null,
   "metadata": {},
   "outputs": [],
   "source": [
    "best_model = sm.tsa.statespace.SARIMAX(df_110['PM10'], trend='c', order=[3,0,2])\n",
    "res = best_model.fit(disp=False)\n",
    "print(res.summary())"
   ]
  },
  {
   "cell_type": "code",
   "execution_count": null,
   "metadata": {},
   "outputs": [],
   "source": [
    "model_train = arima_results(train['PM10'],test['PM10'], order=[3,0,2])"
   ]
  },
  {
   "cell_type": "markdown",
   "metadata": {},
   "source": [
    "# Station 110 NO2"
   ]
  },
  {
   "cell_type": "code",
   "execution_count": null,
   "metadata": {},
   "outputs": [],
   "source": [
    "base_model = sm.tsa.statespace.SARIMAX(df_110['NO2'], trend='c', order=[0,0,0])\n",
    "res = base_model.fit(disp=False)\n",
    "print(res.summary())"
   ]
  },
  {
   "cell_type": "code",
   "execution_count": null,
   "metadata": {},
   "outputs": [],
   "source": [
    "timeseries = df_110['NO2']\n",
    "automodel = arimamodel(df_110['NO2'])\n",
    "plotarima(70, timeseries, automodel)"
   ]
  },
  {
   "cell_type": "code",
   "execution_count": null,
   "metadata": {},
   "outputs": [],
   "source": [
    "best_model = sm.tsa.statespace.SARIMAX(df_110['NO2'], trend='c', order=[5,0,4])\n",
    "res = best_model.fit(disp=False)\n",
    "print(res.summary())"
   ]
  },
  {
   "cell_type": "code",
   "execution_count": null,
   "metadata": {},
   "outputs": [],
   "source": [
    "model_train = arima_results(train['NO2'],test['NO2'], order=[5,0,4])"
   ]
  },
  {
   "cell_type": "markdown",
   "metadata": {},
   "source": [
    "# Station 111"
   ]
  },
  {
   "cell_type": "code",
   "execution_count": null,
   "metadata": {},
   "outputs": [],
   "source": [
    "df_111 = df[df['Station code'] == 111]"
   ]
  },
  {
   "cell_type": "code",
   "execution_count": null,
   "metadata": {},
   "outputs": [],
   "source": [
    "df_111.head()"
   ]
  },
  {
   "cell_type": "code",
   "execution_count": null,
   "metadata": {
    "scrolled": true
   },
   "outputs": [],
   "source": [
    "for feature in features:\n",
    "    fig, ax = plt.subplots(figsize=(35,8))\n",
    "    fig.suptitle(\"Station 111\", fontsize=20)\n",
    "    ax.set_xlabel('Year, Day', fontsize=20)\n",
    "    sns.lineplot(x='Measurement date', y=feature, data=df_111)"
   ]
  },
  {
   "cell_type": "code",
   "execution_count": null,
   "metadata": {},
   "outputs": [],
   "source": [
    "df_111['PM2.5 Level'].value_counts()"
   ]
  },
  {
   "cell_type": "markdown",
   "metadata": {},
   "source": [
    "###### So as seen above for Station 111\n",
    "- NO2 reaches levels of 'Bad' on 26 occasions and sits close to bad on most of the year.\n",
    "- PM10 reaches levels of 'Bad' on 78 occasions and 'Very Bad' on 11, can gets close to bad on many occasions.\n",
    "- Lastly, PM2.5 reaches levels of 'Bad' on 166 occasions and 'Very Bad' on 17 occasions."
   ]
  },
  {
   "cell_type": "markdown",
   "metadata": {},
   "source": [
    "# Picking the relevant columns"
   ]
  },
  {
   "cell_type": "code",
   "execution_count": null,
   "metadata": {},
   "outputs": [],
   "source": [
    "columns = ['NO2', 'PM10', 'PM2.5']\n",
    "df_111 = df_111[columns]\n",
    "df_111"
   ]
  },
  {
   "cell_type": "markdown",
   "metadata": {},
   "source": [
    "# Train-Test Split"
   ]
  },
  {
   "cell_type": "code",
   "execution_count": null,
   "metadata": {},
   "outputs": [],
   "source": [
    "train = df_111[:-542]\n",
    "test = df_111[542:]"
   ]
  },
  {
   "cell_type": "code",
   "execution_count": null,
   "metadata": {},
   "outputs": [],
   "source": [
    "test['NO2'].plot()"
   ]
  },
  {
   "cell_type": "code",
   "execution_count": null,
   "metadata": {},
   "outputs": [],
   "source": [
    "test['PM10'].plot()"
   ]
  },
  {
   "cell_type": "code",
   "execution_count": null,
   "metadata": {},
   "outputs": [],
   "source": [
    "test['PM2.5'].plot()"
   ]
  },
  {
   "cell_type": "code",
   "execution_count": null,
   "metadata": {},
   "outputs": [],
   "source": [
    "train['NO2'].plot()"
   ]
  },
  {
   "cell_type": "code",
   "execution_count": null,
   "metadata": {},
   "outputs": [],
   "source": [
    "train['PM10'].plot()"
   ]
  },
  {
   "cell_type": "code",
   "execution_count": null,
   "metadata": {},
   "outputs": [],
   "source": [
    "train['PM2.5'].plot()"
   ]
  },
  {
   "cell_type": "code",
   "execution_count": null,
   "metadata": {},
   "outputs": [],
   "source": [
    "print(stationarity_check(df_111['PM2.5']))\n",
    "print(stationarity_check(df_111['PM10']))\n",
    "print(stationarity_check(df_111['NO2']))"
   ]
  },
  {
   "cell_type": "markdown",
   "metadata": {},
   "source": [
    "# Rolling Mean Difference Train"
   ]
  },
  {
   "cell_type": "code",
   "execution_count": null,
   "metadata": {},
   "outputs": [],
   "source": [
    "# Apply a 1st order difference to the time series and plot the rolling mean\n",
    "\n",
    "roll_mean_train = train.rolling(window=12).mean()\n",
    "roll_mean_train.plot();\n",
    "\n",
    "rm_diff_1 = roll_mean_train.diff(periods=1)\n",
    "rm_diff_1.plot(figsize=(12,6))\n",
    "\n",
    "\n",
    "rm_diff_2 = roll_mean_train.diff(periods=1).diff(periods=1)\n",
    "rm_diff_2.plot(figsize=(12,6));"
   ]
  },
  {
   "cell_type": "code",
   "execution_count": null,
   "metadata": {},
   "outputs": [],
   "source": [
    "print(stationarity_check(rm_diff_1['PM2.5'].dropna()))\n",
    "print(stationarity_check(rm_diff_1['PM10'].dropna()))\n",
    "print(stationarity_check(rm_diff_1['NO2'].dropna()))"
   ]
  },
  {
   "cell_type": "code",
   "execution_count": null,
   "metadata": {},
   "outputs": [],
   "source": [
    "print(stationarity_check(rm_diff_2['PM2.5'].dropna()))\n",
    "print(stationarity_check(rm_diff_2['PM10'].dropna()))\n",
    "print(stationarity_check(rm_diff_2['NO2'].dropna()))"
   ]
  },
  {
   "cell_type": "markdown",
   "metadata": {},
   "source": [
    "# Rolling Mean Difference Test"
   ]
  },
  {
   "cell_type": "code",
   "execution_count": null,
   "metadata": {},
   "outputs": [],
   "source": [
    "# Apply a 1st order difference to the time series and plot the rolling mean\n",
    "\n",
    "roll_mean_test = test.rolling(window=12).mean()\n",
    "roll_mean_test.plot();\n",
    "\n",
    "rm_diff_1 = roll_mean_test.diff(periods=1)\n",
    "rm_diff_1.plot(figsize=(12,6))\n",
    "\n",
    "\n",
    "rm_diff_2 = roll_mean_test.diff(periods=1).diff(periods=1)\n",
    "rm_diff_2.plot(figsize=(12,6));"
   ]
  },
  {
   "cell_type": "code",
   "execution_count": null,
   "metadata": {},
   "outputs": [],
   "source": [
    "print(stationarity_check(rm_diff_1['PM2.5'].dropna()))\n",
    "print(stationarity_check(rm_diff_1['PM10'].dropna()))\n",
    "print(stationarity_check(rm_diff_1['NO2'].dropna()))"
   ]
  },
  {
   "cell_type": "code",
   "execution_count": null,
   "metadata": {},
   "outputs": [],
   "source": [
    "print(stationarity_check(rm_diff_2['PM2.5'].dropna()))\n",
    "print(stationarity_check(rm_diff_2['PM10'].dropna()))\n",
    "print(stationarity_check(rm_diff_2['NO2'].dropna()))"
   ]
  },
  {
   "cell_type": "markdown",
   "metadata": {},
   "source": [
    "# Station 111 PM2.5"
   ]
  },
  {
   "cell_type": "code",
   "execution_count": null,
   "metadata": {},
   "outputs": [],
   "source": [
    "base_model = sm.tsa.statespace.SARIMAX(df_111['PM2.5'], trend='c', order=[0,0,0])\n",
    "res = base_model.fit(disp=False)\n",
    "print(res.summary())"
   ]
  },
  {
   "cell_type": "code",
   "execution_count": null,
   "metadata": {},
   "outputs": [],
   "source": [
    "timeseries = df_111['PM2.5']\n",
    "automodel = arimamodel(df_111['PM2.5'])\n",
    "plotarima(70, timeseries, automodel)"
   ]
  },
  {
   "cell_type": "code",
   "execution_count": null,
   "metadata": {},
   "outputs": [],
   "source": [
    "best_model = sm.tsa.statespace.SARIMAX(df_111['PM2.5'], trend='c', order=[4,0,2])\n",
    "res = best_model.fit(disp=False)\n",
    "print(res.summary())"
   ]
  },
  {
   "cell_type": "code",
   "execution_count": null,
   "metadata": {},
   "outputs": [],
   "source": [
    "model_train = arima_results(train['PM2.5'],test['PM2.5'], order=[4,0,2])"
   ]
  },
  {
   "cell_type": "markdown",
   "metadata": {},
   "source": [
    "# Station 111 PM10"
   ]
  },
  {
   "cell_type": "code",
   "execution_count": null,
   "metadata": {},
   "outputs": [],
   "source": [
    "base_model = sm.tsa.statespace.SARIMAX(df_111['PM10'], trend='c', order=[0,0,0])\n",
    "res = base_model.fit(disp=False)\n",
    "print(res.summary())"
   ]
  },
  {
   "cell_type": "code",
   "execution_count": null,
   "metadata": {},
   "outputs": [],
   "source": [
    "timeseries = df_111['PM10']\n",
    "automodel = arimamodel(df_111['PM10'])\n",
    "plotarima(70, timeseries, automodel)"
   ]
  },
  {
   "cell_type": "code",
   "execution_count": null,
   "metadata": {},
   "outputs": [],
   "source": [
    "best_model = sm.tsa.statespace.SARIMAX(df_105['PM10'], trend='c', order=[1,0,4])\n",
    "res = best_model.fit(disp=False)\n",
    "print(res.summary())"
   ]
  },
  {
   "cell_type": "code",
   "execution_count": null,
   "metadata": {},
   "outputs": [],
   "source": [
    "model_train = arima_results(train['PM10'],test['PM10'], order=[1,0,4])"
   ]
  },
  {
   "cell_type": "markdown",
   "metadata": {},
   "source": [
    "# Station 111 NO2"
   ]
  },
  {
   "cell_type": "code",
   "execution_count": null,
   "metadata": {},
   "outputs": [],
   "source": [
    "base_model = sm.tsa.statespace.SARIMAX(df_111['NO2'], trend='c', order=[0,0,0])\n",
    "res = base_model.fit(disp=False)\n",
    "print(res.summary())"
   ]
  },
  {
   "cell_type": "code",
   "execution_count": null,
   "metadata": {},
   "outputs": [],
   "source": [
    "timeseries = df_111['NO2']\n",
    "automodel = arimamodel(df_111['NO2'])\n",
    "plotarima(70, timeseries, automodel)"
   ]
  },
  {
   "cell_type": "code",
   "execution_count": null,
   "metadata": {},
   "outputs": [],
   "source": [
    "best_model = sm.tsa.statespace.SARIMAX(df_105['NO2'], trend='c', order=[1,0,2])\n",
    "res = best_model.fit(disp=False)\n",
    "print(res.summary())"
   ]
  },
  {
   "cell_type": "code",
   "execution_count": null,
   "metadata": {},
   "outputs": [],
   "source": [
    "model_train = arima_results(train['NO2'],test['NO2'], order=[1,0,2])"
   ]
  },
  {
   "cell_type": "markdown",
   "metadata": {},
   "source": [
    "# Station 112"
   ]
  },
  {
   "cell_type": "code",
   "execution_count": null,
   "metadata": {},
   "outputs": [],
   "source": [
    "df_112 = df[df['Station code'] == 112]"
   ]
  },
  {
   "cell_type": "code",
   "execution_count": null,
   "metadata": {},
   "outputs": [],
   "source": [
    "df_112.head()"
   ]
  },
  {
   "cell_type": "code",
   "execution_count": null,
   "metadata": {
    "scrolled": true
   },
   "outputs": [],
   "source": [
    "for feature in features:\n",
    "    fig, ax = plt.subplots(figsize=(35,8))\n",
    "    fig.suptitle(\"Station 112\", fontsize=20)\n",
    "    ax.set_xlabel('Year, Day', fontsize=20)\n",
    "    sns.lineplot(x='Measurement date', y=feature, data=df_112)"
   ]
  },
  {
   "cell_type": "code",
   "execution_count": null,
   "metadata": {},
   "outputs": [],
   "source": [
    "df_112['PM2.5 Level'].value_counts()"
   ]
  },
  {
   "cell_type": "markdown",
   "metadata": {},
   "source": [
    "###### So as seen above for Station 112\n",
    "- NO2 reaches levels of 'Bad' on 10 occasions and sits close to bad on most of the year.\n",
    "- PM10 reaches levels of 'Bad' on 63 occasions and 'Very Bad' on 4, can gets close to bad on many occasions.\n",
    "- PM2.5 reaches levels of 'Bad' on 144 occasions and 'Very Bad' on 14 occasions."
   ]
  },
  {
   "cell_type": "markdown",
   "metadata": {},
   "source": [
    "# Picking the relevant columns"
   ]
  },
  {
   "cell_type": "code",
   "execution_count": null,
   "metadata": {},
   "outputs": [],
   "source": [
    "columns = ['NO2', 'PM10', 'PM2.5']\n",
    "df_112 = df_112[columns]\n",
    "df_112"
   ]
  },
  {
   "cell_type": "markdown",
   "metadata": {},
   "source": [
    "# Train-Test Split"
   ]
  },
  {
   "cell_type": "code",
   "execution_count": null,
   "metadata": {},
   "outputs": [],
   "source": [
    "train = df_112[:-542]\n",
    "test = df_112[542:]"
   ]
  },
  {
   "cell_type": "code",
   "execution_count": null,
   "metadata": {},
   "outputs": [],
   "source": [
    "test['NO2'].plot()"
   ]
  },
  {
   "cell_type": "code",
   "execution_count": null,
   "metadata": {},
   "outputs": [],
   "source": [
    "test['PM10'].plot()"
   ]
  },
  {
   "cell_type": "code",
   "execution_count": null,
   "metadata": {},
   "outputs": [],
   "source": [
    "test['PM2.5'].plot()"
   ]
  },
  {
   "cell_type": "code",
   "execution_count": null,
   "metadata": {},
   "outputs": [],
   "source": [
    "train['NO2'].plot()"
   ]
  },
  {
   "cell_type": "code",
   "execution_count": null,
   "metadata": {},
   "outputs": [],
   "source": [
    "train['PM10'].plot()"
   ]
  },
  {
   "cell_type": "code",
   "execution_count": null,
   "metadata": {},
   "outputs": [],
   "source": [
    "train['PM2.5'].plot()"
   ]
  },
  {
   "cell_type": "code",
   "execution_count": null,
   "metadata": {},
   "outputs": [],
   "source": [
    "print(stationarity_check(df_112['PM2.5']))\n",
    "print(stationarity_check(df_112['PM10']))\n",
    "print(stationarity_check(df_112['NO2']))"
   ]
  },
  {
   "cell_type": "markdown",
   "metadata": {},
   "source": [
    "# Rolling Mean Difference Train"
   ]
  },
  {
   "cell_type": "code",
   "execution_count": null,
   "metadata": {},
   "outputs": [],
   "source": [
    "# Apply a 1st order difference to the time series and plot the rolling mean\n",
    "\n",
    "roll_mean_train = train.rolling(window=12).mean()\n",
    "roll_mean_train.plot();\n",
    "\n",
    "rm_diff_1 = roll_mean_train.diff(periods=1)\n",
    "rm_diff_1.plot(figsize=(12,6))\n",
    "\n",
    "\n",
    "rm_diff_2 = roll_mean_train.diff(periods=1).diff(periods=1)\n",
    "rm_diff_2.plot(figsize=(12,6));"
   ]
  },
  {
   "cell_type": "code",
   "execution_count": null,
   "metadata": {},
   "outputs": [],
   "source": [
    "print(stationarity_check(rm_diff_1['PM2.5'].dropna()))\n",
    "print(stationarity_check(rm_diff_1['PM10'].dropna()))\n",
    "print(stationarity_check(rm_diff_1['NO2'].dropna()))"
   ]
  },
  {
   "cell_type": "code",
   "execution_count": null,
   "metadata": {},
   "outputs": [],
   "source": [
    "print(stationarity_check(rm_diff_2['PM2.5'].dropna()))\n",
    "print(stationarity_check(rm_diff_2['PM10'].dropna()))\n",
    "print(stationarity_check(rm_diff_2['NO2'].dropna()))"
   ]
  },
  {
   "cell_type": "markdown",
   "metadata": {},
   "source": [
    "# Rolling Mean Difference Test"
   ]
  },
  {
   "cell_type": "code",
   "execution_count": null,
   "metadata": {},
   "outputs": [],
   "source": [
    "# Apply a 1st order difference to the time series and plot the rolling mean\n",
    "\n",
    "roll_mean_test = test.rolling(window=12).mean()\n",
    "roll_mean_test.plot();\n",
    "\n",
    "rm_diff_1 = roll_mean_test.diff(periods=1)\n",
    "rm_diff_1.plot(figsize=(12,6))\n",
    "\n",
    "\n",
    "rm_diff_2 = roll_mean_test.diff(periods=1).diff(periods=1)\n",
    "rm_diff_2.plot(figsize=(12,6));"
   ]
  },
  {
   "cell_type": "code",
   "execution_count": null,
   "metadata": {},
   "outputs": [],
   "source": [
    "print(stationarity_check(rm_diff_1['PM2.5'].dropna()))\n",
    "print(stationarity_check(rm_diff_1['PM10'].dropna()))\n",
    "print(stationarity_check(rm_diff_1['NO2'].dropna()))"
   ]
  },
  {
   "cell_type": "code",
   "execution_count": null,
   "metadata": {},
   "outputs": [],
   "source": [
    "print(stationarity_check(rm_diff_2['PM2.5'].dropna()))\n",
    "print(stationarity_check(rm_diff_2['PM10'].dropna()))\n",
    "print(stationarity_check(rm_diff_2['NO2'].dropna()))"
   ]
  },
  {
   "cell_type": "markdown",
   "metadata": {},
   "source": [
    "# Station 112 PM2.5"
   ]
  },
  {
   "cell_type": "code",
   "execution_count": null,
   "metadata": {},
   "outputs": [],
   "source": [
    "base_model = sm.tsa.statespace.SARIMAX(df_112['PM2.5'], trend='c', order=[0,0,0])\n",
    "res = base_model.fit(disp=False)\n",
    "print(res.summary())"
   ]
  },
  {
   "cell_type": "code",
   "execution_count": null,
   "metadata": {},
   "outputs": [],
   "source": [
    "timeseries = df_112['PM2.5']\n",
    "automodel = arimamodel(df_112['PM2.5'])\n",
    "plotarima(70, timeseries, automodel)"
   ]
  },
  {
   "cell_type": "code",
   "execution_count": null,
   "metadata": {},
   "outputs": [],
   "source": [
    "best_model = sm.tsa.statespace.SARIMAX(df_112['PM2.5'], trend='c', order=[2,0,2])\n",
    "res = best_model.fit(disp=False)\n",
    "print(res.summary())"
   ]
  },
  {
   "cell_type": "code",
   "execution_count": null,
   "metadata": {},
   "outputs": [],
   "source": [
    "model_train = arima_results(train['PM2.5'],test['PM2.5'], order=[2,0,2])"
   ]
  },
  {
   "cell_type": "markdown",
   "metadata": {},
   "source": [
    "# Station 112 PM10"
   ]
  },
  {
   "cell_type": "code",
   "execution_count": null,
   "metadata": {},
   "outputs": [],
   "source": [
    "base_model = sm.tsa.statespace.SARIMAX(df_112['PM10'], trend='c', order=[0,0,0])\n",
    "res = base_model.fit(disp=False)\n",
    "print(res.summary())"
   ]
  },
  {
   "cell_type": "code",
   "execution_count": null,
   "metadata": {},
   "outputs": [],
   "source": [
    "timeseries = df_112['PM10']\n",
    "automodel = arimamodel(df_112['PM10'])\n",
    "plotarima(70, timeseries, automodel)"
   ]
  },
  {
   "cell_type": "code",
   "execution_count": null,
   "metadata": {},
   "outputs": [],
   "source": [
    "best_model = sm.tsa.statespace.SARIMAX(df_112['PM10'], trend='c', order=[2,0,2])\n",
    "res = best_model.fit(disp=False)\n",
    "print(res.summary())"
   ]
  },
  {
   "cell_type": "code",
   "execution_count": null,
   "metadata": {},
   "outputs": [],
   "source": [
    "model_train = arima_results(train['PM10'],test['PM10'], order=[2,0,2])"
   ]
  },
  {
   "cell_type": "markdown",
   "metadata": {},
   "source": [
    "# Station 112 NO2"
   ]
  },
  {
   "cell_type": "code",
   "execution_count": null,
   "metadata": {},
   "outputs": [],
   "source": [
    "base_model = sm.tsa.statespace.SARIMAX(df_112['NO2'], trend='c', order=[0,0,0])\n",
    "res = base_model.fit(disp=False)\n",
    "print(res.summary())"
   ]
  },
  {
   "cell_type": "code",
   "execution_count": null,
   "metadata": {},
   "outputs": [],
   "source": [
    "timeseries = df_112['NO2']\n",
    "automodel = arimamodel(df_112['NO2'])\n",
    "plotarima(70, timeseries, automodel)"
   ]
  },
  {
   "cell_type": "code",
   "execution_count": null,
   "metadata": {},
   "outputs": [],
   "source": [
    "best_model = sm.tsa.statespace.SARIMAX(df_112['NO2'], trend='c', order=[3,0,1])\n",
    "res = best_model.fit(disp=False)\n",
    "print(res.summary())"
   ]
  },
  {
   "cell_type": "code",
   "execution_count": null,
   "metadata": {},
   "outputs": [],
   "source": [
    "model_train = arima_results(train['NO2'],test['NO2'], order=[3,0,1])"
   ]
  },
  {
   "cell_type": "markdown",
   "metadata": {},
   "source": [
    "# Station 113"
   ]
  },
  {
   "cell_type": "code",
   "execution_count": null,
   "metadata": {},
   "outputs": [],
   "source": [
    "df_113 = df[df['Station code'] == 113]"
   ]
  },
  {
   "cell_type": "code",
   "execution_count": null,
   "metadata": {},
   "outputs": [],
   "source": [
    "df_113.head()"
   ]
  },
  {
   "cell_type": "code",
   "execution_count": null,
   "metadata": {},
   "outputs": [],
   "source": [
    "for feature in features:\n",
    "    fig, ax = plt.subplots(figsize=(35,8))\n",
    "    fig.suptitle(\"Station 113\", fontsize=20)\n",
    "    ax.set_xlabel('Year, Day', fontsize=20)\n",
    "    sns.lineplot(x='Measurement date', y=feature, data=df_113)"
   ]
  },
  {
   "cell_type": "markdown",
   "metadata": {},
   "source": [
    "# Station 114"
   ]
  },
  {
   "cell_type": "code",
   "execution_count": null,
   "metadata": {},
   "outputs": [],
   "source": [
    "df_114 = df[df['Station code'] == 114]"
   ]
  },
  {
   "cell_type": "code",
   "execution_count": null,
   "metadata": {},
   "outputs": [],
   "source": [
    "df_114.head()"
   ]
  },
  {
   "cell_type": "code",
   "execution_count": null,
   "metadata": {},
   "outputs": [],
   "source": [
    "for feature in features:\n",
    "    fig, ax = plt.subplots(figsize=(35,8))\n",
    "    fig.suptitle(\"Station 114\", fontsize=20)\n",
    "    ax.set_xlabel('Year, Day', fontsize=20)\n",
    "    sns.lineplot(x='Measurement date', y=feature, data=df_114)"
   ]
  },
  {
   "cell_type": "markdown",
   "metadata": {},
   "source": [
    "# Station 115"
   ]
  },
  {
   "cell_type": "code",
   "execution_count": null,
   "metadata": {},
   "outputs": [],
   "source": [
    "df_115 = df[df['Station code'] == 115]"
   ]
  },
  {
   "cell_type": "code",
   "execution_count": null,
   "metadata": {},
   "outputs": [],
   "source": [
    "df_115.head()"
   ]
  },
  {
   "cell_type": "code",
   "execution_count": null,
   "metadata": {},
   "outputs": [],
   "source": [
    "for feature in features:\n",
    "    fig, ax = plt.subplots(figsize=(35,8))\n",
    "    fig.suptitle(\"Station 115\", fontsize=20)\n",
    "    ax.set_xlabel('Year, Day', fontsize=20)\n",
    "    sns.lineplot(x='Measurement date', y=feature, data=df_115)"
   ]
  },
  {
   "cell_type": "markdown",
   "metadata": {},
   "source": [
    "# Station 116"
   ]
  },
  {
   "cell_type": "code",
   "execution_count": null,
   "metadata": {},
   "outputs": [],
   "source": [
    "df_116 = df[df['Station code'] == 116]"
   ]
  },
  {
   "cell_type": "code",
   "execution_count": null,
   "metadata": {},
   "outputs": [],
   "source": [
    "df_116.head()"
   ]
  },
  {
   "cell_type": "code",
   "execution_count": null,
   "metadata": {},
   "outputs": [],
   "source": [
    "for feature in features:\n",
    "    fig, ax = plt.subplots(figsize=(35,8))\n",
    "    fig.suptitle(\"Station 116\", fontsize=20)\n",
    "    ax.set_xlabel('Year, Day', fontsize=20)\n",
    "    sns.lineplot(x='Measurement date', y=feature, data=df_116)"
   ]
  },
  {
   "cell_type": "markdown",
   "metadata": {},
   "source": [
    "# Station 117"
   ]
  },
  {
   "cell_type": "code",
   "execution_count": null,
   "metadata": {},
   "outputs": [],
   "source": [
    "df_117 = df[df['Station code'] == 117]"
   ]
  },
  {
   "cell_type": "code",
   "execution_count": null,
   "metadata": {},
   "outputs": [],
   "source": [
    "df_117.head()"
   ]
  },
  {
   "cell_type": "code",
   "execution_count": null,
   "metadata": {},
   "outputs": [],
   "source": [
    "for feature in features:\n",
    "    fig, ax = plt.subplots(figsize=(35,8))\n",
    "    fig.suptitle(\"Station 117\", fontsize=20)\n",
    "    ax.set_xlabel('Year, Day', fontsize=20)\n",
    "    sns.lineplot(x='Measurement date', y=feature, data=df_117)"
   ]
  },
  {
   "cell_type": "markdown",
   "metadata": {},
   "source": [
    "# Station 118"
   ]
  },
  {
   "cell_type": "code",
   "execution_count": null,
   "metadata": {},
   "outputs": [],
   "source": [
    "df_118 = df[df['Station code'] == 118]"
   ]
  },
  {
   "cell_type": "code",
   "execution_count": null,
   "metadata": {},
   "outputs": [],
   "source": [
    "df_118.head()"
   ]
  },
  {
   "cell_type": "code",
   "execution_count": null,
   "metadata": {},
   "outputs": [],
   "source": [
    "for feature in features:\n",
    "    fig, ax = plt.subplots(figsize=(35,8))\n",
    "    fig.suptitle(\"Station 118\", fontsize=20)\n",
    "    ax.set_xlabel('Year, Day', fontsize=20)\n",
    "    sns.lineplot(x='Measurement date', y=feature, data=df_118)"
   ]
  },
  {
   "cell_type": "markdown",
   "metadata": {},
   "source": [
    "# Station 119"
   ]
  },
  {
   "cell_type": "code",
   "execution_count": null,
   "metadata": {},
   "outputs": [],
   "source": [
    "df_119 = df[df['Station code'] == 119]"
   ]
  },
  {
   "cell_type": "code",
   "execution_count": null,
   "metadata": {},
   "outputs": [],
   "source": [
    "df_119.head()"
   ]
  },
  {
   "cell_type": "code",
   "execution_count": null,
   "metadata": {},
   "outputs": [],
   "source": [
    "for feature in features:\n",
    "    fig, ax = plt.subplots(figsize=(35,8))\n",
    "    fig.suptitle(\"Station 119\", fontsize=20)\n",
    "    ax.set_xlabel('Year, Day', fontsize=20)\n",
    "    sns.lineplot(x='Measurement date', y=feature, data=df_119)"
   ]
  },
  {
   "cell_type": "markdown",
   "metadata": {},
   "source": [
    "# Station 120"
   ]
  },
  {
   "cell_type": "code",
   "execution_count": null,
   "metadata": {},
   "outputs": [],
   "source": [
    "df_120 = df[df['Station code'] == 120]"
   ]
  },
  {
   "cell_type": "code",
   "execution_count": null,
   "metadata": {},
   "outputs": [],
   "source": [
    "df_120.head()"
   ]
  },
  {
   "cell_type": "code",
   "execution_count": null,
   "metadata": {},
   "outputs": [],
   "source": [
    "for feature in features:\n",
    "    fig, ax = plt.subplots(figsize=(35,8))\n",
    "    fig.suptitle(\"Station 120\", fontsize=20)\n",
    "    ax.set_xlabel('Year, Day', fontsize=20)\n",
    "    sns.lineplot(x='Measurement date', y=feature, data=df_120)"
   ]
  },
  {
   "cell_type": "markdown",
   "metadata": {},
   "source": [
    "# Station 121"
   ]
  },
  {
   "cell_type": "code",
   "execution_count": null,
   "metadata": {},
   "outputs": [],
   "source": [
    "df_121 = df[df['Station code'] == 121]"
   ]
  },
  {
   "cell_type": "code",
   "execution_count": null,
   "metadata": {},
   "outputs": [],
   "source": [
    "df_121.head()"
   ]
  },
  {
   "cell_type": "code",
   "execution_count": null,
   "metadata": {},
   "outputs": [],
   "source": [
    "for feature in features:\n",
    "    fig, ax = plt.subplots(figsize=(35,8))\n",
    "    fig.suptitle(\"Station 121\", fontsize=20)\n",
    "    ax.set_xlabel('Year, Day', fontsize=20)\n",
    "    sns.lineplot(x='Measurement date', y=feature, data=df_121)"
   ]
  },
  {
   "cell_type": "markdown",
   "metadata": {},
   "source": [
    "# Station 122"
   ]
  },
  {
   "cell_type": "code",
   "execution_count": null,
   "metadata": {},
   "outputs": [],
   "source": [
    "df_122 = df[df['Station code'] == 122]"
   ]
  },
  {
   "cell_type": "code",
   "execution_count": null,
   "metadata": {},
   "outputs": [],
   "source": [
    "df_122.head()"
   ]
  },
  {
   "cell_type": "code",
   "execution_count": null,
   "metadata": {},
   "outputs": [],
   "source": [
    "for feature in features:\n",
    "    fig, ax = plt.subplots(figsize=(35,8))\n",
    "    fig.suptitle(\"Station 122\", fontsize=20)\n",
    "    ax.set_xlabel('Year, Day', fontsize=20)\n",
    "    sns.lineplot(x='Measurement date', y=feature, data=df_122)"
   ]
  },
  {
   "cell_type": "markdown",
   "metadata": {},
   "source": [
    "# Station 123"
   ]
  },
  {
   "cell_type": "code",
   "execution_count": null,
   "metadata": {},
   "outputs": [],
   "source": [
    "df_123 = df[df['Station code'] == 123]"
   ]
  },
  {
   "cell_type": "code",
   "execution_count": null,
   "metadata": {},
   "outputs": [],
   "source": [
    "df_123.head()"
   ]
  },
  {
   "cell_type": "code",
   "execution_count": null,
   "metadata": {},
   "outputs": [],
   "source": [
    "for feature in features:\n",
    "    fig, ax = plt.subplots(figsize=(35,8))\n",
    "    fig.suptitle(\"Station 123\", fontsize=20)\n",
    "    ax.set_xlabel('Year, Day', fontsize=20)\n",
    "    sns.lineplot(x='Measurement date', y=feature, data=df_123)"
   ]
  },
  {
   "cell_type": "markdown",
   "metadata": {},
   "source": [
    "# Station 124"
   ]
  },
  {
   "cell_type": "code",
   "execution_count": null,
   "metadata": {},
   "outputs": [],
   "source": [
    "df_124 = df[df['Station code'] == 124]"
   ]
  },
  {
   "cell_type": "code",
   "execution_count": null,
   "metadata": {},
   "outputs": [],
   "source": [
    "df_124.head()"
   ]
  },
  {
   "cell_type": "code",
   "execution_count": null,
   "metadata": {},
   "outputs": [],
   "source": [
    "for feature in features:\n",
    "    fig, ax = plt.subplots(figsize=(35,8))\n",
    "    fig.suptitle(\"Station 124\", fontsize=20)\n",
    "    ax.set_xlabel('Year, Day', fontsize=20)\n",
    "    sns.lineplot(x='Measurement date', y=feature, data=df_124)"
   ]
  },
  {
   "cell_type": "markdown",
   "metadata": {},
   "source": [
    "# Station 125"
   ]
  },
  {
   "cell_type": "code",
   "execution_count": null,
   "metadata": {},
   "outputs": [],
   "source": [
    "df_125 = df[df['Station code'] == 125]"
   ]
  },
  {
   "cell_type": "code",
   "execution_count": null,
   "metadata": {},
   "outputs": [],
   "source": [
    "df_125.head()"
   ]
  },
  {
   "cell_type": "code",
   "execution_count": null,
   "metadata": {},
   "outputs": [],
   "source": [
    "for feature in features:\n",
    "    fig, ax = plt.subplots(figsize=(35,8))\n",
    "    fig.suptitle(\"Station 125\", fontsize=20)\n",
    "    ax.set_xlabel('Year, Day', fontsize=20)\n",
    "    sns.lineplot(x='Measurement date', y=feature, data=df_125)"
   ]
  },
  {
   "cell_type": "code",
   "execution_count": null,
   "metadata": {},
   "outputs": [],
   "source": []
  },
  {
   "cell_type": "code",
   "execution_count": null,
   "metadata": {},
   "outputs": [],
   "source": []
  },
  {
   "cell_type": "code",
   "execution_count": null,
   "metadata": {},
   "outputs": [],
   "source": []
  },
  {
   "cell_type": "markdown",
   "metadata": {},
   "source": [
    "# Visualizations"
   ]
  },
  {
   "cell_type": "code",
   "execution_count": null,
   "metadata": {},
   "outputs": [],
   "source": [
    "sns.countplot(x='NO2 Level',data=df, order=['Good', 'Normal', 'Bad'], color='red')"
   ]
  },
  {
   "cell_type": "code",
   "execution_count": null,
   "metadata": {},
   "outputs": [],
   "source": [
    "sns.countplot(x='PM10 Level',data=df, order=['Good', 'Normal', 'Bad', 'Very Bad'], color='brown')"
   ]
  },
  {
   "cell_type": "code",
   "execution_count": null,
   "metadata": {},
   "outputs": [],
   "source": [
    "sns.countplot(x='PM2.5 Level',data=df, order=['Good', 'Normal', 'Bad', 'Very Bad'], color='blue')"
   ]
  },
  {
   "cell_type": "code",
   "execution_count": null,
   "metadata": {},
   "outputs": [],
   "source": []
  }
 ],
 "metadata": {
  "kernelspec": {
   "display_name": "Python (learn-env)",
   "language": "python",
   "name": "learn-env"
  },
  "language_info": {
   "codemirror_mode": {
    "name": "ipython",
    "version": 3
   },
   "file_extension": ".py",
   "mimetype": "text/x-python",
   "name": "python",
   "nbconvert_exporter": "python",
   "pygments_lexer": "ipython3",
   "version": "3.8.5"
  }
 },
 "nbformat": 4,
 "nbformat_minor": 4
}
